{
 "cells": [
  {
   "cell_type": "markdown",
   "metadata": {},
   "source": [
    "## Outlier Analysis"
   ]
  },
  {
   "cell_type": "markdown",
   "metadata": {},
   "source": [
    "We will be using the Tukey Method to remove outliers.\n",
    "That is, we will examine the instances with values that lie 1.5\\*IQR below the 1st quartile or above the 3rd quartile. "
   ]
  },
  {
   "cell_type": "code",
   "execution_count": 27,
   "metadata": {},
   "outputs": [
    {
     "data": {
      "text/html": [
       "<ol class=list-inline>\n",
       "\t<li>506</li>\n",
       "\t<li>11</li>\n",
       "</ol>\n"
      ],
      "text/latex": [
       "\\begin{enumerate*}\n",
       "\\item 506\n",
       "\\item 11\n",
       "\\end{enumerate*}\n"
      ],
      "text/markdown": [
       "1. 506\n",
       "2. 11\n",
       "\n",
       "\n"
      ],
      "text/plain": [
       "[1] 506  11"
      ]
     },
     "metadata": {},
     "output_type": "display_data"
    }
   ],
   "source": [
    "boston_log_scaled <- read.csv('boston_log_scaled.csv')\n",
    "boston_log_scaled['X'] <- NULL\n",
    "dim(boston_log_scaled)"
   ]
  },
  {
   "cell_type": "code",
   "execution_count": 28,
   "metadata": {},
   "outputs": [
    {
     "data": {
      "text/html": [
       "<table>\n",
       "<thead><tr><th scope=col>CRIM</th><th scope=col>INDUS</th><th scope=col>NOX</th><th scope=col>RM</th><th scope=col>AGE</th><th scope=col>DIS</th><th scope=col>RAD</th><th scope=col>TAX</th><th scope=col>PTRATIO</th><th scope=col>B</th><th scope=col>LSTAT</th></tr></thead>\n",
       "<tbody>\n",
       "\t<tr><td>-1.9812674 </td><td>-1.7026586 </td><td>-0.04899171</td><td>0.4576943  </td><td> 0.14188774</td><td>0.4086998  </td><td>-2.1348765 </td><td>-0.6081371 </td><td>-1.4425494 </td><td>0.3022931  </td><td>-1.2739995 </td></tr>\n",
       "\t<tr><td>-1.3043481 </td><td>-0.2629788 </td><td>-0.73021967</td><td>0.2466931  </td><td> 0.45416732</td><td>0.7688007  </td><td>-1.3425573 </td><td>-1.1163074 </td><td>-0.2300505 </td><td>0.3022931  </td><td>-0.2634499 </td></tr>\n",
       "\t<tr><td>-1.3046869 </td><td>-0.2629788 </td><td>-0.73021967</td><td>1.2475534  </td><td> 0.03554534</td><td>0.7688007  </td><td>-1.3425573 </td><td>-1.1163074 </td><td>-0.2300505 </td><td>0.2889670  </td><td>-1.6262487 </td></tr>\n",
       "\t<tr><td>-1.2257286 </td><td>-1.7772063 </td><td>-0.84801420</td><td>1.0127782  </td><td>-0.43638638</td><td>1.1380675  </td><td>-0.8790803 </td><td>-1.3339352 </td><td> 0.1651151 </td><td>0.2948776  </td><td>-2.1510637 </td></tr>\n",
       "\t<tr><td>-0.8753211 </td><td>-1.7772063 </td><td>-0.84801420</td><td>1.2003437  </td><td>-0.16066070</td><td>1.1380675  </td><td>-0.8790803 </td><td>-1.3339352 </td><td> 0.1651151 </td><td>0.3022931  </td><td>-1.1609652 </td></tr>\n",
       "\t<tr><td>-1.2632149 </td><td>-1.7772063 </td><td>-0.84801420</td><td>0.2591629  </td><td>-0.03006705</td><td>1.1380675  </td><td>-0.8790803 </td><td>-1.3339352 </td><td> 0.1651151 </td><td>0.2932056  </td><td>-1.1988612 </td></tr>\n",
       "</tbody>\n",
       "</table>\n"
      ],
      "text/latex": [
       "\\begin{tabular}{r|lllllllllll}\n",
       " CRIM & INDUS & NOX & RM & AGE & DIS & RAD & TAX & PTRATIO & B & LSTAT\\\\\n",
       "\\hline\n",
       "\t -1.9812674  & -1.7026586  & -0.04899171 & 0.4576943   &  0.14188774 & 0.4086998   & -2.1348765  & -0.6081371  & -1.4425494  & 0.3022931   & -1.2739995 \\\\\n",
       "\t -1.3043481  & -0.2629788  & -0.73021967 & 0.2466931   &  0.45416732 & 0.7688007   & -1.3425573  & -1.1163074  & -0.2300505  & 0.3022931   & -0.2634499 \\\\\n",
       "\t -1.3046869  & -0.2629788  & -0.73021967 & 1.2475534   &  0.03554534 & 0.7688007   & -1.3425573  & -1.1163074  & -0.2300505  & 0.2889670   & -1.6262487 \\\\\n",
       "\t -1.2257286  & -1.7772063  & -0.84801420 & 1.0127782   & -0.43638638 & 1.1380675   & -0.8790803  & -1.3339352  &  0.1651151  & 0.2948776   & -2.1510637 \\\\\n",
       "\t -0.8753211  & -1.7772063  & -0.84801420 & 1.2003437   & -0.16066070 & 1.1380675   & -0.8790803  & -1.3339352  &  0.1651151  & 0.3022931   & -1.1609652 \\\\\n",
       "\t -1.2632149  & -1.7772063  & -0.84801420 & 0.2591629   & -0.03006705 & 1.1380675   & -0.8790803  & -1.3339352  &  0.1651151  & 0.2932056   & -1.1988612 \\\\\n",
       "\\end{tabular}\n"
      ],
      "text/markdown": [
       "\n",
       "CRIM | INDUS | NOX | RM | AGE | DIS | RAD | TAX | PTRATIO | B | LSTAT | \n",
       "|---|---|---|---|---|---|\n",
       "| -1.9812674  | -1.7026586  | -0.04899171 | 0.4576943   |  0.14188774 | 0.4086998   | -2.1348765  | -0.6081371  | -1.4425494  | 0.3022931   | -1.2739995  | \n",
       "| -1.3043481  | -0.2629788  | -0.73021967 | 0.2466931   |  0.45416732 | 0.7688007   | -1.3425573  | -1.1163074  | -0.2300505  | 0.3022931   | -0.2634499  | \n",
       "| -1.3046869  | -0.2629788  | -0.73021967 | 1.2475534   |  0.03554534 | 0.7688007   | -1.3425573  | -1.1163074  | -0.2300505  | 0.2889670   | -1.6262487  | \n",
       "| -1.2257286  | -1.7772063  | -0.84801420 | 1.0127782   | -0.43638638 | 1.1380675   | -0.8790803  | -1.3339352  |  0.1651151  | 0.2948776   | -2.1510637  | \n",
       "| -0.8753211  | -1.7772063  | -0.84801420 | 1.2003437   | -0.16066070 | 1.1380675   | -0.8790803  | -1.3339352  |  0.1651151  | 0.3022931   | -1.1609652  | \n",
       "| -1.2632149  | -1.7772063  | -0.84801420 | 0.2591629   | -0.03006705 | 1.1380675   | -0.8790803  | -1.3339352  |  0.1651151  | 0.2932056   | -1.1988612  | \n",
       "\n",
       "\n"
      ],
      "text/plain": [
       "  CRIM       INDUS      NOX         RM        AGE         DIS       RAD       \n",
       "1 -1.9812674 -1.7026586 -0.04899171 0.4576943  0.14188774 0.4086998 -2.1348765\n",
       "2 -1.3043481 -0.2629788 -0.73021967 0.2466931  0.45416732 0.7688007 -1.3425573\n",
       "3 -1.3046869 -0.2629788 -0.73021967 1.2475534  0.03554534 0.7688007 -1.3425573\n",
       "4 -1.2257286 -1.7772063 -0.84801420 1.0127782 -0.43638638 1.1380675 -0.8790803\n",
       "5 -0.8753211 -1.7772063 -0.84801420 1.2003437 -0.16066070 1.1380675 -0.8790803\n",
       "6 -1.2632149 -1.7772063 -0.84801420 0.2591629 -0.03006705 1.1380675 -0.8790803\n",
       "  TAX        PTRATIO    B         LSTAT     \n",
       "1 -0.6081371 -1.4425494 0.3022931 -1.2739995\n",
       "2 -1.1163074 -0.2300505 0.3022931 -0.2634499\n",
       "3 -1.1163074 -0.2300505 0.2889670 -1.6262487\n",
       "4 -1.3339352  0.1651151 0.2948776 -2.1510637\n",
       "5 -1.3339352  0.1651151 0.3022931 -1.1609652\n",
       "6 -1.3339352  0.1651151 0.2932056 -1.1988612"
      ]
     },
     "metadata": {},
     "output_type": "display_data"
    }
   ],
   "source": [
    "head(boston_log_scaled)"
   ]
  },
  {
   "cell_type": "code",
   "execution_count": 23,
   "metadata": {},
   "outputs": [],
   "source": [
    "display_outliers <- function(df, col, param = 1.5){\n",
    "    feature <- as.vector(df[[col]])\n",
    "    Q1 <- quantile(feature, 0.25)\n",
    "    Q3 <- quantile(feature, 0.75)\n",
    "    tukey_window <- param*(Q3-Q1)\n",
    "    low_bound <- df[[col]] < Q1 - tukey_window\n",
    "    up_bound <- df[[col]] > Q3 + tukey_window\n",
    "    tukey_mask <- (low_bound | up_bound)\n",
    "    return(df[tukey_mask,])\n",
    "}"
   ]
  },
  {
   "cell_type": "code",
   "execution_count": 30,
   "metadata": {},
   "outputs": [
    {
     "data": {
      "text/html": [
       "<table>\n",
       "<thead><tr><th></th><th scope=col>CRIM</th><th scope=col>INDUS</th><th scope=col>NOX</th><th scope=col>RM</th><th scope=col>AGE</th><th scope=col>DIS</th><th scope=col>RAD</th><th scope=col>TAX</th><th scope=col>PTRATIO</th><th scope=col>B</th><th scope=col>LSTAT</th></tr></thead>\n",
       "<tbody>\n",
       "\t<tr><th scope=row>57</th><td>-1.435886 </td><td>-3.167744 </td><td>-1.397500 </td><td>0.1938494 </td><td>-0.8443067</td><td>1.908681  </td><td>-1.3425573</td><td>-0.4672479</td><td>-0.4583125</td><td>0.3022931 </td><td>-1.028960 </td></tr>\n",
       "\t<tr><th scope=row>196</th><td>-1.619725 </td><td>-3.779625 </td><td>-1.254321 </td><td>2.0639136 </td><td>-1.0234577</td><td>1.007031  </td><td>-0.5502381</td><td>-0.9842937</td><td>-1.9282409</td><td>0.2935664 </td><td>-2.134168 </td></tr>\n",
       "</tbody>\n",
       "</table>\n"
      ],
      "text/latex": [
       "\\begin{tabular}{r|lllllllllll}\n",
       "  & CRIM & INDUS & NOX & RM & AGE & DIS & RAD & TAX & PTRATIO & B & LSTAT\\\\\n",
       "\\hline\n",
       "\t57 & -1.435886  & -3.167744  & -1.397500  & 0.1938494  & -0.8443067 & 1.908681   & -1.3425573 & -0.4672479 & -0.4583125 & 0.3022931  & -1.028960 \\\\\n",
       "\t196 & -1.619725  & -3.779625  & -1.254321  & 2.0639136  & -1.0234577 & 1.007031   & -0.5502381 & -0.9842937 & -1.9282409 & 0.2935664  & -2.134168 \\\\\n",
       "\\end{tabular}\n"
      ],
      "text/markdown": [
       "\n",
       "| <!--/--> | CRIM | INDUS | NOX | RM | AGE | DIS | RAD | TAX | PTRATIO | B | LSTAT | \n",
       "|---|---|\n",
       "| 57 | -1.435886  | -3.167744  | -1.397500  | 0.1938494  | -0.8443067 | 1.908681   | -1.3425573 | -0.4672479 | -0.4583125 | 0.3022931  | -1.028960  | \n",
       "| 196 | -1.619725  | -3.779625  | -1.254321  | 2.0639136  | -1.0234577 | 1.007031   | -0.5502381 | -0.9842937 | -1.9282409 | 0.2935664  | -2.134168  | \n",
       "\n",
       "\n"
      ],
      "text/plain": [
       "    CRIM      INDUS     NOX       RM        AGE        DIS      RAD       \n",
       "57  -1.435886 -3.167744 -1.397500 0.1938494 -0.8443067 1.908681 -1.3425573\n",
       "196 -1.619725 -3.779625 -1.254321 2.0639136 -1.0234577 1.007031 -0.5502381\n",
       "    TAX        PTRATIO    B         LSTAT    \n",
       "57  -0.4672479 -0.4583125 0.3022931 -1.028960\n",
       "196 -0.9842937 -1.9282409 0.2935664 -2.134168"
      ]
     },
     "metadata": {},
     "output_type": "display_data"
    }
   ],
   "source": [
    "display_outliers(boston_log_scaled, 'INDUS')"
   ]
  },
  {
   "cell_type": "markdown",
   "metadata": {},
   "source": [
    "`INDUS` has 2 outliers at indices `57` and `196`."
   ]
  },
  {
   "cell_type": "code",
   "execution_count": 31,
   "metadata": {},
   "outputs": [
    {
     "data": {
      "text/html": [
       "<table>\n",
       "<thead><tr><th scope=col>CRIM</th><th scope=col>INDUS</th><th scope=col>NOX</th><th scope=col>RM</th><th scope=col>AGE</th><th scope=col>DIS</th><th scope=col>RAD</th><th scope=col>TAX</th><th scope=col>PTRATIO</th><th scope=col>B</th><th scope=col>LSTAT</th></tr></thead>\n",
       "<tbody>\n",
       "</tbody>\n",
       "</table>\n"
      ],
      "text/latex": [
       "\\begin{tabular}{r|lllllllllll}\n",
       " CRIM & INDUS & NOX & RM & AGE & DIS & RAD & TAX & PTRATIO & B & LSTAT\\\\\n",
       "\\hline\n",
       "\\end{tabular}\n"
      ],
      "text/markdown": [
       "\n",
       "CRIM | INDUS | NOX | RM | AGE | DIS | RAD | TAX | PTRATIO | B | LSTAT | \n",
       "||\n",
       "\n",
       "\n"
      ],
      "text/plain": [
       "     CRIM INDUS NOX RM AGE DIS RAD TAX PTRATIO B LSTAT"
      ]
     },
     "metadata": {},
     "output_type": "display_data"
    }
   ],
   "source": [
    "display_outliers(boston_log_scaled, 'CRIM')"
   ]
  },
  {
   "cell_type": "markdown",
   "metadata": {},
   "source": [
    "`CRIM` does not have any values that fall out of the tukey window."
   ]
  },
  {
   "cell_type": "code",
   "execution_count": 32,
   "metadata": {},
   "outputs": [],
   "source": [
    "for (feature in colnames(boston_log_scaled)){\n",
    "    outlier_count <- dim(display_outliers(boston_log_scaled, feature))[1]\n",
    "    paste(feature, outlier_count)\n",
    "}"
   ]
  },
  {
   "cell_type": "code",
   "execution_count": 34,
   "metadata": {},
   "outputs": [],
   "source": [
    "raw_outliers = c()\n",
    "for (feature in colnames(boston_log_scaled)){\n",
    "    outlier_df <- display_outliers(boston_log_scaled, feature)\n",
    "    outlier_indices <- rownames(outlier_df)\n",
    "    raw_outliers <- c(raw_outliers, outlier_indices)\n",
    "}"
   ]
  },
  {
   "cell_type": "code",
   "execution_count": 40,
   "metadata": {},
   "outputs": [
    {
     "data": {
      "text/html": [
       "<table>\n",
       "<thead><tr><th scope=col>raw_outliers</th><th scope=col>Freq</th></tr></thead>\n",
       "<tbody>\n",
       "\t<tr><td>103</td><td>1  </td></tr>\n",
       "\t<tr><td>116</td><td>1  </td></tr>\n",
       "\t<tr><td>119</td><td>1  </td></tr>\n",
       "\t<tr><td>135</td><td>1  </td></tr>\n",
       "\t<tr><td>145</td><td>1  </td></tr>\n",
       "\t<tr><td>146</td><td>1  </td></tr>\n",
       "</tbody>\n",
       "</table>\n"
      ],
      "text/latex": [
       "\\begin{tabular}{r|ll}\n",
       " raw\\_outliers & Freq\\\\\n",
       "\\hline\n",
       "\t 103 & 1  \\\\\n",
       "\t 116 & 1  \\\\\n",
       "\t 119 & 1  \\\\\n",
       "\t 135 & 1  \\\\\n",
       "\t 145 & 1  \\\\\n",
       "\t 146 & 1  \\\\\n",
       "\\end{tabular}\n"
      ],
      "text/markdown": [
       "\n",
       "raw_outliers | Freq | \n",
       "|---|---|---|---|---|---|\n",
       "| 103 | 1   | \n",
       "| 116 | 1   | \n",
       "| 119 | 1   | \n",
       "| 135 | 1   | \n",
       "| 145 | 1   | \n",
       "| 146 | 1   | \n",
       "\n",
       "\n"
      ],
      "text/plain": [
       "  raw_outliers Freq\n",
       "1 103          1   \n",
       "2 116          1   \n",
       "3 119          1   \n",
       "4 135          1   \n",
       "5 145          1   \n",
       "6 146          1   "
      ]
     },
     "metadata": {},
     "output_type": "display_data"
    }
   ],
   "source": [
    "outlier_counts <- as.data.frame(table(raw_outliers))\n",
    "head(outlier_counts)"
   ]
  },
  {
   "cell_type": "code",
   "execution_count": 50,
   "metadata": {},
   "outputs": [
    {
     "data": {
      "text/html": [
       "<table>\n",
       "<thead><tr><th></th><th scope=col>raw_outliers</th><th scope=col>Freq</th></tr></thead>\n",
       "<tbody>\n",
       "\t<tr><th scope=row>42</th><td>254</td><td>2  </td></tr>\n",
       "\t<tr><th scope=row>43</th><td>258</td><td>2  </td></tr>\n",
       "\t<tr><th scope=row>49</th><td>263</td><td>2  </td></tr>\n",
       "\t<tr><th scope=row>54</th><td>268</td><td>2  </td></tr>\n",
       "\t<tr><th scope=row>57</th><td>284</td><td>2  </td></tr>\n",
       "\t<tr><th scope=row>66</th><td>368</td><td>2  </td></tr>\n",
       "</tbody>\n",
       "</table>\n"
      ],
      "text/latex": [
       "\\begin{tabular}{r|ll}\n",
       "  & raw\\_outliers & Freq\\\\\n",
       "\\hline\n",
       "\t42 & 254 & 2  \\\\\n",
       "\t43 & 258 & 2  \\\\\n",
       "\t49 & 263 & 2  \\\\\n",
       "\t54 & 268 & 2  \\\\\n",
       "\t57 & 284 & 2  \\\\\n",
       "\t66 & 368 & 2  \\\\\n",
       "\\end{tabular}\n"
      ],
      "text/markdown": [
       "\n",
       "| <!--/--> | raw_outliers | Freq | \n",
       "|---|---|---|---|---|---|\n",
       "| 42 | 254 | 2   | \n",
       "| 43 | 258 | 2   | \n",
       "| 49 | 263 | 2   | \n",
       "| 54 | 268 | 2   | \n",
       "| 57 | 284 | 2   | \n",
       "| 66 | 368 | 2   | \n",
       "\n",
       "\n"
      ],
      "text/plain": [
       "   raw_outliers Freq\n",
       "42 254          2   \n",
       "43 258          2   \n",
       "49 263          2   \n",
       "54 268          2   \n",
       "57 284          2   \n",
       "66 368          2   "
      ]
     },
     "metadata": {},
     "output_type": "display_data"
    }
   ],
   "source": [
    "mult_outlier <- outlier_counts[which(outlier_counts$Freq > 1),]\n",
    "\n",
    "head(mult_outlier)"
   ]
  },
  {
   "cell_type": "markdown",
   "metadata": {},
   "source": [
    "   This shows us at which indices in the `boston_log_scaled` dataframe have instances where there were more than 1 outlier in that row."
   ]
  },
  {
   "cell_type": "code",
   "execution_count": null,
   "metadata": {},
   "outputs": [],
   "source": []
  }
 ],
 "metadata": {
  "kernelspec": {
   "display_name": "R",
   "language": "R",
   "name": "ir"
  },
  "language_info": {
   "codemirror_mode": "r",
   "file_extension": ".r",
   "mimetype": "text/x-r-source",
   "name": "R",
   "pygments_lexer": "r",
   "version": "3.3.2"
  }
 },
 "nbformat": 4,
 "nbformat_minor": 2
}
