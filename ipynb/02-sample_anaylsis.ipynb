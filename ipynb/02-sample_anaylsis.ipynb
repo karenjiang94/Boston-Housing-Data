{
 "cells": [
  {
   "cell_type": "markdown",
   "metadata": {},
   "source": [
    "## Sample Analysis"
   ]
  },
  {
   "cell_type": "code",
   "execution_count": 1,
   "metadata": {},
   "outputs": [],
   "source": [
    "library(dplyr, warn.conflicts = FALSE)"
   ]
  },
  {
   "cell_type": "code",
   "execution_count": 2,
   "metadata": {},
   "outputs": [
    {
     "name": "stderr",
     "output_type": "stream",
     "text": [
      "Updating HTML index of packages in '.Library'\n",
      "Making 'packages.html' ... done\n"
     ]
    }
   ],
   "source": [
    "install.packages(\"psych\")\n",
    "library(\"psych\")"
   ]
  },
  {
   "cell_type": "code",
   "execution_count": 3,
   "metadata": {},
   "outputs": [
    {
     "name": "stderr",
     "output_type": "stream",
     "text": [
      "\n",
      "Attaching package: ‘ggplot2’\n",
      "\n",
      "The following objects are masked from ‘package:psych’:\n",
      "\n",
      "    %+%, alpha\n",
      "\n"
     ]
    }
   ],
   "source": [
    "library(ggplot2)\n",
    "library(reshape2)"
   ]
  },
  {
   "cell_type": "code",
   "execution_count": 4,
   "metadata": {},
   "outputs": [],
   "source": [
    "boston <- read.table('https://archive.ics.uci.edu/ml/machine-learning-databases/housing/housing.data')"
   ]
  },
  {
   "cell_type": "code",
   "execution_count": 5,
   "metadata": {},
   "outputs": [
    {
     "data": {
      "text/html": [
       "<table>\n",
       "<thead><tr><th></th><th scope=col>features</th><th scope=col>n</th><th scope=col>mean</th><th scope=col>sd</th><th scope=col>median</th><th scope=col>min</th><th scope=col>max</th><th scope=col>range</th><th scope=col>skew</th><th scope=col>kurtosis</th><th scope=col>se</th></tr></thead>\n",
       "<tbody>\n",
       "\t<tr><th scope=row>V1</th><td>CRIM        </td><td>506         </td><td>  3.61352356</td><td>  8.6015451 </td><td>  0.25651   </td><td>  0.00632   </td><td> 88.9762    </td><td> 88.96988   </td><td> 5.1922223  </td><td>36.59581589 </td><td>0.382385321 </td></tr>\n",
       "\t<tr><th scope=row>V2</th><td>ZN          </td><td>506         </td><td> 11.36363636</td><td> 23.3224530 </td><td>  0.00000   </td><td>  0.00000   </td><td>100.0000    </td><td>100.00000   </td><td> 2.2124881  </td><td> 3.95238731 </td><td>1.036809500 </td></tr>\n",
       "\t<tr><th scope=row>V3</th><td>INDUS       </td><td>506         </td><td> 11.13677866</td><td>  6.8603529 </td><td>  9.69000   </td><td>  0.46000   </td><td> 27.7400    </td><td> 27.28000   </td><td> 0.2932747  </td><td>-1.24019490 </td><td>0.304979888 </td></tr>\n",
       "\t<tr><th scope=row>V4</th><td>CHAS        </td><td>506         </td><td>  0.06916996</td><td>  0.2539940 </td><td>  0.00000   </td><td>  0.00000   </td><td>  1.0000    </td><td>  1.00000   </td><td> 3.3857377  </td><td> 9.48197035 </td><td>0.011291412 </td></tr>\n",
       "\t<tr><th scope=row>V5</th><td>NOX         </td><td>506         </td><td>  0.55469506</td><td>  0.1158777 </td><td>  0.53800   </td><td>  0.38500   </td><td>  0.8710    </td><td>  0.48600   </td><td> 0.7249897  </td><td>-0.08741064 </td><td>0.005151391 </td></tr>\n",
       "\t<tr><th scope=row>V6</th><td>RM          </td><td>506         </td><td>  6.28463439</td><td>  0.7026171 </td><td>  6.20850   </td><td>  3.56100   </td><td>  8.7800    </td><td>  5.21900   </td><td> 0.4012223  </td><td> 1.84183241 </td><td>0.031235142 </td></tr>\n",
       "\t<tr><th scope=row>V7</th><td>AGE         </td><td>506         </td><td> 68.57490119</td><td> 28.1488614 </td><td> 77.50000   </td><td>  2.90000   </td><td>100.0000    </td><td> 97.10000   </td><td>-0.5954162  </td><td>-0.97802966 </td><td>1.251369525 </td></tr>\n",
       "\t<tr><th scope=row>V8</th><td>DIS         </td><td>506         </td><td>  3.79504269</td><td>  2.1057101 </td><td>  3.20745   </td><td>  1.12960   </td><td> 12.1265    </td><td> 10.99690   </td><td> 1.0057898  </td><td> 0.45759158 </td><td>0.093610233 </td></tr>\n",
       "\t<tr><th scope=row>V9</th><td>RAD         </td><td>506         </td><td>  9.54940711</td><td>  8.7072594 </td><td>  5.00000   </td><td>  1.00000   </td><td> 24.0000    </td><td> 23.00000   </td><td> 0.9988651  </td><td>-0.87892910 </td><td>0.387084894 </td></tr>\n",
       "\t<tr><th scope=row>V10</th><td>TAX         </td><td>506         </td><td>408.23715415</td><td>168.5371161 </td><td>330.00000   </td><td>187.00000   </td><td>711.0000    </td><td>524.00000   </td><td> 0.6659891  </td><td>-1.15031761 </td><td>7.492388692 </td></tr>\n",
       "\t<tr><th scope=row>V11</th><td>PTRATIO     </td><td>506         </td><td> 18.45553360</td><td>  2.1649455 </td><td> 19.05000   </td><td> 12.60000   </td><td> 22.0000    </td><td>  9.40000   </td><td>-0.7975743  </td><td>-0.30480100 </td><td>0.096243568 </td></tr>\n",
       "\t<tr><th scope=row>V12</th><td>B           </td><td>506         </td><td>356.67403162</td><td> 91.2948644 </td><td>391.44000   </td><td>  0.32000   </td><td>396.9000    </td><td>396.58000   </td><td>-2.8732597  </td><td> 7.10371496 </td><td>4.058551763 </td></tr>\n",
       "\t<tr><th scope=row>V13</th><td>LSTAT       </td><td>506         </td><td> 12.65306324</td><td>  7.1410615 </td><td> 11.36000   </td><td>  1.73000   </td><td> 37.9700    </td><td> 36.24000   </td><td> 0.9010929  </td><td> 0.46281705 </td><td>0.317458906 </td></tr>\n",
       "\t<tr><th scope=row>V14</th><td>MEDV        </td><td>506         </td><td> 22.53280632</td><td>  9.1971041 </td><td> 21.20000   </td><td>  5.00000   </td><td> 50.0000    </td><td> 45.00000   </td><td> 1.1015373  </td><td> 1.45098366 </td><td>0.408861147 </td></tr>\n",
       "</tbody>\n",
       "</table>\n"
      ],
      "text/latex": [
       "\\begin{tabular}{r|lllllllllll}\n",
       "  & features & n & mean & sd & median & min & max & range & skew & kurtosis & se\\\\\n",
       "\\hline\n",
       "\tV1 & CRIM         & 506          &   3.61352356 &   8.6015451  &   0.25651    &   0.00632    &  88.9762     &  88.96988    &  5.1922223   & 36.59581589  & 0.382385321 \\\\\n",
       "\tV2 & ZN           & 506          &  11.36363636 &  23.3224530  &   0.00000    &   0.00000    & 100.0000     & 100.00000    &  2.2124881   &  3.95238731  & 1.036809500 \\\\\n",
       "\tV3 & INDUS        & 506          &  11.13677866 &   6.8603529  &   9.69000    &   0.46000    &  27.7400     &  27.28000    &  0.2932747   & -1.24019490  & 0.304979888 \\\\\n",
       "\tV4 & CHAS         & 506          &   0.06916996 &   0.2539940  &   0.00000    &   0.00000    &   1.0000     &   1.00000    &  3.3857377   &  9.48197035  & 0.011291412 \\\\\n",
       "\tV5 & NOX          & 506          &   0.55469506 &   0.1158777  &   0.53800    &   0.38500    &   0.8710     &   0.48600    &  0.7249897   & -0.08741064  & 0.005151391 \\\\\n",
       "\tV6 & RM           & 506          &   6.28463439 &   0.7026171  &   6.20850    &   3.56100    &   8.7800     &   5.21900    &  0.4012223   &  1.84183241  & 0.031235142 \\\\\n",
       "\tV7 & AGE          & 506          &  68.57490119 &  28.1488614  &  77.50000    &   2.90000    & 100.0000     &  97.10000    & -0.5954162   & -0.97802966  & 1.251369525 \\\\\n",
       "\tV8 & DIS          & 506          &   3.79504269 &   2.1057101  &   3.20745    &   1.12960    &  12.1265     &  10.99690    &  1.0057898   &  0.45759158  & 0.093610233 \\\\\n",
       "\tV9 & RAD          & 506          &   9.54940711 &   8.7072594  &   5.00000    &   1.00000    &  24.0000     &  23.00000    &  0.9988651   & -0.87892910  & 0.387084894 \\\\\n",
       "\tV10 & TAX          & 506          & 408.23715415 & 168.5371161  & 330.00000    & 187.00000    & 711.0000     & 524.00000    &  0.6659891   & -1.15031761  & 7.492388692 \\\\\n",
       "\tV11 & PTRATIO      & 506          &  18.45553360 &   2.1649455  &  19.05000    &  12.60000    &  22.0000     &   9.40000    & -0.7975743   & -0.30480100  & 0.096243568 \\\\\n",
       "\tV12 & B            & 506          & 356.67403162 &  91.2948644  & 391.44000    &   0.32000    & 396.9000     & 396.58000    & -2.8732597   &  7.10371496  & 4.058551763 \\\\\n",
       "\tV13 & LSTAT        & 506          &  12.65306324 &   7.1410615  &  11.36000    &   1.73000    &  37.9700     &  36.24000    &  0.9010929   &  0.46281705  & 0.317458906 \\\\\n",
       "\tV14 & MEDV         & 506          &  22.53280632 &   9.1971041  &  21.20000    &   5.00000    &  50.0000     &  45.00000    &  1.1015373   &  1.45098366  & 0.408861147 \\\\\n",
       "\\end{tabular}\n"
      ],
      "text/markdown": [
       "\n",
       "| <!--/--> | features | n | mean | sd | median | min | max | range | skew | kurtosis | se | \n",
       "|---|---|---|---|---|---|---|---|---|---|---|---|---|---|\n",
       "| V1 | CRIM         | 506          |   3.61352356 |   8.6015451  |   0.25651    |   0.00632    |  88.9762     |  88.96988    |  5.1922223   | 36.59581589  | 0.382385321  | \n",
       "| V2 | ZN           | 506          |  11.36363636 |  23.3224530  |   0.00000    |   0.00000    | 100.0000     | 100.00000    |  2.2124881   |  3.95238731  | 1.036809500  | \n",
       "| V3 | INDUS        | 506          |  11.13677866 |   6.8603529  |   9.69000    |   0.46000    |  27.7400     |  27.28000    |  0.2932747   | -1.24019490  | 0.304979888  | \n",
       "| V4 | CHAS         | 506          |   0.06916996 |   0.2539940  |   0.00000    |   0.00000    |   1.0000     |   1.00000    |  3.3857377   |  9.48197035  | 0.011291412  | \n",
       "| V5 | NOX          | 506          |   0.55469506 |   0.1158777  |   0.53800    |   0.38500    |   0.8710     |   0.48600    |  0.7249897   | -0.08741064  | 0.005151391  | \n",
       "| V6 | RM           | 506          |   6.28463439 |   0.7026171  |   6.20850    |   3.56100    |   8.7800     |   5.21900    |  0.4012223   |  1.84183241  | 0.031235142  | \n",
       "| V7 | AGE          | 506          |  68.57490119 |  28.1488614  |  77.50000    |   2.90000    | 100.0000     |  97.10000    | -0.5954162   | -0.97802966  | 1.251369525  | \n",
       "| V8 | DIS          | 506          |   3.79504269 |   2.1057101  |   3.20745    |   1.12960    |  12.1265     |  10.99690    |  1.0057898   |  0.45759158  | 0.093610233  | \n",
       "| V9 | RAD          | 506          |   9.54940711 |   8.7072594  |   5.00000    |   1.00000    |  24.0000     |  23.00000    |  0.9988651   | -0.87892910  | 0.387084894  | \n",
       "| V10 | TAX          | 506          | 408.23715415 | 168.5371161  | 330.00000    | 187.00000    | 711.0000     | 524.00000    |  0.6659891   | -1.15031761  | 7.492388692  | \n",
       "| V11 | PTRATIO      | 506          |  18.45553360 |   2.1649455  |  19.05000    |  12.60000    |  22.0000     |   9.40000    | -0.7975743   | -0.30480100  | 0.096243568  | \n",
       "| V12 | B            | 506          | 356.67403162 |  91.2948644  | 391.44000    |   0.32000    | 396.9000     | 396.58000    | -2.8732597   |  7.10371496  | 4.058551763  | \n",
       "| V13 | LSTAT        | 506          |  12.65306324 |   7.1410615  |  11.36000    |   1.73000    |  37.9700     |  36.24000    |  0.9010929   |  0.46281705  | 0.317458906  | \n",
       "| V14 | MEDV         | 506          |  22.53280632 |   9.1971041  |  21.20000    |   5.00000    |  50.0000     |  45.00000    |  1.1015373   |  1.45098366  | 0.408861147  | \n",
       "\n",
       "\n"
      ],
      "text/plain": [
       "    features n   mean         sd          median    min       max     \n",
       "V1  CRIM     506   3.61352356   8.6015451   0.25651   0.00632  88.9762\n",
       "V2  ZN       506  11.36363636  23.3224530   0.00000   0.00000 100.0000\n",
       "V3  INDUS    506  11.13677866   6.8603529   9.69000   0.46000  27.7400\n",
       "V4  CHAS     506   0.06916996   0.2539940   0.00000   0.00000   1.0000\n",
       "V5  NOX      506   0.55469506   0.1158777   0.53800   0.38500   0.8710\n",
       "V6  RM       506   6.28463439   0.7026171   6.20850   3.56100   8.7800\n",
       "V7  AGE      506  68.57490119  28.1488614  77.50000   2.90000 100.0000\n",
       "V8  DIS      506   3.79504269   2.1057101   3.20745   1.12960  12.1265\n",
       "V9  RAD      506   9.54940711   8.7072594   5.00000   1.00000  24.0000\n",
       "V10 TAX      506 408.23715415 168.5371161 330.00000 187.00000 711.0000\n",
       "V11 PTRATIO  506  18.45553360   2.1649455  19.05000  12.60000  22.0000\n",
       "V12 B        506 356.67403162  91.2948644 391.44000   0.32000 396.9000\n",
       "V13 LSTAT    506  12.65306324   7.1410615  11.36000   1.73000  37.9700\n",
       "V14 MEDV     506  22.53280632   9.1971041  21.20000   5.00000  50.0000\n",
       "    range     skew       kurtosis    se         \n",
       "V1   88.96988  5.1922223 36.59581589 0.382385321\n",
       "V2  100.00000  2.2124881  3.95238731 1.036809500\n",
       "V3   27.28000  0.2932747 -1.24019490 0.304979888\n",
       "V4    1.00000  3.3857377  9.48197035 0.011291412\n",
       "V5    0.48600  0.7249897 -0.08741064 0.005151391\n",
       "V6    5.21900  0.4012223  1.84183241 0.031235142\n",
       "V7   97.10000 -0.5954162 -0.97802966 1.251369525\n",
       "V8   10.99690  1.0057898  0.45759158 0.093610233\n",
       "V9   23.00000  0.9988651 -0.87892910 0.387084894\n",
       "V10 524.00000  0.6659891 -1.15031761 7.492388692\n",
       "V11   9.40000 -0.7975743 -0.30480100 0.096243568\n",
       "V12 396.58000 -2.8732597  7.10371496 4.058551763\n",
       "V13  36.24000  0.9010929  0.46281705 0.317458906\n",
       "V14  45.00000  1.1015373  1.45098366 0.408861147"
      ]
     },
     "metadata": {},
     "output_type": "display_data"
    }
   ],
   "source": [
    "features <- c('CRIM', 'ZN', 'INDUS', 'CHAS', 'NOX', 'RM', 'AGE', 'DIS', 'RAD', 'TAX', 'PTRATIO', 'B', 'LSTAT', 'MEDV')\n",
    "boston_stats <- data.frame(features)\n",
    "stats <- describe(boston)\n",
    "stats$vars <- NULL; stats$trimmed <- NULL; stats$mad <- NULL;\n",
    "boston_stats <- cbind(boston_stats, stats)\n",
    "boston_stats"
   ]
  },
  {
   "cell_type": "markdown",
   "metadata": {},
   "source": [
    "#### Data subset (n = 5)"
   ]
  },
  {
   "cell_type": "code",
   "execution_count": 6,
   "metadata": {},
   "outputs": [],
   "source": [
    "randomSample = function(df, n){\n",
    "    return (df[sample(nrow(df), n),])\n",
    "}"
   ]
  },
  {
   "cell_type": "code",
   "execution_count": 7,
   "metadata": {},
   "outputs": [
    {
     "data": {
      "text/html": [
       "<table>\n",
       "<thead><tr><th></th><th scope=col>CRIM</th><th scope=col>ZN</th><th scope=col>INDUS</th><th scope=col>CHAS</th><th scope=col>NOX</th><th scope=col>RM</th><th scope=col>AGE</th><th scope=col>DIS</th><th scope=col>RAD</th><th scope=col>TAX</th><th scope=col>PTRATIO</th><th scope=col>B</th><th scope=col>LSTAT</th><th scope=col>MEDV</th></tr></thead>\n",
       "<tbody>\n",
       "\t<tr><th scope=row>375</th><td>18.49820</td><td> 0      </td><td>18.10   </td><td>0       </td><td>0.668   </td><td>4.138   </td><td>100.0   </td><td>1.1370  </td><td>24      </td><td>666     </td><td>20.2    </td><td>396.90  </td><td>37.97   </td><td>13.8    </td></tr>\n",
       "\t<tr><th scope=row>311</th><td> 2.63548</td><td> 0      </td><td> 9.90   </td><td>0       </td><td>0.544   </td><td>4.973   </td><td> 37.8   </td><td>2.5194  </td><td> 4      </td><td>304     </td><td>18.4    </td><td>350.45  </td><td>12.64   </td><td>16.1    </td></tr>\n",
       "\t<tr><th scope=row>306</th><td> 0.05479</td><td>33      </td><td> 2.18   </td><td>0       </td><td>0.472   </td><td>6.616   </td><td> 58.1   </td><td>3.3700  </td><td> 7      </td><td>222     </td><td>18.4    </td><td>393.36  </td><td> 8.93   </td><td>28.4    </td></tr>\n",
       "\t<tr><th scope=row>147</th><td> 2.15505</td><td> 0      </td><td>19.58   </td><td>0       </td><td>0.871   </td><td>5.628   </td><td>100.0   </td><td>1.5166  </td><td> 5      </td><td>403     </td><td>14.7    </td><td>169.27  </td><td>16.65   </td><td>15.6    </td></tr>\n",
       "\t<tr><th scope=row>137</th><td> 0.32264</td><td> 0      </td><td>21.89   </td><td>0       </td><td>0.624   </td><td>5.942   </td><td> 93.5   </td><td>1.9669  </td><td> 4      </td><td>437     </td><td>21.2    </td><td>378.25  </td><td>16.90   </td><td>17.4    </td></tr>\n",
       "</tbody>\n",
       "</table>\n"
      ],
      "text/latex": [
       "\\begin{tabular}{r|llllllllllllll}\n",
       "  & CRIM & ZN & INDUS & CHAS & NOX & RM & AGE & DIS & RAD & TAX & PTRATIO & B & LSTAT & MEDV\\\\\n",
       "\\hline\n",
       "\t375 & 18.49820 &  0       & 18.10    & 0        & 0.668    & 4.138    & 100.0    & 1.1370   & 24       & 666      & 20.2     & 396.90   & 37.97    & 13.8    \\\\\n",
       "\t311 &  2.63548 &  0       &  9.90    & 0        & 0.544    & 4.973    &  37.8    & 2.5194   &  4       & 304      & 18.4     & 350.45   & 12.64    & 16.1    \\\\\n",
       "\t306 &  0.05479 & 33       &  2.18    & 0        & 0.472    & 6.616    &  58.1    & 3.3700   &  7       & 222      & 18.4     & 393.36   &  8.93    & 28.4    \\\\\n",
       "\t147 &  2.15505 &  0       & 19.58    & 0        & 0.871    & 5.628    & 100.0    & 1.5166   &  5       & 403      & 14.7     & 169.27   & 16.65    & 15.6    \\\\\n",
       "\t137 &  0.32264 &  0       & 21.89    & 0        & 0.624    & 5.942    &  93.5    & 1.9669   &  4       & 437      & 21.2     & 378.25   & 16.90    & 17.4    \\\\\n",
       "\\end{tabular}\n"
      ],
      "text/markdown": [
       "\n",
       "| <!--/--> | CRIM | ZN | INDUS | CHAS | NOX | RM | AGE | DIS | RAD | TAX | PTRATIO | B | LSTAT | MEDV | \n",
       "|---|---|---|---|---|\n",
       "| 375 | 18.49820 |  0       | 18.10    | 0        | 0.668    | 4.138    | 100.0    | 1.1370   | 24       | 666      | 20.2     | 396.90   | 37.97    | 13.8     | \n",
       "| 311 |  2.63548 |  0       |  9.90    | 0        | 0.544    | 4.973    |  37.8    | 2.5194   |  4       | 304      | 18.4     | 350.45   | 12.64    | 16.1     | \n",
       "| 306 |  0.05479 | 33       |  2.18    | 0        | 0.472    | 6.616    |  58.1    | 3.3700   |  7       | 222      | 18.4     | 393.36   |  8.93    | 28.4     | \n",
       "| 147 |  2.15505 |  0       | 19.58    | 0        | 0.871    | 5.628    | 100.0    | 1.5166   |  5       | 403      | 14.7     | 169.27   | 16.65    | 15.6     | \n",
       "| 137 |  0.32264 |  0       | 21.89    | 0        | 0.624    | 5.942    |  93.5    | 1.9669   |  4       | 437      | 21.2     | 378.25   | 16.90    | 17.4     | \n",
       "\n",
       "\n"
      ],
      "text/plain": [
       "    CRIM     ZN INDUS CHAS NOX   RM    AGE   DIS    RAD TAX PTRATIO B     \n",
       "375 18.49820  0 18.10 0    0.668 4.138 100.0 1.1370 24  666 20.2    396.90\n",
       "311  2.63548  0  9.90 0    0.544 4.973  37.8 2.5194  4  304 18.4    350.45\n",
       "306  0.05479 33  2.18 0    0.472 6.616  58.1 3.3700  7  222 18.4    393.36\n",
       "147  2.15505  0 19.58 0    0.871 5.628 100.0 1.5166  5  403 14.7    169.27\n",
       "137  0.32264  0 21.89 0    0.624 5.942  93.5 1.9669  4  437 21.2    378.25\n",
       "    LSTAT MEDV\n",
       "375 37.97 13.8\n",
       "311 12.64 16.1\n",
       "306  8.93 28.4\n",
       "147 16.65 15.6\n",
       "137 16.90 17.4"
      ]
     },
     "metadata": {},
     "output_type": "display_data"
    }
   ],
   "source": [
    "samp <- randomSample(boston,5)\n",
    "colnames(samp) <- features\n",
    "samp"
   ]
  },
  {
   "cell_type": "markdown",
   "metadata": {},
   "source": [
    "### Data Description \n",
    "\n",
    "The 2nd sample might be representative of a new, up-and-coming,  wealthy, but sparsely populated neighborhood. It has low crime rates `CRIM` = 0.04 , as well as a low pupil-to-teacher ratio `PTRATIO` = 16.9. It has the smallest proportion of owner-occupied units built prior the  1940s `AGE`. \n",
    "\n",
    "The 3rd sample `221` might be representative of a *downtown* region in Boston.  It has a small `DIS` value, which is the distance to five Boston employment centers. It also has the highest `MEDV` value of all 5 sampled, meaning housing in that region is the most expensive. \n",
    "\n",
    "The 5th sample, `479` is perhaps the most distinctive of the 5 sampled. It might be representative of an *urban area*.\n",
    "It has a high proportion of non-retail businesses (perhaps highly residential, heavily populated). It has significantly higher nitrous oxide `NOX` levels and full-value property-tax rate `TAX`. The pupil to teacher ratio is also on the higher end. It also has the highest `RAD` value meaning that it is easily accessible to radial highways. As typical for the an urban city region, it has a high `LSTAT` value, meaning that there is a larger percent of lower-status individuals in the population.\n",
    "\n",
    "** Minor note, I definitely forgot to set a seed when I randomized these samples. So, these data descriptions might not reflect the displayed sample after running the code again."
   ]
  },
  {
   "cell_type": "code",
   "execution_count": 8,
   "metadata": {},
   "outputs": [
    {
     "data": {
      "text/html": [
       "<table>\n",
       "<thead><tr><th></th><th scope=col>features</th><th scope=col>n</th><th scope=col>mean</th><th scope=col>sd</th><th scope=col>median</th><th scope=col>min</th><th scope=col>max</th><th scope=col>range</th><th scope=col>skew</th><th scope=col>kurtosis</th><th scope=col>se</th></tr></thead>\n",
       "<tbody>\n",
       "\t<tr><th scope=row>CRIM</th><td>CRIM       </td><td>5          </td><td>  4.733232 </td><td>  7.7759738</td><td>  2.15505  </td><td>  0.05479  </td><td> 18.4982   </td><td> 18.44341  </td><td> 1.0181365 </td><td>-0.9857503 </td><td> 3.47752118</td></tr>\n",
       "\t<tr><th scope=row>ZN</th><td>ZN         </td><td>5          </td><td>  6.600000 </td><td> 14.7580487</td><td>  0.00000  </td><td>  0.00000  </td><td> 33.0000   </td><td> 33.00000  </td><td> 1.0733126 </td><td>-0.9200000 </td><td> 6.60000000</td></tr>\n",
       "\t<tr><th scope=row>INDUS</th><td>INDUS      </td><td>5          </td><td> 14.330000 </td><td>  8.1574567</td><td> 18.10000  </td><td>  2.18000  </td><td> 21.8900   </td><td> 19.71000  </td><td>-0.4606169 </td><td>-1.8073590 </td><td> 3.64812555</td></tr>\n",
       "\t<tr><th scope=row>CHAS</th><td>CHAS       </td><td>5          </td><td>  0.000000 </td><td>  0.0000000</td><td>  0.00000  </td><td>  0.00000  </td><td>  0.0000   </td><td>  0.00000  </td><td>       NaN </td><td>       NaN </td><td> 0.00000000</td></tr>\n",
       "\t<tr><th scope=row>NOX</th><td>NOX        </td><td>5          </td><td>  0.635800 </td><td>  0.1514536</td><td>  0.62400  </td><td>  0.47200  </td><td>  0.8710   </td><td>  0.39900  </td><td> 0.4533200 </td><td>-1.5357404 </td><td> 0.06773212</td></tr>\n",
       "\t<tr><th scope=row>RM</th><td>RM         </td><td>5          </td><td>  5.459400 </td><td>  0.9462736</td><td>  5.62800  </td><td>  4.13800  </td><td>  6.6160   </td><td>  2.47800  </td><td>-0.1789079 </td><td>-1.7654337 </td><td> 0.42318644</td></tr>\n",
       "\t<tr><th scope=row>AGE</th><td>AGE        </td><td>5          </td><td> 77.880000 </td><td> 28.3735264</td><td> 93.50000  </td><td> 37.80000  </td><td>100.0000   </td><td> 62.20000  </td><td>-0.4085948 </td><td>-1.9903168 </td><td>12.68902676</td></tr>\n",
       "\t<tr><th scope=row>DIS</th><td>DIS        </td><td>5          </td><td>  2.101980 </td><td>  0.8766722</td><td>  1.96690  </td><td>  1.13700  </td><td>  3.3700   </td><td>  2.23300  </td><td> 0.2997804 </td><td>-1.7808929 </td><td> 0.39205975</td></tr>\n",
       "\t<tr><th scope=row>RAD</th><td>RAD        </td><td>5          </td><td>  8.800000 </td><td>  8.5848704</td><td>  5.00000  </td><td>  4.00000  </td><td> 24.0000   </td><td> 20.00000  </td><td> 1.0209877 </td><td>-0.9873603 </td><td> 3.83927076</td></tr>\n",
       "\t<tr><th scope=row>TAX</th><td>TAX        </td><td>5          </td><td>406.400000 </td><td>167.9502903</td><td>403.00000  </td><td>222.00000  </td><td>666.0000   </td><td>444.00000  </td><td> 0.4297549 </td><td>-1.5398739 </td><td>75.10965317</td></tr>\n",
       "\t<tr><th scope=row>PTRATIO</th><td>PTRATIO    </td><td>5          </td><td> 18.580000 </td><td>  2.4803226</td><td> 18.40000  </td><td> 14.70000  </td><td> 21.2000   </td><td>  6.50000  </td><td>-0.4742986 </td><td>-1.5169564 </td><td> 1.10923397</td></tr>\n",
       "\t<tr><th scope=row>B</th><td>B          </td><td>5          </td><td>337.646000 </td><td> 95.8882043</td><td>378.25000  </td><td>169.27000  </td><td>396.9000   </td><td>227.63000  </td><td>-0.9807797 </td><td>-1.0400758 </td><td>42.88250863</td></tr>\n",
       "\t<tr><th scope=row>LSTAT</th><td>LSTAT      </td><td>5          </td><td> 18.618000 </td><td> 11.3017507</td><td> 16.65000  </td><td>  8.93000  </td><td> 37.9700   </td><td> 29.04000  </td><td> 0.8467502 </td><td>-1.1567682 </td><td> 5.05429659</td></tr>\n",
       "\t<tr><th scope=row>MEDV</th><td>MEDV       </td><td>5          </td><td> 18.260000 </td><td>  5.8136047</td><td> 16.10000  </td><td> 13.80000  </td><td> 28.4000   </td><td> 14.60000  </td><td> 0.9408599 </td><td>-1.0670790 </td><td> 2.59992308</td></tr>\n",
       "</tbody>\n",
       "</table>\n"
      ],
      "text/latex": [
       "\\begin{tabular}{r|lllllllllll}\n",
       "  & features & n & mean & sd & median & min & max & range & skew & kurtosis & se\\\\\n",
       "\\hline\n",
       "\tCRIM & CRIM        & 5           &   4.733232  &   7.7759738 &   2.15505   &   0.05479   &  18.4982    &  18.44341   &  1.0181365  & -0.9857503  &  3.47752118\\\\\n",
       "\tZN & ZN          & 5           &   6.600000  &  14.7580487 &   0.00000   &   0.00000   &  33.0000    &  33.00000   &  1.0733126  & -0.9200000  &  6.60000000\\\\\n",
       "\tINDUS & INDUS       & 5           &  14.330000  &   8.1574567 &  18.10000   &   2.18000   &  21.8900    &  19.71000   & -0.4606169  & -1.8073590  &  3.64812555\\\\\n",
       "\tCHAS & CHAS        & 5           &   0.000000  &   0.0000000 &   0.00000   &   0.00000   &   0.0000    &   0.00000   &        NaN  &        NaN  &  0.00000000\\\\\n",
       "\tNOX & NOX         & 5           &   0.635800  &   0.1514536 &   0.62400   &   0.47200   &   0.8710    &   0.39900   &  0.4533200  & -1.5357404  &  0.06773212\\\\\n",
       "\tRM & RM          & 5           &   5.459400  &   0.9462736 &   5.62800   &   4.13800   &   6.6160    &   2.47800   & -0.1789079  & -1.7654337  &  0.42318644\\\\\n",
       "\tAGE & AGE         & 5           &  77.880000  &  28.3735264 &  93.50000   &  37.80000   & 100.0000    &  62.20000   & -0.4085948  & -1.9903168  & 12.68902676\\\\\n",
       "\tDIS & DIS         & 5           &   2.101980  &   0.8766722 &   1.96690   &   1.13700   &   3.3700    &   2.23300   &  0.2997804  & -1.7808929  &  0.39205975\\\\\n",
       "\tRAD & RAD         & 5           &   8.800000  &   8.5848704 &   5.00000   &   4.00000   &  24.0000    &  20.00000   &  1.0209877  & -0.9873603  &  3.83927076\\\\\n",
       "\tTAX & TAX         & 5           & 406.400000  & 167.9502903 & 403.00000   & 222.00000   & 666.0000    & 444.00000   &  0.4297549  & -1.5398739  & 75.10965317\\\\\n",
       "\tPTRATIO & PTRATIO     & 5           &  18.580000  &   2.4803226 &  18.40000   &  14.70000   &  21.2000    &   6.50000   & -0.4742986  & -1.5169564  &  1.10923397\\\\\n",
       "\tB & B           & 5           & 337.646000  &  95.8882043 & 378.25000   & 169.27000   & 396.9000    & 227.63000   & -0.9807797  & -1.0400758  & 42.88250863\\\\\n",
       "\tLSTAT & LSTAT       & 5           &  18.618000  &  11.3017507 &  16.65000   &   8.93000   &  37.9700    &  29.04000   &  0.8467502  & -1.1567682  &  5.05429659\\\\\n",
       "\tMEDV & MEDV        & 5           &  18.260000  &   5.8136047 &  16.10000   &  13.80000   &  28.4000    &  14.60000   &  0.9408599  & -1.0670790  &  2.59992308\\\\\n",
       "\\end{tabular}\n"
      ],
      "text/markdown": [
       "\n",
       "| <!--/--> | features | n | mean | sd | median | min | max | range | skew | kurtosis | se | \n",
       "|---|---|---|---|---|---|---|---|---|---|---|---|---|---|\n",
       "| CRIM | CRIM        | 5           |   4.733232  |   7.7759738 |   2.15505   |   0.05479   |  18.4982    |  18.44341   |  1.0181365  | -0.9857503  |  3.47752118 | \n",
       "| ZN | ZN          | 5           |   6.600000  |  14.7580487 |   0.00000   |   0.00000   |  33.0000    |  33.00000   |  1.0733126  | -0.9200000  |  6.60000000 | \n",
       "| INDUS | INDUS       | 5           |  14.330000  |   8.1574567 |  18.10000   |   2.18000   |  21.8900    |  19.71000   | -0.4606169  | -1.8073590  |  3.64812555 | \n",
       "| CHAS | CHAS        | 5           |   0.000000  |   0.0000000 |   0.00000   |   0.00000   |   0.0000    |   0.00000   |        NaN  |        NaN  |  0.00000000 | \n",
       "| NOX | NOX         | 5           |   0.635800  |   0.1514536 |   0.62400   |   0.47200   |   0.8710    |   0.39900   |  0.4533200  | -1.5357404  |  0.06773212 | \n",
       "| RM | RM          | 5           |   5.459400  |   0.9462736 |   5.62800   |   4.13800   |   6.6160    |   2.47800   | -0.1789079  | -1.7654337  |  0.42318644 | \n",
       "| AGE | AGE         | 5           |  77.880000  |  28.3735264 |  93.50000   |  37.80000   | 100.0000    |  62.20000   | -0.4085948  | -1.9903168  | 12.68902676 | \n",
       "| DIS | DIS         | 5           |   2.101980  |   0.8766722 |   1.96690   |   1.13700   |   3.3700    |   2.23300   |  0.2997804  | -1.7808929  |  0.39205975 | \n",
       "| RAD | RAD         | 5           |   8.800000  |   8.5848704 |   5.00000   |   4.00000   |  24.0000    |  20.00000   |  1.0209877  | -0.9873603  |  3.83927076 | \n",
       "| TAX | TAX         | 5           | 406.400000  | 167.9502903 | 403.00000   | 222.00000   | 666.0000    | 444.00000   |  0.4297549  | -1.5398739  | 75.10965317 | \n",
       "| PTRATIO | PTRATIO     | 5           |  18.580000  |   2.4803226 |  18.40000   |  14.70000   |  21.2000    |   6.50000   | -0.4742986  | -1.5169564  |  1.10923397 | \n",
       "| B | B           | 5           | 337.646000  |  95.8882043 | 378.25000   | 169.27000   | 396.9000    | 227.63000   | -0.9807797  | -1.0400758  | 42.88250863 | \n",
       "| LSTAT | LSTAT       | 5           |  18.618000  |  11.3017507 |  16.65000   |   8.93000   |  37.9700    |  29.04000   |  0.8467502  | -1.1567682  |  5.05429659 | \n",
       "| MEDV | MEDV        | 5           |  18.260000  |   5.8136047 |  16.10000   |  13.80000   |  28.4000    |  14.60000   |  0.9408599  | -1.0670790  |  2.59992308 | \n",
       "\n",
       "\n"
      ],
      "text/plain": [
       "        features n mean       sd          median    min       max     \n",
       "CRIM    CRIM     5   4.733232   7.7759738   2.15505   0.05479  18.4982\n",
       "ZN      ZN       5   6.600000  14.7580487   0.00000   0.00000  33.0000\n",
       "INDUS   INDUS    5  14.330000   8.1574567  18.10000   2.18000  21.8900\n",
       "CHAS    CHAS     5   0.000000   0.0000000   0.00000   0.00000   0.0000\n",
       "NOX     NOX      5   0.635800   0.1514536   0.62400   0.47200   0.8710\n",
       "RM      RM       5   5.459400   0.9462736   5.62800   4.13800   6.6160\n",
       "AGE     AGE      5  77.880000  28.3735264  93.50000  37.80000 100.0000\n",
       "DIS     DIS      5   2.101980   0.8766722   1.96690   1.13700   3.3700\n",
       "RAD     RAD      5   8.800000   8.5848704   5.00000   4.00000  24.0000\n",
       "TAX     TAX      5 406.400000 167.9502903 403.00000 222.00000 666.0000\n",
       "PTRATIO PTRATIO  5  18.580000   2.4803226  18.40000  14.70000  21.2000\n",
       "B       B        5 337.646000  95.8882043 378.25000 169.27000 396.9000\n",
       "LSTAT   LSTAT    5  18.618000  11.3017507  16.65000   8.93000  37.9700\n",
       "MEDV    MEDV     5  18.260000   5.8136047  16.10000  13.80000  28.4000\n",
       "        range     skew       kurtosis   se         \n",
       "CRIM     18.44341  1.0181365 -0.9857503  3.47752118\n",
       "ZN       33.00000  1.0733126 -0.9200000  6.60000000\n",
       "INDUS    19.71000 -0.4606169 -1.8073590  3.64812555\n",
       "CHAS      0.00000        NaN        NaN  0.00000000\n",
       "NOX       0.39900  0.4533200 -1.5357404  0.06773212\n",
       "RM        2.47800 -0.1789079 -1.7654337  0.42318644\n",
       "AGE      62.20000 -0.4085948 -1.9903168 12.68902676\n",
       "DIS       2.23300  0.2997804 -1.7808929  0.39205975\n",
       "RAD      20.00000  1.0209877 -0.9873603  3.83927076\n",
       "TAX     444.00000  0.4297549 -1.5398739 75.10965317\n",
       "PTRATIO   6.50000 -0.4742986 -1.5169564  1.10923397\n",
       "B       227.63000 -0.9807797 -1.0400758 42.88250863\n",
       "LSTAT    29.04000  0.8467502 -1.1567682  5.05429659\n",
       "MEDV     14.60000  0.9408599 -1.0670790  2.59992308"
      ]
     },
     "metadata": {},
     "output_type": "display_data"
    }
   ],
   "source": [
    "samp_stats <- describe(samp)\n",
    "samp_stats <- cbind(features, samp_stats)\n",
    "samp_stats$vars <- NULL ; samp_stats$trimmed <- NULL ; samp_stats$mad <- NULL\n",
    "samp_stats"
   ]
  },
  {
   "cell_type": "markdown",
   "metadata": {},
   "source": [
    "#### Z-scores of sample data set\n",
    "\n",
    "Z-score = $(X - \\mu)/\\sigma $\n",
    "\n",
    "where $X$ = sample mean, and $\\mu$ = population mean, and $\\sigma$ = population standard dev"
   ]
  },
  {
   "cell_type": "code",
   "execution_count": 9,
   "metadata": {},
   "outputs": [],
   "source": [
    "z_score <- function (X, mu, sd){\n",
    "    z <- (X - mu)/sd\n",
    "    return(z)\n",
    "}"
   ]
  },
  {
   "cell_type": "markdown",
   "metadata": {},
   "source": [
    "#### Bar Plot\n",
    "\n",
    "Z-scores for the sample means.\n",
    "Z-scores close to 0 indicate that the sample mean is close to the population mean. "
   ]
  },
  {
   "cell_type": "code",
   "execution_count": 10,
   "metadata": {},
   "outputs": [
    {
     "data": {
      "text/html": [
       "<table>\n",
       "<thead><tr><th scope=col>features</th><th scope=col>samp_z_score</th></tr></thead>\n",
       "<tbody>\n",
       "\t<tr><td>CRIM       </td><td> 0.13017527</td></tr>\n",
       "\t<tr><td>ZN         </td><td>-0.20425109</td></tr>\n",
       "\t<tr><td>INDUS      </td><td> 0.46546021</td></tr>\n",
       "\t<tr><td>CHAS       </td><td>-0.27232907</td></tr>\n",
       "\t<tr><td>NOX        </td><td> 0.69991860</td></tr>\n",
       "\t<tr><td>RM         </td><td>-1.17451502</td></tr>\n",
       "\t<tr><td>AGE        </td><td> 0.33056750</td></tr>\n",
       "\t<tr><td>DIS        </td><td>-0.80403407</td></tr>\n",
       "\t<tr><td>RAD        </td><td>-0.08606693</td></tr>\n",
       "\t<tr><td>TAX        </td><td>-0.01090059</td></tr>\n",
       "\t<tr><td>PTRATIO    </td><td> 0.05749170</td></tr>\n",
       "\t<tr><td>B          </td><td>-0.20842390</td></tr>\n",
       "\t<tr><td>LSTAT      </td><td> 0.83530113</td></tr>\n",
       "\t<tr><td>MEDV       </td><td>-0.46458171</td></tr>\n",
       "</tbody>\n",
       "</table>\n"
      ],
      "text/latex": [
       "\\begin{tabular}{r|ll}\n",
       " features & samp\\_z\\_score\\\\\n",
       "\\hline\n",
       "\t CRIM        &  0.13017527\\\\\n",
       "\t ZN          & -0.20425109\\\\\n",
       "\t INDUS       &  0.46546021\\\\\n",
       "\t CHAS        & -0.27232907\\\\\n",
       "\t NOX         &  0.69991860\\\\\n",
       "\t RM          & -1.17451502\\\\\n",
       "\t AGE         &  0.33056750\\\\\n",
       "\t DIS         & -0.80403407\\\\\n",
       "\t RAD         & -0.08606693\\\\\n",
       "\t TAX         & -0.01090059\\\\\n",
       "\t PTRATIO     &  0.05749170\\\\\n",
       "\t B           & -0.20842390\\\\\n",
       "\t LSTAT       &  0.83530113\\\\\n",
       "\t MEDV        & -0.46458171\\\\\n",
       "\\end{tabular}\n"
      ],
      "text/markdown": [
       "\n",
       "features | samp_z_score | \n",
       "|---|---|---|---|---|---|---|---|---|---|---|---|---|---|\n",
       "| CRIM        |  0.13017527 | \n",
       "| ZN          | -0.20425109 | \n",
       "| INDUS       |  0.46546021 | \n",
       "| CHAS        | -0.27232907 | \n",
       "| NOX         |  0.69991860 | \n",
       "| RM          | -1.17451502 | \n",
       "| AGE         |  0.33056750 | \n",
       "| DIS         | -0.80403407 | \n",
       "| RAD         | -0.08606693 | \n",
       "| TAX         | -0.01090059 | \n",
       "| PTRATIO     |  0.05749170 | \n",
       "| B           | -0.20842390 | \n",
       "| LSTAT       |  0.83530113 | \n",
       "| MEDV        | -0.46458171 | \n",
       "\n",
       "\n"
      ],
      "text/plain": [
       "   features samp_z_score\n",
       "1  CRIM      0.13017527 \n",
       "2  ZN       -0.20425109 \n",
       "3  INDUS     0.46546021 \n",
       "4  CHAS     -0.27232907 \n",
       "5  NOX       0.69991860 \n",
       "6  RM       -1.17451502 \n",
       "7  AGE       0.33056750 \n",
       "8  DIS      -0.80403407 \n",
       "9  RAD      -0.08606693 \n",
       "10 TAX      -0.01090059 \n",
       "11 PTRATIO   0.05749170 \n",
       "12 B        -0.20842390 \n",
       "13 LSTAT     0.83530113 \n",
       "14 MEDV     -0.46458171 "
      ]
     },
     "metadata": {},
     "output_type": "display_data"
    }
   ],
   "source": [
    "samp_z_score <- z_score(samp_stats$mean, boston_stats$mean, boston_stats$sd)\n",
    "samp_z_df <- data.frame(features, samp_z_score)\n",
    "samp_z_df"
   ]
  },
  {
   "cell_type": "code",
   "execution_count": 11,
   "metadata": {},
   "outputs": [],
   "source": [
    "samp_z_df1 <- subset(samp_z_df, samp_z_score >= 0)\n",
    "samp_z_df2 <- subset(samp_z_df, samp_z_score <0)\n"
   ]
  },
  {
   "cell_type": "code",
   "execution_count": 12,
   "metadata": {},
   "outputs": [
    {
     "data": {},
     "metadata": {},
     "output_type": "display_data"
    },
    {
     "data": {
      "image/png": "[encoded data removed]",
      "text/plain": [
       "plot without title"
      ]
     },
     "metadata": {},
     "output_type": "display_data"
    }
   ],
   "source": [
    "ggplot() +\n",
    "    geom_bar(data=samp_z_df1, aes(x=features, y=samp_z_score), stat = \"identity\") +\n",
    "    geom_bar(data=samp_z_df2, aes(x=features, y=samp_z_score), stat = \"identity\") +\n",
    "    theme_classic()"
   ]
  },
  {
   "cell_type": "markdown",
   "metadata": {},
   "source": [
    "#### Heat Map\n",
    "\n",
    "For a heat map: X-axis feature, Y-axis instances, Z = color"
   ]
  },
  {
   "cell_type": "code",
   "execution_count": 13,
   "metadata": {},
   "outputs": [
    {
     "data": {
      "text/html": [
       "<table>\n",
       "<thead><tr><th></th><th scope=col>375</th><th scope=col>311</th><th scope=col>306</th><th scope=col>147</th><th scope=col>137</th></tr></thead>\n",
       "<tbody>\n",
       "\t<tr><th scope=row>CRIM</th><td> 18.4982 </td><td>  2.63548</td><td>  0.05479</td><td>  2.15505</td><td>  0.32264</td></tr>\n",
       "\t<tr><th scope=row>ZN</th><td>  0.0000 </td><td>  0.00000</td><td> 33.00000</td><td>  0.00000</td><td>  0.00000</td></tr>\n",
       "\t<tr><th scope=row>INDUS</th><td> 18.1000 </td><td>  9.90000</td><td>  2.18000</td><td> 19.58000</td><td> 21.89000</td></tr>\n",
       "\t<tr><th scope=row>CHAS</th><td>  0.0000 </td><td>  0.00000</td><td>  0.00000</td><td>  0.00000</td><td>  0.00000</td></tr>\n",
       "\t<tr><th scope=row>NOX</th><td>  0.6680 </td><td>  0.54400</td><td>  0.47200</td><td>  0.87100</td><td>  0.62400</td></tr>\n",
       "\t<tr><th scope=row>RM</th><td>  4.1380 </td><td>  4.97300</td><td>  6.61600</td><td>  5.62800</td><td>  5.94200</td></tr>\n",
       "\t<tr><th scope=row>AGE</th><td>100.0000 </td><td> 37.80000</td><td> 58.10000</td><td>100.00000</td><td> 93.50000</td></tr>\n",
       "\t<tr><th scope=row>DIS</th><td>  1.1370 </td><td>  2.51940</td><td>  3.37000</td><td>  1.51660</td><td>  1.96690</td></tr>\n",
       "\t<tr><th scope=row>RAD</th><td> 24.0000 </td><td>  4.00000</td><td>  7.00000</td><td>  5.00000</td><td>  4.00000</td></tr>\n",
       "\t<tr><th scope=row>TAX</th><td>666.0000 </td><td>304.00000</td><td>222.00000</td><td>403.00000</td><td>437.00000</td></tr>\n",
       "\t<tr><th scope=row>PTRATIO</th><td> 20.2000 </td><td> 18.40000</td><td> 18.40000</td><td> 14.70000</td><td> 21.20000</td></tr>\n",
       "\t<tr><th scope=row>B</th><td>396.9000 </td><td>350.45000</td><td>393.36000</td><td>169.27000</td><td>378.25000</td></tr>\n",
       "\t<tr><th scope=row>LSTAT</th><td> 37.9700 </td><td> 12.64000</td><td>  8.93000</td><td> 16.65000</td><td> 16.90000</td></tr>\n",
       "\t<tr><th scope=row>MEDV</th><td> 13.8000 </td><td> 16.10000</td><td> 28.40000</td><td> 15.60000</td><td> 17.40000</td></tr>\n",
       "</tbody>\n",
       "</table>\n"
      ],
      "text/latex": [
       "\\begin{tabular}{r|lllll}\n",
       "  & 375 & 311 & 306 & 147 & 137\\\\\n",
       "\\hline\n",
       "\tCRIM &  18.4982  &   2.63548 &   0.05479 &   2.15505 &   0.32264\\\\\n",
       "\tZN &   0.0000  &   0.00000 &  33.00000 &   0.00000 &   0.00000\\\\\n",
       "\tINDUS &  18.1000  &   9.90000 &   2.18000 &  19.58000 &  21.89000\\\\\n",
       "\tCHAS &   0.0000  &   0.00000 &   0.00000 &   0.00000 &   0.00000\\\\\n",
       "\tNOX &   0.6680  &   0.54400 &   0.47200 &   0.87100 &   0.62400\\\\\n",
       "\tRM &   4.1380  &   4.97300 &   6.61600 &   5.62800 &   5.94200\\\\\n",
       "\tAGE & 100.0000  &  37.80000 &  58.10000 & 100.00000 &  93.50000\\\\\n",
       "\tDIS &   1.1370  &   2.51940 &   3.37000 &   1.51660 &   1.96690\\\\\n",
       "\tRAD &  24.0000  &   4.00000 &   7.00000 &   5.00000 &   4.00000\\\\\n",
       "\tTAX & 666.0000  & 304.00000 & 222.00000 & 403.00000 & 437.00000\\\\\n",
       "\tPTRATIO &  20.2000  &  18.40000 &  18.40000 &  14.70000 &  21.20000\\\\\n",
       "\tB & 396.9000  & 350.45000 & 393.36000 & 169.27000 & 378.25000\\\\\n",
       "\tLSTAT &  37.9700  &  12.64000 &   8.93000 &  16.65000 &  16.90000\\\\\n",
       "\tMEDV &  13.8000  &  16.10000 &  28.40000 &  15.60000 &  17.40000\\\\\n",
       "\\end{tabular}\n"
      ],
      "text/markdown": [
       "\n",
       "| <!--/--> | 375 | 311 | 306 | 147 | 137 | \n",
       "|---|---|---|---|---|---|---|---|---|---|---|---|---|---|\n",
       "| CRIM |  18.4982  |   2.63548 |   0.05479 |   2.15505 |   0.32264 | \n",
       "| ZN |   0.0000  |   0.00000 |  33.00000 |   0.00000 |   0.00000 | \n",
       "| INDUS |  18.1000  |   9.90000 |   2.18000 |  19.58000 |  21.89000 | \n",
       "| CHAS |   0.0000  |   0.00000 |   0.00000 |   0.00000 |   0.00000 | \n",
       "| NOX |   0.6680  |   0.54400 |   0.47200 |   0.87100 |   0.62400 | \n",
       "| RM |   4.1380  |   4.97300 |   6.61600 |   5.62800 |   5.94200 | \n",
       "| AGE | 100.0000  |  37.80000 |  58.10000 | 100.00000 |  93.50000 | \n",
       "| DIS |   1.1370  |   2.51940 |   3.37000 |   1.51660 |   1.96690 | \n",
       "| RAD |  24.0000  |   4.00000 |   7.00000 |   5.00000 |   4.00000 | \n",
       "| TAX | 666.0000  | 304.00000 | 222.00000 | 403.00000 | 437.00000 | \n",
       "| PTRATIO |  20.2000  |  18.40000 |  18.40000 |  14.70000 |  21.20000 | \n",
       "| B | 396.9000  | 350.45000 | 393.36000 | 169.27000 | 378.25000 | \n",
       "| LSTAT |  37.9700  |  12.64000 |   8.93000 |  16.65000 |  16.90000 | \n",
       "| MEDV |  13.8000  |  16.10000 |  28.40000 |  15.60000 |  17.40000 | \n",
       "\n",
       "\n"
      ],
      "text/plain": [
       "        375      311       306       147       137      \n",
       "CRIM     18.4982   2.63548   0.05479   2.15505   0.32264\n",
       "ZN        0.0000   0.00000  33.00000   0.00000   0.00000\n",
       "INDUS    18.1000   9.90000   2.18000  19.58000  21.89000\n",
       "CHAS      0.0000   0.00000   0.00000   0.00000   0.00000\n",
       "NOX       0.6680   0.54400   0.47200   0.87100   0.62400\n",
       "RM        4.1380   4.97300   6.61600   5.62800   5.94200\n",
       "AGE     100.0000  37.80000  58.10000 100.00000  93.50000\n",
       "DIS       1.1370   2.51940   3.37000   1.51660   1.96690\n",
       "RAD      24.0000   4.00000   7.00000   5.00000   4.00000\n",
       "TAX     666.0000 304.00000 222.00000 403.00000 437.00000\n",
       "PTRATIO  20.2000  18.40000  18.40000  14.70000  21.20000\n",
       "B       396.9000 350.45000 393.36000 169.27000 378.25000\n",
       "LSTAT    37.9700  12.64000   8.93000  16.65000  16.90000\n",
       "MEDV     13.8000  16.10000  28.40000  15.60000  17.40000"
      ]
     },
     "metadata": {},
     "output_type": "display_data"
    },
    {
     "data": {
      "text/html": [
       "<table>\n",
       "<thead><tr><th></th><th scope=col>features</th><th scope=col>n</th><th scope=col>mean</th><th scope=col>sd</th><th scope=col>median</th><th scope=col>min</th><th scope=col>max</th><th scope=col>range</th><th scope=col>skew</th><th scope=col>kurtosis</th><th scope=col>se</th></tr></thead>\n",
       "<tbody>\n",
       "\t<tr><th scope=row>CRIM</th><td>CRIM       </td><td>5          </td><td>  4.733232 </td><td>  7.7759738</td><td>  2.15505  </td><td>  0.05479  </td><td> 18.4982   </td><td> 18.44341  </td><td> 1.0181365 </td><td>-0.9857503 </td><td> 3.47752118</td></tr>\n",
       "\t<tr><th scope=row>ZN</th><td>ZN         </td><td>5          </td><td>  6.600000 </td><td> 14.7580487</td><td>  0.00000  </td><td>  0.00000  </td><td> 33.0000   </td><td> 33.00000  </td><td> 1.0733126 </td><td>-0.9200000 </td><td> 6.60000000</td></tr>\n",
       "\t<tr><th scope=row>INDUS</th><td>INDUS      </td><td>5          </td><td> 14.330000 </td><td>  8.1574567</td><td> 18.10000  </td><td>  2.18000  </td><td> 21.8900   </td><td> 19.71000  </td><td>-0.4606169 </td><td>-1.8073590 </td><td> 3.64812555</td></tr>\n",
       "\t<tr><th scope=row>CHAS</th><td>CHAS       </td><td>5          </td><td>  0.000000 </td><td>  0.0000000</td><td>  0.00000  </td><td>  0.00000  </td><td>  0.0000   </td><td>  0.00000  </td><td>       NaN </td><td>       NaN </td><td> 0.00000000</td></tr>\n",
       "\t<tr><th scope=row>NOX</th><td>NOX        </td><td>5          </td><td>  0.635800 </td><td>  0.1514536</td><td>  0.62400  </td><td>  0.47200  </td><td>  0.8710   </td><td>  0.39900  </td><td> 0.4533200 </td><td>-1.5357404 </td><td> 0.06773212</td></tr>\n",
       "\t<tr><th scope=row>RM</th><td>RM         </td><td>5          </td><td>  5.459400 </td><td>  0.9462736</td><td>  5.62800  </td><td>  4.13800  </td><td>  6.6160   </td><td>  2.47800  </td><td>-0.1789079 </td><td>-1.7654337 </td><td> 0.42318644</td></tr>\n",
       "\t<tr><th scope=row>AGE</th><td>AGE        </td><td>5          </td><td> 77.880000 </td><td> 28.3735264</td><td> 93.50000  </td><td> 37.80000  </td><td>100.0000   </td><td> 62.20000  </td><td>-0.4085948 </td><td>-1.9903168 </td><td>12.68902676</td></tr>\n",
       "\t<tr><th scope=row>DIS</th><td>DIS        </td><td>5          </td><td>  2.101980 </td><td>  0.8766722</td><td>  1.96690  </td><td>  1.13700  </td><td>  3.3700   </td><td>  2.23300  </td><td> 0.2997804 </td><td>-1.7808929 </td><td> 0.39205975</td></tr>\n",
       "\t<tr><th scope=row>RAD</th><td>RAD        </td><td>5          </td><td>  8.800000 </td><td>  8.5848704</td><td>  5.00000  </td><td>  4.00000  </td><td> 24.0000   </td><td> 20.00000  </td><td> 1.0209877 </td><td>-0.9873603 </td><td> 3.83927076</td></tr>\n",
       "\t<tr><th scope=row>TAX</th><td>TAX        </td><td>5          </td><td>406.400000 </td><td>167.9502903</td><td>403.00000  </td><td>222.00000  </td><td>666.0000   </td><td>444.00000  </td><td> 0.4297549 </td><td>-1.5398739 </td><td>75.10965317</td></tr>\n",
       "\t<tr><th scope=row>PTRATIO</th><td>PTRATIO    </td><td>5          </td><td> 18.580000 </td><td>  2.4803226</td><td> 18.40000  </td><td> 14.70000  </td><td> 21.2000   </td><td>  6.50000  </td><td>-0.4742986 </td><td>-1.5169564 </td><td> 1.10923397</td></tr>\n",
       "\t<tr><th scope=row>B</th><td>B          </td><td>5          </td><td>337.646000 </td><td> 95.8882043</td><td>378.25000  </td><td>169.27000  </td><td>396.9000   </td><td>227.63000  </td><td>-0.9807797 </td><td>-1.0400758 </td><td>42.88250863</td></tr>\n",
       "\t<tr><th scope=row>LSTAT</th><td>LSTAT      </td><td>5          </td><td> 18.618000 </td><td> 11.3017507</td><td> 16.65000  </td><td>  8.93000  </td><td> 37.9700   </td><td> 29.04000  </td><td> 0.8467502 </td><td>-1.1567682 </td><td> 5.05429659</td></tr>\n",
       "\t<tr><th scope=row>MEDV</th><td>MEDV       </td><td>5          </td><td> 18.260000 </td><td>  5.8136047</td><td> 16.10000  </td><td> 13.80000  </td><td> 28.4000   </td><td> 14.60000  </td><td> 0.9408599 </td><td>-1.0670790 </td><td> 2.59992308</td></tr>\n",
       "</tbody>\n",
       "</table>\n"
      ],
      "text/latex": [
       "\\begin{tabular}{r|lllllllllll}\n",
       "  & features & n & mean & sd & median & min & max & range & skew & kurtosis & se\\\\\n",
       "\\hline\n",
       "\tCRIM & CRIM        & 5           &   4.733232  &   7.7759738 &   2.15505   &   0.05479   &  18.4982    &  18.44341   &  1.0181365  & -0.9857503  &  3.47752118\\\\\n",
       "\tZN & ZN          & 5           &   6.600000  &  14.7580487 &   0.00000   &   0.00000   &  33.0000    &  33.00000   &  1.0733126  & -0.9200000  &  6.60000000\\\\\n",
       "\tINDUS & INDUS       & 5           &  14.330000  &   8.1574567 &  18.10000   &   2.18000   &  21.8900    &  19.71000   & -0.4606169  & -1.8073590  &  3.64812555\\\\\n",
       "\tCHAS & CHAS        & 5           &   0.000000  &   0.0000000 &   0.00000   &   0.00000   &   0.0000    &   0.00000   &        NaN  &        NaN  &  0.00000000\\\\\n",
       "\tNOX & NOX         & 5           &   0.635800  &   0.1514536 &   0.62400   &   0.47200   &   0.8710    &   0.39900   &  0.4533200  & -1.5357404  &  0.06773212\\\\\n",
       "\tRM & RM          & 5           &   5.459400  &   0.9462736 &   5.62800   &   4.13800   &   6.6160    &   2.47800   & -0.1789079  & -1.7654337  &  0.42318644\\\\\n",
       "\tAGE & AGE         & 5           &  77.880000  &  28.3735264 &  93.50000   &  37.80000   & 100.0000    &  62.20000   & -0.4085948  & -1.9903168  & 12.68902676\\\\\n",
       "\tDIS & DIS         & 5           &   2.101980  &   0.8766722 &   1.96690   &   1.13700   &   3.3700    &   2.23300   &  0.2997804  & -1.7808929  &  0.39205975\\\\\n",
       "\tRAD & RAD         & 5           &   8.800000  &   8.5848704 &   5.00000   &   4.00000   &  24.0000    &  20.00000   &  1.0209877  & -0.9873603  &  3.83927076\\\\\n",
       "\tTAX & TAX         & 5           & 406.400000  & 167.9502903 & 403.00000   & 222.00000   & 666.0000    & 444.00000   &  0.4297549  & -1.5398739  & 75.10965317\\\\\n",
       "\tPTRATIO & PTRATIO     & 5           &  18.580000  &   2.4803226 &  18.40000   &  14.70000   &  21.2000    &   6.50000   & -0.4742986  & -1.5169564  &  1.10923397\\\\\n",
       "\tB & B           & 5           & 337.646000  &  95.8882043 & 378.25000   & 169.27000   & 396.9000    & 227.63000   & -0.9807797  & -1.0400758  & 42.88250863\\\\\n",
       "\tLSTAT & LSTAT       & 5           &  18.618000  &  11.3017507 &  16.65000   &   8.93000   &  37.9700    &  29.04000   &  0.8467502  & -1.1567682  &  5.05429659\\\\\n",
       "\tMEDV & MEDV        & 5           &  18.260000  &   5.8136047 &  16.10000   &  13.80000   &  28.4000    &  14.60000   &  0.9408599  & -1.0670790  &  2.59992308\\\\\n",
       "\\end{tabular}\n"
      ],
      "text/markdown": [
       "\n",
       "| <!--/--> | features | n | mean | sd | median | min | max | range | skew | kurtosis | se | \n",
       "|---|---|---|---|---|---|---|---|---|---|---|---|---|---|\n",
       "| CRIM | CRIM        | 5           |   4.733232  |   7.7759738 |   2.15505   |   0.05479   |  18.4982    |  18.44341   |  1.0181365  | -0.9857503  |  3.47752118 | \n",
       "| ZN | ZN          | 5           |   6.600000  |  14.7580487 |   0.00000   |   0.00000   |  33.0000    |  33.00000   |  1.0733126  | -0.9200000  |  6.60000000 | \n",
       "| INDUS | INDUS       | 5           |  14.330000  |   8.1574567 |  18.10000   |   2.18000   |  21.8900    |  19.71000   | -0.4606169  | -1.8073590  |  3.64812555 | \n",
       "| CHAS | CHAS        | 5           |   0.000000  |   0.0000000 |   0.00000   |   0.00000   |   0.0000    |   0.00000   |        NaN  |        NaN  |  0.00000000 | \n",
       "| NOX | NOX         | 5           |   0.635800  |   0.1514536 |   0.62400   |   0.47200   |   0.8710    |   0.39900   |  0.4533200  | -1.5357404  |  0.06773212 | \n",
       "| RM | RM          | 5           |   5.459400  |   0.9462736 |   5.62800   |   4.13800   |   6.6160    |   2.47800   | -0.1789079  | -1.7654337  |  0.42318644 | \n",
       "| AGE | AGE         | 5           |  77.880000  |  28.3735264 |  93.50000   |  37.80000   | 100.0000    |  62.20000   | -0.4085948  | -1.9903168  | 12.68902676 | \n",
       "| DIS | DIS         | 5           |   2.101980  |   0.8766722 |   1.96690   |   1.13700   |   3.3700    |   2.23300   |  0.2997804  | -1.7808929  |  0.39205975 | \n",
       "| RAD | RAD         | 5           |   8.800000  |   8.5848704 |   5.00000   |   4.00000   |  24.0000    |  20.00000   |  1.0209877  | -0.9873603  |  3.83927076 | \n",
       "| TAX | TAX         | 5           | 406.400000  | 167.9502903 | 403.00000   | 222.00000   | 666.0000    | 444.00000   |  0.4297549  | -1.5398739  | 75.10965317 | \n",
       "| PTRATIO | PTRATIO     | 5           |  18.580000  |   2.4803226 |  18.40000   |  14.70000   |  21.2000    |   6.50000   | -0.4742986  | -1.5169564  |  1.10923397 | \n",
       "| B | B           | 5           | 337.646000  |  95.8882043 | 378.25000   | 169.27000   | 396.9000    | 227.63000   | -0.9807797  | -1.0400758  | 42.88250863 | \n",
       "| LSTAT | LSTAT       | 5           |  18.618000  |  11.3017507 |  16.65000   |   8.93000   |  37.9700    |  29.04000   |  0.8467502  | -1.1567682  |  5.05429659 | \n",
       "| MEDV | MEDV        | 5           |  18.260000  |   5.8136047 |  16.10000   |  13.80000   |  28.4000    |  14.60000   |  0.9408599  | -1.0670790  |  2.59992308 | \n",
       "\n",
       "\n"
      ],
      "text/plain": [
       "        features n mean       sd          median    min       max     \n",
       "CRIM    CRIM     5   4.733232   7.7759738   2.15505   0.05479  18.4982\n",
       "ZN      ZN       5   6.600000  14.7580487   0.00000   0.00000  33.0000\n",
       "INDUS   INDUS    5  14.330000   8.1574567  18.10000   2.18000  21.8900\n",
       "CHAS    CHAS     5   0.000000   0.0000000   0.00000   0.00000   0.0000\n",
       "NOX     NOX      5   0.635800   0.1514536   0.62400   0.47200   0.8710\n",
       "RM      RM       5   5.459400   0.9462736   5.62800   4.13800   6.6160\n",
       "AGE     AGE      5  77.880000  28.3735264  93.50000  37.80000 100.0000\n",
       "DIS     DIS      5   2.101980   0.8766722   1.96690   1.13700   3.3700\n",
       "RAD     RAD      5   8.800000   8.5848704   5.00000   4.00000  24.0000\n",
       "TAX     TAX      5 406.400000 167.9502903 403.00000 222.00000 666.0000\n",
       "PTRATIO PTRATIO  5  18.580000   2.4803226  18.40000  14.70000  21.2000\n",
       "B       B        5 337.646000  95.8882043 378.25000 169.27000 396.9000\n",
       "LSTAT   LSTAT    5  18.618000  11.3017507  16.65000   8.93000  37.9700\n",
       "MEDV    MEDV     5  18.260000   5.8136047  16.10000  13.80000  28.4000\n",
       "        range     skew       kurtosis   se         \n",
       "CRIM     18.44341  1.0181365 -0.9857503  3.47752118\n",
       "ZN       33.00000  1.0733126 -0.9200000  6.60000000\n",
       "INDUS    19.71000 -0.4606169 -1.8073590  3.64812555\n",
       "CHAS      0.00000        NaN        NaN  0.00000000\n",
       "NOX       0.39900  0.4533200 -1.5357404  0.06773212\n",
       "RM        2.47800 -0.1789079 -1.7654337  0.42318644\n",
       "AGE      62.20000 -0.4085948 -1.9903168 12.68902676\n",
       "DIS       2.23300  0.2997804 -1.7808929  0.39205975\n",
       "RAD      20.00000  1.0209877 -0.9873603  3.83927076\n",
       "TAX     444.00000  0.4297549 -1.5398739 75.10965317\n",
       "PTRATIO   6.50000 -0.4742986 -1.5169564  1.10923397\n",
       "B       227.63000 -0.9807797 -1.0400758 42.88250863\n",
       "LSTAT    29.04000  0.8467502 -1.1567682  5.05429659\n",
       "MEDV     14.60000  0.9408599 -1.0670790  2.59992308"
      ]
     },
     "metadata": {},
     "output_type": "display_data"
    }
   ],
   "source": [
    "t(samp)\n",
    "samp_stats"
   ]
  },
  {
   "cell_type": "code",
   "execution_count": 14,
   "metadata": {},
   "outputs": [
    {
     "data": {
      "text/html": [
       "<table>\n",
       "<thead><tr><th scope=col>features</th><th scope=col>375</th><th scope=col>311</th><th scope=col>306</th><th scope=col>147</th><th scope=col>137</th></tr></thead>\n",
       "<tbody>\n",
       "\t<tr><td>CRIM        </td><td>  1.77019219</td><td>-0.6086996  </td><td>  1.71898317</td><td>-0.6086996  </td><td>-0.5227939  </td></tr>\n",
       "\t<tr><td>ZN          </td><td>  0.80621770</td><td>-0.4472136  </td><td>  0.77923581</td><td>-0.4472136  </td><td>-0.4019502  </td></tr>\n",
       "\t<tr><td>INDUS       </td><td>  0.51096808</td><td>-1.7566750  </td><td>  0.46215385</td><td>-1.7566750  </td><td>-1.6747867  </td></tr>\n",
       "\t<tr><td>CHAS        </td><td>         Inf</td><td>       NaN  </td><td>         Inf</td><td>       NaN  </td><td>       Inf  </td></tr>\n",
       "\t<tr><td>NOX         </td><td>117.93973373</td><td>-4.1979847  </td><td>115.31054605</td><td>-4.1979847  </td><td> 0.2126063  </td></tr>\n",
       "\t<tr><td>RM          </td><td> 13.77910095</td><td>-5.7693671  </td><td> 13.35829244</td><td>-5.7693671  </td><td>-5.0634402  </td></tr>\n",
       "\t<tr><td>AGE         </td><td> -2.09285935</td><td>-2.7448122  </td><td> -2.10689356</td><td>-2.7448122  </td><td>-2.7212691  </td></tr>\n",
       "\t<tr><td>DIS         </td><td> 18.70279346</td><td>-2.3976806  </td><td> 18.24857582</td><td>-2.3976806  </td><td>-1.6357082  </td></tr>\n",
       "\t<tr><td>RAD         </td><td>  1.12968508</td><td>-1.0250592  </td><td>  1.08330115</td><td>-1.0250592  </td><td>-0.9472478  </td></tr>\n",
       "\t<tr><td>TAX         </td><td> -2.30962268</td><td>-2.4197636  </td><td> -2.31199362</td><td>-2.4197636  </td><td>-2.4157862  </td></tr>\n",
       "\t<tr><td>PTRATIO     </td><td> -0.03297958</td><td>-7.4909612  </td><td> -0.19352322</td><td>-7.4909612  </td><td>-7.2216414  </td></tr>\n",
       "\t<tr><td>B           </td><td> -3.32833222</td><td>-3.5212465  </td><td> -3.33248497</td><td>-3.5212465  </td><td>-3.5142800  </td></tr>\n",
       "\t<tr><td>LSTAT       </td><td> -0.01060013</td><td>-1.6473554  </td><td> -0.04583361</td><td>-1.6473554  </td><td>-1.5882495  </td></tr>\n",
       "\t<tr><td>MEDV        </td><td>  0.04097286</td><td>-3.1409084  </td><td> -0.02752165</td><td>-3.1409084  </td><td>-3.0260055  </td></tr>\n",
       "</tbody>\n",
       "</table>\n"
      ],
      "text/latex": [
       "\\begin{tabular}{r|llllll}\n",
       " features & 375 & 311 & 306 & 147 & 137\\\\\n",
       "\\hline\n",
       "\t CRIM         &   1.77019219 & -0.6086996   &   1.71898317 & -0.6086996   & -0.5227939  \\\\\n",
       "\t ZN           &   0.80621770 & -0.4472136   &   0.77923581 & -0.4472136   & -0.4019502  \\\\\n",
       "\t INDUS        &   0.51096808 & -1.7566750   &   0.46215385 & -1.7566750   & -1.6747867  \\\\\n",
       "\t CHAS         &          Inf &        NaN   &          Inf &        NaN   &        Inf  \\\\\n",
       "\t NOX          & 117.93973373 & -4.1979847   & 115.31054605 & -4.1979847   &  0.2126063  \\\\\n",
       "\t RM           &  13.77910095 & -5.7693671   &  13.35829244 & -5.7693671   & -5.0634402  \\\\\n",
       "\t AGE          &  -2.09285935 & -2.7448122   &  -2.10689356 & -2.7448122   & -2.7212691  \\\\\n",
       "\t DIS          &  18.70279346 & -2.3976806   &  18.24857582 & -2.3976806   & -1.6357082  \\\\\n",
       "\t RAD          &   1.12968508 & -1.0250592   &   1.08330115 & -1.0250592   & -0.9472478  \\\\\n",
       "\t TAX          &  -2.30962268 & -2.4197636   &  -2.31199362 & -2.4197636   & -2.4157862  \\\\\n",
       "\t PTRATIO      &  -0.03297958 & -7.4909612   &  -0.19352322 & -7.4909612   & -7.2216414  \\\\\n",
       "\t B            &  -3.32833222 & -3.5212465   &  -3.33248497 & -3.5212465   & -3.5142800  \\\\\n",
       "\t LSTAT        &  -0.01060013 & -1.6473554   &  -0.04583361 & -1.6473554   & -1.5882495  \\\\\n",
       "\t MEDV         &   0.04097286 & -3.1409084   &  -0.02752165 & -3.1409084   & -3.0260055  \\\\\n",
       "\\end{tabular}\n"
      ],
      "text/markdown": [
       "\n",
       "features | 375 | 311 | 306 | 147 | 137 | \n",
       "|---|---|---|---|---|---|---|---|---|---|---|---|---|---|\n",
       "| CRIM         |   1.77019219 | -0.6086996   |   1.71898317 | -0.6086996   | -0.5227939   | \n",
       "| ZN           |   0.80621770 | -0.4472136   |   0.77923581 | -0.4472136   | -0.4019502   | \n",
       "| INDUS        |   0.51096808 | -1.7566750   |   0.46215385 | -1.7566750   | -1.6747867   | \n",
       "| CHAS         |          Inf |        NaN   |          Inf |        NaN   |        Inf   | \n",
       "| NOX          | 117.93973373 | -4.1979847   | 115.31054605 | -4.1979847   |  0.2126063   | \n",
       "| RM           |  13.77910095 | -5.7693671   |  13.35829244 | -5.7693671   | -5.0634402   | \n",
       "| AGE          |  -2.09285935 | -2.7448122   |  -2.10689356 | -2.7448122   | -2.7212691   | \n",
       "| DIS          |  18.70279346 | -2.3976806   |  18.24857582 | -2.3976806   | -1.6357082   | \n",
       "| RAD          |   1.12968508 | -1.0250592   |   1.08330115 | -1.0250592   | -0.9472478   | \n",
       "| TAX          |  -2.30962268 | -2.4197636   |  -2.31199362 | -2.4197636   | -2.4157862   | \n",
       "| PTRATIO      |  -0.03297958 | -7.4909612   |  -0.19352322 | -7.4909612   | -7.2216414   | \n",
       "| B            |  -3.32833222 | -3.5212465   |  -3.33248497 | -3.5212465   | -3.5142800   | \n",
       "| LSTAT        |  -0.01060013 | -1.6473554   |  -0.04583361 | -1.6473554   | -1.5882495   | \n",
       "| MEDV         |   0.04097286 | -3.1409084   |  -0.02752165 | -3.1409084   | -3.0260055   | \n",
       "\n",
       "\n"
      ],
      "text/plain": [
       "   features 375          311        306          147        137       \n",
       "1  CRIM       1.77019219 -0.6086996   1.71898317 -0.6086996 -0.5227939\n",
       "2  ZN         0.80621770 -0.4472136   0.77923581 -0.4472136 -0.4019502\n",
       "3  INDUS      0.51096808 -1.7566750   0.46215385 -1.7566750 -1.6747867\n",
       "4  CHAS              Inf        NaN          Inf        NaN        Inf\n",
       "5  NOX      117.93973373 -4.1979847 115.31054605 -4.1979847  0.2126063\n",
       "6  RM        13.77910095 -5.7693671  13.35829244 -5.7693671 -5.0634402\n",
       "7  AGE       -2.09285935 -2.7448122  -2.10689356 -2.7448122 -2.7212691\n",
       "8  DIS       18.70279346 -2.3976806  18.24857582 -2.3976806 -1.6357082\n",
       "9  RAD        1.12968508 -1.0250592   1.08330115 -1.0250592 -0.9472478\n",
       "10 TAX       -2.30962268 -2.4197636  -2.31199362 -2.4197636 -2.4157862\n",
       "11 PTRATIO   -0.03297958 -7.4909612  -0.19352322 -7.4909612 -7.2216414\n",
       "12 B         -3.32833222 -3.5212465  -3.33248497 -3.5212465 -3.5142800\n",
       "13 LSTAT     -0.01060013 -1.6473554  -0.04583361 -1.6473554 -1.5882495\n",
       "14 MEDV       0.04097286 -3.1409084  -0.02752165 -3.1409084 -3.0260055"
      ]
     },
     "metadata": {},
     "output_type": "display_data"
    }
   ],
   "source": [
    "# create point-z scores\n",
    "point_z_scores <- function(samp_df, stats_df){\n",
    "    features <- (rownames(stats_df))\n",
    "    point_z_df <- data.frame(features)\n",
    "    col <- colnames(samp_df)\n",
    "    z_scores_r1 <- (samp_df[[1]]-stats_df$mean) / stats_df$sd\n",
    "    z_scores_r2 <- (samp_df[[2]]-stats_df$mean) / stats_df$sd\n",
    "    z_scores_r3 <- (samp_df[[3]]-stats_df$mean) / stats_df$sd\n",
    "    z_scores_r4 <- (samp_df[[4]]-stats_df$mean) / stats_df$sd\n",
    "    z_scores_r5 <- (samp_df[[5]]-stats_df$mean) / stats_df$sd\n",
    "    z_scores <- cbind(z_scores_r1, z_scores_r2, z_scores_r3, z_scores_r4, z_scores_r5)\n",
    "    colnames(z_scores) <- col\n",
    "    point_z_df <- cbind(point_z_df, z_scores)\n",
    "    return(point_z_df)\n",
    "}\n",
    "a <- point_z_scores(t(samp), samp_stats)\n",
    "a"
   ]
  },
  {
   "cell_type": "code",
   "execution_count": 15,
   "metadata": {},
   "outputs": [
    {
     "data": {
      "text/html": [
       "<table>\n",
       "<thead><tr><th></th><th scope=col>features</th><th scope=col>375</th><th scope=col>311</th><th scope=col>306</th><th scope=col>147</th><th scope=col>137</th></tr></thead>\n",
       "<tbody>\n",
       "\t<tr><th scope=row>1</th><td>CRIM        </td><td>  1.77019219</td><td>-0.6086996  </td><td>  1.71898317</td><td>-0.6086996  </td><td>-0.5227939  </td></tr>\n",
       "\t<tr><th scope=row>2</th><td>ZN          </td><td>  0.80621770</td><td>-0.4472136  </td><td>  0.77923581</td><td>-0.4472136  </td><td>-0.4019502  </td></tr>\n",
       "\t<tr><th scope=row>3</th><td>INDUS       </td><td>  0.51096808</td><td>-1.7566750  </td><td>  0.46215385</td><td>-1.7566750  </td><td>-1.6747867  </td></tr>\n",
       "\t<tr><th scope=row>5</th><td>NOX         </td><td>117.93973373</td><td>-4.1979847  </td><td>115.31054605</td><td>-4.1979847  </td><td> 0.2126063  </td></tr>\n",
       "\t<tr><th scope=row>6</th><td>RM          </td><td> 13.77910095</td><td>-5.7693671  </td><td> 13.35829244</td><td>-5.7693671  </td><td>-5.0634402  </td></tr>\n",
       "\t<tr><th scope=row>7</th><td>AGE         </td><td> -2.09285935</td><td>-2.7448122  </td><td> -2.10689356</td><td>-2.7448122  </td><td>-2.7212691  </td></tr>\n",
       "\t<tr><th scope=row>8</th><td>DIS         </td><td> 18.70279346</td><td>-2.3976806  </td><td> 18.24857582</td><td>-2.3976806  </td><td>-1.6357082  </td></tr>\n",
       "\t<tr><th scope=row>9</th><td>RAD         </td><td>  1.12968508</td><td>-1.0250592  </td><td>  1.08330115</td><td>-1.0250592  </td><td>-0.9472478  </td></tr>\n",
       "\t<tr><th scope=row>10</th><td>TAX         </td><td> -2.30962268</td><td>-2.4197636  </td><td> -2.31199362</td><td>-2.4197636  </td><td>-2.4157862  </td></tr>\n",
       "\t<tr><th scope=row>11</th><td>PTRATIO     </td><td> -0.03297958</td><td>-7.4909612  </td><td> -0.19352322</td><td>-7.4909612  </td><td>-7.2216414  </td></tr>\n",
       "\t<tr><th scope=row>12</th><td>B           </td><td> -3.32833222</td><td>-3.5212465  </td><td> -3.33248497</td><td>-3.5212465  </td><td>-3.5142800  </td></tr>\n",
       "\t<tr><th scope=row>13</th><td>LSTAT       </td><td> -0.01060013</td><td>-1.6473554  </td><td> -0.04583361</td><td>-1.6473554  </td><td>-1.5882495  </td></tr>\n",
       "\t<tr><th scope=row>14</th><td>MEDV        </td><td>  0.04097286</td><td>-3.1409084  </td><td> -0.02752165</td><td>-3.1409084  </td><td>-3.0260055  </td></tr>\n",
       "</tbody>\n",
       "</table>\n"
      ],
      "text/latex": [
       "\\begin{tabular}{r|llllll}\n",
       "  & features & 375 & 311 & 306 & 147 & 137\\\\\n",
       "\\hline\n",
       "\t1 & CRIM         &   1.77019219 & -0.6086996   &   1.71898317 & -0.6086996   & -0.5227939  \\\\\n",
       "\t2 & ZN           &   0.80621770 & -0.4472136   &   0.77923581 & -0.4472136   & -0.4019502  \\\\\n",
       "\t3 & INDUS        &   0.51096808 & -1.7566750   &   0.46215385 & -1.7566750   & -1.6747867  \\\\\n",
       "\t5 & NOX          & 117.93973373 & -4.1979847   & 115.31054605 & -4.1979847   &  0.2126063  \\\\\n",
       "\t6 & RM           &  13.77910095 & -5.7693671   &  13.35829244 & -5.7693671   & -5.0634402  \\\\\n",
       "\t7 & AGE          &  -2.09285935 & -2.7448122   &  -2.10689356 & -2.7448122   & -2.7212691  \\\\\n",
       "\t8 & DIS          &  18.70279346 & -2.3976806   &  18.24857582 & -2.3976806   & -1.6357082  \\\\\n",
       "\t9 & RAD          &   1.12968508 & -1.0250592   &   1.08330115 & -1.0250592   & -0.9472478  \\\\\n",
       "\t10 & TAX          &  -2.30962268 & -2.4197636   &  -2.31199362 & -2.4197636   & -2.4157862  \\\\\n",
       "\t11 & PTRATIO      &  -0.03297958 & -7.4909612   &  -0.19352322 & -7.4909612   & -7.2216414  \\\\\n",
       "\t12 & B            &  -3.32833222 & -3.5212465   &  -3.33248497 & -3.5212465   & -3.5142800  \\\\\n",
       "\t13 & LSTAT        &  -0.01060013 & -1.6473554   &  -0.04583361 & -1.6473554   & -1.5882495  \\\\\n",
       "\t14 & MEDV         &   0.04097286 & -3.1409084   &  -0.02752165 & -3.1409084   & -3.0260055  \\\\\n",
       "\\end{tabular}\n"
      ],
      "text/markdown": [
       "\n",
       "| <!--/--> | features | 375 | 311 | 306 | 147 | 137 | \n",
       "|---|---|---|---|---|---|---|---|---|---|---|---|---|\n",
       "| 1 | CRIM         |   1.77019219 | -0.6086996   |   1.71898317 | -0.6086996   | -0.5227939   | \n",
       "| 2 | ZN           |   0.80621770 | -0.4472136   |   0.77923581 | -0.4472136   | -0.4019502   | \n",
       "| 3 | INDUS        |   0.51096808 | -1.7566750   |   0.46215385 | -1.7566750   | -1.6747867   | \n",
       "| 5 | NOX          | 117.93973373 | -4.1979847   | 115.31054605 | -4.1979847   |  0.2126063   | \n",
       "| 6 | RM           |  13.77910095 | -5.7693671   |  13.35829244 | -5.7693671   | -5.0634402   | \n",
       "| 7 | AGE          |  -2.09285935 | -2.7448122   |  -2.10689356 | -2.7448122   | -2.7212691   | \n",
       "| 8 | DIS          |  18.70279346 | -2.3976806   |  18.24857582 | -2.3976806   | -1.6357082   | \n",
       "| 9 | RAD          |   1.12968508 | -1.0250592   |   1.08330115 | -1.0250592   | -0.9472478   | \n",
       "| 10 | TAX          |  -2.30962268 | -2.4197636   |  -2.31199362 | -2.4197636   | -2.4157862   | \n",
       "| 11 | PTRATIO      |  -0.03297958 | -7.4909612   |  -0.19352322 | -7.4909612   | -7.2216414   | \n",
       "| 12 | B            |  -3.32833222 | -3.5212465   |  -3.33248497 | -3.5212465   | -3.5142800   | \n",
       "| 13 | LSTAT        |  -0.01060013 | -1.6473554   |  -0.04583361 | -1.6473554   | -1.5882495   | \n",
       "| 14 | MEDV         |   0.04097286 | -3.1409084   |  -0.02752165 | -3.1409084   | -3.0260055   | \n",
       "\n",
       "\n"
      ],
      "text/plain": [
       "   features 375          311        306          147        137       \n",
       "1  CRIM       1.77019219 -0.6086996   1.71898317 -0.6086996 -0.5227939\n",
       "2  ZN         0.80621770 -0.4472136   0.77923581 -0.4472136 -0.4019502\n",
       "3  INDUS      0.51096808 -1.7566750   0.46215385 -1.7566750 -1.6747867\n",
       "5  NOX      117.93973373 -4.1979847 115.31054605 -4.1979847  0.2126063\n",
       "6  RM        13.77910095 -5.7693671  13.35829244 -5.7693671 -5.0634402\n",
       "7  AGE       -2.09285935 -2.7448122  -2.10689356 -2.7448122 -2.7212691\n",
       "8  DIS       18.70279346 -2.3976806  18.24857582 -2.3976806 -1.6357082\n",
       "9  RAD        1.12968508 -1.0250592   1.08330115 -1.0250592 -0.9472478\n",
       "10 TAX       -2.30962268 -2.4197636  -2.31199362 -2.4197636 -2.4157862\n",
       "11 PTRATIO   -0.03297958 -7.4909612  -0.19352322 -7.4909612 -7.2216414\n",
       "12 B         -3.32833222 -3.5212465  -3.33248497 -3.5212465 -3.5142800\n",
       "13 LSTAT     -0.01060013 -1.6473554  -0.04583361 -1.6473554 -1.5882495\n",
       "14 MEDV       0.04097286 -3.1409084  -0.02752165 -3.1409084 -3.0260055"
      ]
     },
     "metadata": {},
     "output_type": "display_data"
    }
   ],
   "source": [
    "# remove `CHAS`\n",
    "a <- a[-4,]\n",
    "a"
   ]
  },
  {
   "cell_type": "code",
   "execution_count": 16,
   "metadata": {},
   "outputs": [
    {
     "name": "stderr",
     "output_type": "stream",
     "text": [
      "Using features as id variables\n"
     ]
    },
    {
     "data": {},
     "metadata": {},
     "output_type": "display_data"
    },
    {
     "data": {
      "image/png": "[encoded data removed]",
      "text/plain": [
       "plot without title"
      ]
     },
     "metadata": {},
     "output_type": "display_data"
    }
   ],
   "source": [
    "a <- melt(a)\n",
    "ggplot(a, aes(x=features, y=variable)) + \n",
    "    geom_tile(aes(fill=value)) +\n",
    "    scale_fill_gradient(low=\"yellow\", high=\"skyblue\")"
   ]
  },
  {
   "cell_type": "markdown",
   "metadata": {},
   "source": [
    "The heatmap for the Z-scores is not particularly descriptive since some samples have outliers with very large Z-scores. "
   ]
  },
  {
   "cell_type": "markdown",
   "metadata": {},
   "source": [
    "### Comparing Values\n",
    "\n",
    "Before scaling our data to Z-scores, we can not compare values across categories (different means and standard deviations). Ex: we cannot compare ages with proportions, since they are not in the same scale.\n",
    "\n",
    "However, by taking the Z-score of the sample, we can compare each feature of the sample since they now have means around 0, and standard deviations of 1. This places each feature on the same scale. "
   ]
  },
  {
   "cell_type": "code",
   "execution_count": null,
   "metadata": {},
   "outputs": [],
   "source": []
  },
  {
   "cell_type": "code",
   "execution_count": null,
   "metadata": {},
   "outputs": [],
   "source": []
  }
 ],
 "metadata": {
  "kernelspec": {
   "display_name": "R",
   "language": "R",
   "name": "ir"
  },
  "language_info": {
   "codemirror_mode": "r",
   "file_extension": ".r",
   "mimetype": "text/x-r-source",
   "name": "R",
   "pygments_lexer": "r",
   "version": "3.3.2"
  }
 },
 "nbformat": 4,
 "nbformat_minor": 2
}
