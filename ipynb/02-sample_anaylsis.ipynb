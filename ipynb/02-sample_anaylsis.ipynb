{
 "cells": [
  {
   "cell_type": "markdown",
   "metadata": {},
   "source": [
    "## Sample Analysis"
   ]
  },
  {
   "cell_type": "code",
   "execution_count": 1,
   "metadata": {},
   "outputs": [],
   "source": [
    "boston <- read.table('https://archive.ics.uci.edu/ml/machine-learning-databases/housing/housing.data')"
   ]
  },
  {
   "cell_type": "code",
   "execution_count": 2,
   "metadata": {},
   "outputs": [
    {
     "name": "stderr",
     "output_type": "stream",
     "text": [
      "Warning message:\n",
      "“S3 methods ‘[.fun_list’, ‘[.grouped_df’, ‘all.equal.tbl_df’, ‘anti_join.data.frame’, ‘anti_join.tbl_df’, ‘arrange.data.frame’, ‘arrange.default’, ‘arrange.grouped_df’, ‘arrange.tbl_df’, ‘arrange_.data.frame’, ‘arrange_.tbl_df’, ‘as.data.frame.grouped_df’, ‘as.data.frame.rowwise_df’, ‘as.data.frame.tbl_cube’, ‘as.data.frame.tbl_df’, ‘as.table.tbl_cube’, ‘as.tbl.data.frame’, ‘as.tbl.tbl’, ‘as.tbl_cube.array’, ‘as.tbl_cube.data.frame’, ‘as.tbl_cube.matrix’, ‘as.tbl_cube.table’, ‘as_data_frame.grouped_df’, ‘as_data_frame.tbl_cube’, ‘auto_copy.tbl_cube’, ‘auto_copy.tbl_df’, ‘cbind.grouped_df’, ‘collapse.data.frame’, ‘collect.data.frame’, ‘common_by.NULL’, ‘common_by.character’, ‘common_by.default’, ‘common_by.list’, ‘compute.data.frame’, ‘copy_to.DBIConnection’, ‘copy_to.src_local’, ‘default_missing.data.frame’, ‘default_missing.default’, ‘dim.tbl_cube’, ‘distinct.data.frame’, ‘distinct.default’, ‘distinct.grouped_df’, ‘distinct.tbl_df’, ‘distinct_.data.frame’, ‘distinct_.grouped_df’, ‘distinct_.tbl_df’, ‘do.NULL’, ‘do.data.frame’, ‘do.default’, ‘do.grouped_df’, ‘do.rowwise_df’, ‘do_.NULL’, ‘do_.data.frame’, ‘do_.grouped_df’, ‘do_.rowwise_df’, ‘filter.data.frame’, ‘filter.default’, ‘filter.tbl_cube’, ‘filter.tbl_df’, ‘filter.ts’, ‘filter_.data.frame’, ‘filter_.tbl_cube’, ‘filter_.tbl_df’, ‘format.src_local’, ‘full_join.data.frame’, ‘full_join.tbl_df’, ‘group_by.data.frame’, ‘group_by.default’, ‘group_by.rowwise_df’, ‘group_by.tbl_cube’, ‘group_by_.data.frame’, ‘group_by_.rowwise_df’, ‘group_by_.tbl_cube’, ‘group_indices.data.frame’, ‘group_indices.default’, ‘group_indices.grouped_df’, ‘group_indices_.data.frame’, ‘group_indices_.grouped_df’, ‘group_size.data.frame’, ‘group_size.grouped_df’, ‘group_size.rowwise_df’, ‘group_vars.default’, ‘group_vars.grouped_df’, ‘group_vars.tbl_cube’, ‘groups.data.frame’, ‘groups.grouped_df’, ‘groups.tbl_cube’, ‘inner_join.data.frame’, ‘inner_join.tbl_df’, ‘intersect.data.frame’, ‘intersect.default’, ‘left_join.data.frame’, ‘left_join.tbl_df’, ‘mutate.data.frame’, ‘mutate.default’, ‘mutate.tbl_df’, ‘mutate_.data.frame’, ‘mutate_.tbl_df’, ‘n_groups.data.frame’, ‘n_groups.grouped_df’, ‘n_groups.rowwise_df’, ‘print.BoolResult’, ‘print.all_vars’, ‘print.any_vars’, ‘print.fun_list’, ‘print.location’, ‘print.rowwise_df’, ‘print.src’, ‘print.tbl_cube’, ‘pull.data.frame’, ‘rbind.grouped_df’, ‘recode.character’, ‘recode.factor’, ‘recode.numeric’, ‘rename.data.frame’, ‘rename.default’, ‘rename.grouped_df’, ‘rename.tbl_cube’, ‘rename_.data.frame’, ‘rename_.grouped_df’, ‘rename_.tbl_cube’, ‘right_join.data.frame’, ‘right_join.tbl_df’, ‘same_src.data.frame’, ‘same_src.tbl_cube’, ‘sample_frac.data.frame’, ‘sample_frac.default’, ‘sample_frac.grouped_df’, ‘sample_n.data.frame’, ‘sample_n.default’, ‘sample_n.grouped_df’, ‘select.data.frame’, ‘select.default’, ‘select.grouped_df’, ‘select.tbl_cube’, ‘select_.data.frame’, ‘select_.grouped_df’, ‘select_.tbl_cube’, ‘semi_join.data.frame’, ‘semi_join.tbl_df’, ‘setdiff.data.frame’, ‘setdiff.default’, ‘setequal.data.frame’, ‘setequal.default’, ‘slice.data.frame’, ‘slice.default’, ‘slice.tbl_df’, ‘slice_.data.frame’, ‘slice_.tbl_df’, ‘src_tbls.src_local’, ‘summarise.data.frame’, ‘summarise.default’, ‘summarise.tbl_cube’, ‘summarise.tbl_df’, ‘summarise_.data.frame’, ‘summarise_.tbl_cube’, ‘summarise_.tbl_df’, ‘tbl.DBIConnection’, ‘tbl.src_local’, ‘tbl_sum.grouped_df’, ‘tbl_vars.data.frame’, ‘tbl_vars.tbl_cube’, ‘transmute.default’, ‘transmute_.default’, ‘ungroup.data.frame’, ‘ungroup.grouped_df’, ‘ungroup.rowwise_df’, ‘union.data.frame’, ‘union.default’, ‘union_all.data.frame’, ‘union_all.default’ were declared in NAMESPACE but not found”"
     ]
    },
    {
     "ename": "ERROR",
     "evalue": "Error: package or namespace load failed for ‘dplyr’\n",
     "output_type": "error",
     "traceback": [
      "Error: package or namespace load failed for ‘dplyr’\nTraceback:\n",
      "1. library(dplyr, warn.conflicts = FALSE)",
      "2. stop(gettextf(\"package or namespace load failed for %s\", sQuote(package)), \n .     call. = FALSE, domain = NA)"
     ]
    }
   ],
   "source": [
    "install.packages(\"dplyr\")\n",
    "library(\"dplyr\", warn.conflicts = FALSE)"
   ]
  },
  {
   "cell_type": "code",
   "execution_count": null,
   "metadata": {},
   "outputs": [],
   "source": [
    "install.packages(\"psych\")\n",
    "library(\"psych\")"
   ]
  },
  {
   "cell_type": "code",
   "execution_count": null,
   "metadata": {},
   "outputs": [],
   "source": [
    "library(ggplot2)\n",
    "library(reshape2)"
   ]
  },
  {
   "cell_type": "code",
   "execution_count": null,
   "metadata": {},
   "outputs": [],
   "source": [
    "features <- c('CRIM', 'ZN', 'INDUS', 'CHAS', 'NOX', 'RM', 'AGE', 'DIS', 'RAD', 'TAX', 'PTRATIO', 'B', 'LSTAT', 'MEDV')\n",
    "boston_stats <- data.frame(features)\n",
    "stats <- describe(boston)\n",
    "stats$vars <- NULL; stats$trimmed <- NULL; stats$mad <- NULL;\n",
    "boston_stats <- cbind(boston_stats, stats)\n",
    "boston_stats"
   ]
  },
  {
   "cell_type": "markdown",
   "metadata": {},
   "source": [
    "#### Data subset (n = 5)"
   ]
  },
  {
   "cell_type": "code",
   "execution_count": null,
   "metadata": {},
   "outputs": [],
   "source": [
    "randomSample = function(df, n){\n",
    "    return (df[sample(nrow(df), n),])\n",
    "}"
   ]
  },
  {
   "cell_type": "code",
   "execution_count": null,
   "metadata": {},
   "outputs": [],
   "source": [
    "samp <- randomSample(boston,5)\n"
   ]
  },
  {
   "cell_type": "code",
   "execution_count": null,
   "metadata": {},
   "outputs": [],
   "source": [
    "samp_stats <- describe(samp)\n",
    "samp_stats <- cbind(features, samp_stats)\n",
    "samp_stats$vars <- NULL ; samp_stats$trimmed <- NULL ; samp_stats$mad <- NULL\n",
    "samp_stats"
   ]
  },
  {
   "cell_type": "markdown",
   "metadata": {},
   "source": [
    "#### Z-scores of sample data set\n",
    "\n",
    "Z-score = $(X - \\mu)/\\sigma $\n",
    "\n",
    "where $X$ = sample mean, and $\\mu$ = population mean, and $\\sigma$ = population standard dev"
   ]
  },
  {
   "cell_type": "code",
   "execution_count": null,
   "metadata": {},
   "outputs": [],
   "source": [
    "z_score <- function (X, mu, sd){\n",
    "    z <- (X - mu)/sd\n",
    "    return(z)\n",
    "}"
   ]
  },
  {
   "cell_type": "code",
   "execution_count": null,
   "metadata": {},
   "outputs": [],
   "source": [
    "samp_z_score <- z_score(samp_stats$mean, boston_stats$mean, boston_stats$sd)\n",
    "samp_z_df <- data.frame(features, samp_z_score)\n"
   ]
  },
  {
   "cell_type": "code",
   "execution_count": null,
   "metadata": {},
   "outputs": [],
   "source": [
    "samp_z_df1 <- subset(samp_z_df, samp_z_score >= 0)\n",
    "samp_z_df2 <- subset(samp_z_df, samp_z_score <0)\n"
   ]
  },
  {
   "cell_type": "markdown",
   "metadata": {},
   "source": [
    "#### Bar Plot\n",
    "\n",
    "Z-scores for the sample means.\n",
    "Z-scores close to 0 indicate that the sample mean is close to the population mean. "
   ]
  },
  {
   "cell_type": "code",
   "execution_count": null,
   "metadata": {},
   "outputs": [],
   "source": [
    "ggplot() +\n",
    "    geom_bar(data=samp_z_df1, aes(x=features, y=samp_z_score), stat = \"identity\") +\n",
    "    geom_bar(data=samp_z_df2, aes(x=features, y=samp_z_score), stat = \"identity\") +\n",
    "    theme_classic()"
   ]
  },
  {
   "cell_type": "markdown",
   "metadata": {},
   "source": [
    "#### Heat Map\n",
    "\n",
    "For a heat map: X-axis feature, Y-axis instances, Z = color"
   ]
  },
  {
   "cell_type": "code",
   "execution_count": null,
   "metadata": {},
   "outputs": [],
   "source": [
    "colnames(samp) <- features\n",
    "samp\n",
    "rownames(samp)"
   ]
  },
  {
   "cell_type": "code",
   "execution_count": null,
   "metadata": {},
   "outputs": [],
   "source": [
    "ggplot(samp) +\n",
    "    geom_tile(aes(fill=z))"
   ]
  },
  {
   "cell_type": "markdown",
   "metadata": {},
   "source": [
    "### Comparing Values\n",
    "\n",
    "Before scaling our data to Z-scores, we can not compare values across categories (different means and standard deviations). Ex: we cannot compare ages with proportions, since they are not in the same scale.\n",
    "\n",
    "However, by taking the Z-score of the sample, we can compare each feature of the sample since they now have means around 0, and standard deviations of 1. This places each feature on the same scale. "
   ]
  },
  {
   "cell_type": "code",
   "execution_count": null,
   "metadata": {},
   "outputs": [],
   "source": []
  }
 ],
 "metadata": {
  "kernelspec": {
   "display_name": "R",
   "language": "R",
   "name": "ir"
  },
  "language_info": {
   "codemirror_mode": "r",
   "file_extension": ".r",
   "mimetype": "text/x-r-source",
   "name": "R",
   "pygments_lexer": "r",
   "version": "3.3.2"
  }
 },
 "nbformat": 4,
 "nbformat_minor": 2
}
