{
 "cells": [
  {
   "cell_type": "markdown",
   "metadata": {},
   "source": [
    "## Sample Analysis"
   ]
  },
  {
   "cell_type": "code",
   "execution_count": 1,
   "metadata": {},
   "outputs": [],
   "source": [
    "boston <- read.table('https://archive.ics.uci.edu/ml/machine-learning-databases/housing/housing.data')"
   ]
  },
  {
   "cell_type": "code",
   "execution_count": 2,
   "metadata": {},
   "outputs": [
    {
     "name": "stderr",
     "output_type": "stream",
     "text": [
      "Warning message in install.packages(\"dplyr\"):\n",
      "“installation of package ‘dplyr’ had non-zero exit status”Updating HTML index of packages in '.Library'\n",
      "Making 'packages.html' ... done\n",
      "\n",
      "Attaching package: ‘dplyr’\n",
      "\n",
      "The following objects are masked from ‘package:stats’:\n",
      "\n",
      "    filter, lag\n",
      "\n",
      "The following objects are masked from ‘package:base’:\n",
      "\n",
      "    intersect, setdiff, setequal, union\n",
      "\n"
     ]
    }
   ],
   "source": [
    "install.packages(\"dplyr\")\n",
    "library(\"dplyr\")"
   ]
  },
  {
   "cell_type": "code",
   "execution_count": 3,
   "metadata": {},
   "outputs": [
    {
     "name": "stderr",
     "output_type": "stream",
     "text": [
      "Updating HTML index of packages in '.Library'\n",
      "Making 'packages.html' ... done\n"
     ]
    }
   ],
   "source": [
    "install.packages(\"psych\")\n",
    "library(\"psych\")"
   ]
  },
  {
   "cell_type": "code",
   "execution_count": 4,
   "metadata": {},
   "outputs": [
    {
     "name": "stderr",
     "output_type": "stream",
     "text": [
      "\n",
      "Attaching package: ‘ggplot2’\n",
      "\n",
      "The following objects are masked from ‘package:psych’:\n",
      "\n",
      "    %+%, alpha\n",
      "\n"
     ]
    }
   ],
   "source": [
    "library(ggplot2)\n",
    "library(reshape2)"
   ]
  },
  {
   "cell_type": "code",
   "execution_count": 5,
   "metadata": {},
   "outputs": [],
   "source": [
    "colnames(boston) = c('CRIM', 'ZN', 'INDUS', 'CHAS', 'NOX', 'RM', 'AGE', 'DIS', 'RAD', 'TAX', 'PTRATIO', 'B', 'LSTAT', 'MEDV')"
   ]
  },
  {
   "cell_type": "code",
   "execution_count": 6,
   "metadata": {},
   "outputs": [
    {
     "data": {
      "text/html": [
       "<table>\n",
       "<thead><tr><th></th><th scope=col>vars</th><th scope=col>n</th><th scope=col>mean</th><th scope=col>sd</th><th scope=col>median</th><th scope=col>min</th><th scope=col>max</th><th scope=col>range</th><th scope=col>skew</th><th scope=col>kurtosis</th><th scope=col>se</th></tr></thead>\n",
       "<tbody>\n",
       "\t<tr><th scope=row>CRIM</th><td> 1          </td><td>506         </td><td>  3.61352356</td><td>  8.6015451 </td><td>  0.25651   </td><td>  0.00632   </td><td> 88.9762    </td><td> 88.96988   </td><td> 5.1922223  </td><td>36.59581589 </td><td>0.382385321 </td></tr>\n",
       "\t<tr><th scope=row>ZN</th><td> 2          </td><td>506         </td><td> 11.36363636</td><td> 23.3224530 </td><td>  0.00000   </td><td>  0.00000   </td><td>100.0000    </td><td>100.00000   </td><td> 2.2124881  </td><td> 3.95238731 </td><td>1.036809500 </td></tr>\n",
       "\t<tr><th scope=row>INDUS</th><td> 3          </td><td>506         </td><td> 11.13677866</td><td>  6.8603529 </td><td>  9.69000   </td><td>  0.46000   </td><td> 27.7400    </td><td> 27.28000   </td><td> 0.2932747  </td><td>-1.24019490 </td><td>0.304979888 </td></tr>\n",
       "\t<tr><th scope=row>CHAS</th><td> 4          </td><td>506         </td><td>  0.06916996</td><td>  0.2539940 </td><td>  0.00000   </td><td>  0.00000   </td><td>  1.0000    </td><td>  1.00000   </td><td> 3.3857377  </td><td> 9.48197035 </td><td>0.011291412 </td></tr>\n",
       "\t<tr><th scope=row>NOX</th><td> 5          </td><td>506         </td><td>  0.55469506</td><td>  0.1158777 </td><td>  0.53800   </td><td>  0.38500   </td><td>  0.8710    </td><td>  0.48600   </td><td> 0.7249897  </td><td>-0.08741064 </td><td>0.005151391 </td></tr>\n",
       "\t<tr><th scope=row>RM</th><td> 6          </td><td>506         </td><td>  6.28463439</td><td>  0.7026171 </td><td>  6.20850   </td><td>  3.56100   </td><td>  8.7800    </td><td>  5.21900   </td><td> 0.4012223  </td><td> 1.84183241 </td><td>0.031235142 </td></tr>\n",
       "\t<tr><th scope=row>AGE</th><td> 7          </td><td>506         </td><td> 68.57490119</td><td> 28.1488614 </td><td> 77.50000   </td><td>  2.90000   </td><td>100.0000    </td><td> 97.10000   </td><td>-0.5954162  </td><td>-0.97802966 </td><td>1.251369525 </td></tr>\n",
       "\t<tr><th scope=row>DIS</th><td> 8          </td><td>506         </td><td>  3.79504269</td><td>  2.1057101 </td><td>  3.20745   </td><td>  1.12960   </td><td> 12.1265    </td><td> 10.99690   </td><td> 1.0057898  </td><td> 0.45759158 </td><td>0.093610233 </td></tr>\n",
       "\t<tr><th scope=row>RAD</th><td> 9          </td><td>506         </td><td>  9.54940711</td><td>  8.7072594 </td><td>  5.00000   </td><td>  1.00000   </td><td> 24.0000    </td><td> 23.00000   </td><td> 0.9988651  </td><td>-0.87892910 </td><td>0.387084894 </td></tr>\n",
       "\t<tr><th scope=row>TAX</th><td>10          </td><td>506         </td><td>408.23715415</td><td>168.5371161 </td><td>330.00000   </td><td>187.00000   </td><td>711.0000    </td><td>524.00000   </td><td> 0.6659891  </td><td>-1.15031761 </td><td>7.492388692 </td></tr>\n",
       "\t<tr><th scope=row>PTRATIO</th><td>11          </td><td>506         </td><td> 18.45553360</td><td>  2.1649455 </td><td> 19.05000   </td><td> 12.60000   </td><td> 22.0000    </td><td>  9.40000   </td><td>-0.7975743  </td><td>-0.30480100 </td><td>0.096243568 </td></tr>\n",
       "\t<tr><th scope=row>B</th><td>12          </td><td>506         </td><td>356.67403162</td><td> 91.2948644 </td><td>391.44000   </td><td>  0.32000   </td><td>396.9000    </td><td>396.58000   </td><td>-2.8732597  </td><td> 7.10371496 </td><td>4.058551763 </td></tr>\n",
       "\t<tr><th scope=row>LSTAT</th><td>13          </td><td>506         </td><td> 12.65306324</td><td>  7.1410615 </td><td> 11.36000   </td><td>  1.73000   </td><td> 37.9700    </td><td> 36.24000   </td><td> 0.9010929  </td><td> 0.46281705 </td><td>0.317458906 </td></tr>\n",
       "\t<tr><th scope=row>MEDV</th><td>14          </td><td>506         </td><td> 22.53280632</td><td>  9.1971041 </td><td> 21.20000   </td><td>  5.00000   </td><td> 50.0000    </td><td> 45.00000   </td><td> 1.1015373  </td><td> 1.45098366 </td><td>0.408861147 </td></tr>\n",
       "</tbody>\n",
       "</table>\n"
      ],
      "text/latex": [
       "\\begin{tabular}{r|lllllllllll}\n",
       "  & vars & n & mean & sd & median & min & max & range & skew & kurtosis & se\\\\\n",
       "\\hline\n",
       "\tCRIM &  1           & 506          &   3.61352356 &   8.6015451  &   0.25651    &   0.00632    &  88.9762     &  88.96988    &  5.1922223   & 36.59581589  & 0.382385321 \\\\\n",
       "\tZN &  2           & 506          &  11.36363636 &  23.3224530  &   0.00000    &   0.00000    & 100.0000     & 100.00000    &  2.2124881   &  3.95238731  & 1.036809500 \\\\\n",
       "\tINDUS &  3           & 506          &  11.13677866 &   6.8603529  &   9.69000    &   0.46000    &  27.7400     &  27.28000    &  0.2932747   & -1.24019490  & 0.304979888 \\\\\n",
       "\tCHAS &  4           & 506          &   0.06916996 &   0.2539940  &   0.00000    &   0.00000    &   1.0000     &   1.00000    &  3.3857377   &  9.48197035  & 0.011291412 \\\\\n",
       "\tNOX &  5           & 506          &   0.55469506 &   0.1158777  &   0.53800    &   0.38500    &   0.8710     &   0.48600    &  0.7249897   & -0.08741064  & 0.005151391 \\\\\n",
       "\tRM &  6           & 506          &   6.28463439 &   0.7026171  &   6.20850    &   3.56100    &   8.7800     &   5.21900    &  0.4012223   &  1.84183241  & 0.031235142 \\\\\n",
       "\tAGE &  7           & 506          &  68.57490119 &  28.1488614  &  77.50000    &   2.90000    & 100.0000     &  97.10000    & -0.5954162   & -0.97802966  & 1.251369525 \\\\\n",
       "\tDIS &  8           & 506          &   3.79504269 &   2.1057101  &   3.20745    &   1.12960    &  12.1265     &  10.99690    &  1.0057898   &  0.45759158  & 0.093610233 \\\\\n",
       "\tRAD &  9           & 506          &   9.54940711 &   8.7072594  &   5.00000    &   1.00000    &  24.0000     &  23.00000    &  0.9988651   & -0.87892910  & 0.387084894 \\\\\n",
       "\tTAX & 10           & 506          & 408.23715415 & 168.5371161  & 330.00000    & 187.00000    & 711.0000     & 524.00000    &  0.6659891   & -1.15031761  & 7.492388692 \\\\\n",
       "\tPTRATIO & 11           & 506          &  18.45553360 &   2.1649455  &  19.05000    &  12.60000    &  22.0000     &   9.40000    & -0.7975743   & -0.30480100  & 0.096243568 \\\\\n",
       "\tB & 12           & 506          & 356.67403162 &  91.2948644  & 391.44000    &   0.32000    & 396.9000     & 396.58000    & -2.8732597   &  7.10371496  & 4.058551763 \\\\\n",
       "\tLSTAT & 13           & 506          &  12.65306324 &   7.1410615  &  11.36000    &   1.73000    &  37.9700     &  36.24000    &  0.9010929   &  0.46281705  & 0.317458906 \\\\\n",
       "\tMEDV & 14           & 506          &  22.53280632 &   9.1971041  &  21.20000    &   5.00000    &  50.0000     &  45.00000    &  1.1015373   &  1.45098366  & 0.408861147 \\\\\n",
       "\\end{tabular}\n"
      ],
      "text/markdown": [
       "\n",
       "| <!--/--> | vars | n | mean | sd | median | min | max | range | skew | kurtosis | se | \n",
       "|---|---|---|---|---|---|---|---|---|---|---|---|---|---|\n",
       "| CRIM |  1           | 506          |   3.61352356 |   8.6015451  |   0.25651    |   0.00632    |  88.9762     |  88.96988    |  5.1922223   | 36.59581589  | 0.382385321  | \n",
       "| ZN |  2           | 506          |  11.36363636 |  23.3224530  |   0.00000    |   0.00000    | 100.0000     | 100.00000    |  2.2124881   |  3.95238731  | 1.036809500  | \n",
       "| INDUS |  3           | 506          |  11.13677866 |   6.8603529  |   9.69000    |   0.46000    |  27.7400     |  27.28000    |  0.2932747   | -1.24019490  | 0.304979888  | \n",
       "| CHAS |  4           | 506          |   0.06916996 |   0.2539940  |   0.00000    |   0.00000    |   1.0000     |   1.00000    |  3.3857377   |  9.48197035  | 0.011291412  | \n",
       "| NOX |  5           | 506          |   0.55469506 |   0.1158777  |   0.53800    |   0.38500    |   0.8710     |   0.48600    |  0.7249897   | -0.08741064  | 0.005151391  | \n",
       "| RM |  6           | 506          |   6.28463439 |   0.7026171  |   6.20850    |   3.56100    |   8.7800     |   5.21900    |  0.4012223   |  1.84183241  | 0.031235142  | \n",
       "| AGE |  7           | 506          |  68.57490119 |  28.1488614  |  77.50000    |   2.90000    | 100.0000     |  97.10000    | -0.5954162   | -0.97802966  | 1.251369525  | \n",
       "| DIS |  8           | 506          |   3.79504269 |   2.1057101  |   3.20745    |   1.12960    |  12.1265     |  10.99690    |  1.0057898   |  0.45759158  | 0.093610233  | \n",
       "| RAD |  9           | 506          |   9.54940711 |   8.7072594  |   5.00000    |   1.00000    |  24.0000     |  23.00000    |  0.9988651   | -0.87892910  | 0.387084894  | \n",
       "| TAX | 10           | 506          | 408.23715415 | 168.5371161  | 330.00000    | 187.00000    | 711.0000     | 524.00000    |  0.6659891   | -1.15031761  | 7.492388692  | \n",
       "| PTRATIO | 11           | 506          |  18.45553360 |   2.1649455  |  19.05000    |  12.60000    |  22.0000     |   9.40000    | -0.7975743   | -0.30480100  | 0.096243568  | \n",
       "| B | 12           | 506          | 356.67403162 |  91.2948644  | 391.44000    |   0.32000    | 396.9000     | 396.58000    | -2.8732597   |  7.10371496  | 4.058551763  | \n",
       "| LSTAT | 13           | 506          |  12.65306324 |   7.1410615  |  11.36000    |   1.73000    |  37.9700     |  36.24000    |  0.9010929   |  0.46281705  | 0.317458906  | \n",
       "| MEDV | 14           | 506          |  22.53280632 |   9.1971041  |  21.20000    |   5.00000    |  50.0000     |  45.00000    |  1.1015373   |  1.45098366  | 0.408861147  | \n",
       "\n",
       "\n"
      ],
      "text/plain": [
       "        vars n   mean         sd          median    min       max     \n",
       "CRIM     1   506   3.61352356   8.6015451   0.25651   0.00632  88.9762\n",
       "ZN       2   506  11.36363636  23.3224530   0.00000   0.00000 100.0000\n",
       "INDUS    3   506  11.13677866   6.8603529   9.69000   0.46000  27.7400\n",
       "CHAS     4   506   0.06916996   0.2539940   0.00000   0.00000   1.0000\n",
       "NOX      5   506   0.55469506   0.1158777   0.53800   0.38500   0.8710\n",
       "RM       6   506   6.28463439   0.7026171   6.20850   3.56100   8.7800\n",
       "AGE      7   506  68.57490119  28.1488614  77.50000   2.90000 100.0000\n",
       "DIS      8   506   3.79504269   2.1057101   3.20745   1.12960  12.1265\n",
       "RAD      9   506   9.54940711   8.7072594   5.00000   1.00000  24.0000\n",
       "TAX     10   506 408.23715415 168.5371161 330.00000 187.00000 711.0000\n",
       "PTRATIO 11   506  18.45553360   2.1649455  19.05000  12.60000  22.0000\n",
       "B       12   506 356.67403162  91.2948644 391.44000   0.32000 396.9000\n",
       "LSTAT   13   506  12.65306324   7.1410615  11.36000   1.73000  37.9700\n",
       "MEDV    14   506  22.53280632   9.1971041  21.20000   5.00000  50.0000\n",
       "        range     skew       kurtosis    se         \n",
       "CRIM     88.96988  5.1922223 36.59581589 0.382385321\n",
       "ZN      100.00000  2.2124881  3.95238731 1.036809500\n",
       "INDUS    27.28000  0.2932747 -1.24019490 0.304979888\n",
       "CHAS      1.00000  3.3857377  9.48197035 0.011291412\n",
       "NOX       0.48600  0.7249897 -0.08741064 0.005151391\n",
       "RM        5.21900  0.4012223  1.84183241 0.031235142\n",
       "AGE      97.10000 -0.5954162 -0.97802966 1.251369525\n",
       "DIS      10.99690  1.0057898  0.45759158 0.093610233\n",
       "RAD      23.00000  0.9988651 -0.87892910 0.387084894\n",
       "TAX     524.00000  0.6659891 -1.15031761 7.492388692\n",
       "PTRATIO   9.40000 -0.7975743 -0.30480100 0.096243568\n",
       "B       396.58000 -2.8732597  7.10371496 4.058551763\n",
       "LSTAT    36.24000  0.9010929  0.46281705 0.317458906\n",
       "MEDV     45.00000  1.1015373  1.45098366 0.408861147"
      ]
     },
     "metadata": {},
     "output_type": "display_data"
    }
   ],
   "source": [
    "stats <- describe(boston)\n",
    "stats$trimmed <- NULL\n",
    "stats$mad <- NULL\n",
    "stats"
   ]
  },
  {
   "cell_type": "markdown",
   "metadata": {},
   "source": [
    "#### Data subset (n = 5)"
   ]
  },
  {
   "cell_type": "code",
   "execution_count": 7,
   "metadata": {},
   "outputs": [],
   "source": [
    "randomSample = function(df, n){\n",
    "    return (df[sample(nrow(df), n),])\n",
    "}"
   ]
  },
  {
   "cell_type": "code",
   "execution_count": 8,
   "metadata": {},
   "outputs": [
    {
     "data": {
      "text/html": [
       "<table>\n",
       "<thead><tr><th></th><th scope=col>CRIM</th><th scope=col>ZN</th><th scope=col>INDUS</th><th scope=col>CHAS</th><th scope=col>NOX</th><th scope=col>RM</th><th scope=col>AGE</th><th scope=col>DIS</th><th scope=col>RAD</th><th scope=col>TAX</th><th scope=col>PTRATIO</th><th scope=col>B</th><th scope=col>LSTAT</th><th scope=col>MEDV</th></tr></thead>\n",
       "<tbody>\n",
       "\t<tr><th scope=row>353</th><td> 0.07244</td><td>60      </td><td> 1.69   </td><td>0       </td><td>0.411   </td><td>5.884   </td><td> 18.5   </td><td>10.7103 </td><td> 4      </td><td>411     </td><td>18.3    </td><td>392.33  </td><td> 7.79   </td><td>18.6    </td></tr>\n",
       "\t<tr><th scope=row>408</th><td>11.95110</td><td> 0      </td><td>18.10   </td><td>0       </td><td>0.659   </td><td>5.608   </td><td>100.0   </td><td> 1.2852 </td><td>24      </td><td>666     </td><td>20.2    </td><td>332.09  </td><td>12.13   </td><td>27.9    </td></tr>\n",
       "\t<tr><th scope=row>150</th><td> 2.73397</td><td> 0      </td><td>19.58   </td><td>0       </td><td>0.871   </td><td>5.597   </td><td> 94.9   </td><td> 1.5257 </td><td> 5      </td><td>403     </td><td>14.7    </td><td>351.85  </td><td>21.45   </td><td>15.4    </td></tr>\n",
       "\t<tr><th scope=row>394</th><td> 8.64476</td><td> 0      </td><td>18.10   </td><td>0       </td><td>0.693   </td><td>6.193   </td><td> 92.6   </td><td> 1.7912 </td><td>24      </td><td>666     </td><td>20.2    </td><td>396.90  </td><td>15.17   </td><td>13.8    </td></tr>\n",
       "\t<tr><th scope=row>92</th><td> 0.03932</td><td> 0      </td><td> 3.41   </td><td>0       </td><td>0.489   </td><td>6.405   </td><td> 73.9   </td><td> 3.0921 </td><td> 2      </td><td>270     </td><td>17.8    </td><td>393.55  </td><td> 8.20   </td><td>22.0    </td></tr>\n",
       "</tbody>\n",
       "</table>\n"
      ],
      "text/latex": [
       "\\begin{tabular}{r|llllllllllllll}\n",
       "  & CRIM & ZN & INDUS & CHAS & NOX & RM & AGE & DIS & RAD & TAX & PTRATIO & B & LSTAT & MEDV\\\\\n",
       "\\hline\n",
       "\t353 &  0.07244 & 60       &  1.69    & 0        & 0.411    & 5.884    &  18.5    & 10.7103  &  4       & 411      & 18.3     & 392.33   &  7.79    & 18.6    \\\\\n",
       "\t408 & 11.95110 &  0       & 18.10    & 0        & 0.659    & 5.608    & 100.0    &  1.2852  & 24       & 666      & 20.2     & 332.09   & 12.13    & 27.9    \\\\\n",
       "\t150 &  2.73397 &  0       & 19.58    & 0        & 0.871    & 5.597    &  94.9    &  1.5257  &  5       & 403      & 14.7     & 351.85   & 21.45    & 15.4    \\\\\n",
       "\t394 &  8.64476 &  0       & 18.10    & 0        & 0.693    & 6.193    &  92.6    &  1.7912  & 24       & 666      & 20.2     & 396.90   & 15.17    & 13.8    \\\\\n",
       "\t92 &  0.03932 &  0       &  3.41    & 0        & 0.489    & 6.405    &  73.9    &  3.0921  &  2       & 270      & 17.8     & 393.55   &  8.20    & 22.0    \\\\\n",
       "\\end{tabular}\n"
      ],
      "text/markdown": [
       "\n",
       "| <!--/--> | CRIM | ZN | INDUS | CHAS | NOX | RM | AGE | DIS | RAD | TAX | PTRATIO | B | LSTAT | MEDV | \n",
       "|---|---|---|---|---|\n",
       "| 353 |  0.07244 | 60       |  1.69    | 0        | 0.411    | 5.884    |  18.5    | 10.7103  |  4       | 411      | 18.3     | 392.33   |  7.79    | 18.6     | \n",
       "| 408 | 11.95110 |  0       | 18.10    | 0        | 0.659    | 5.608    | 100.0    |  1.2852  | 24       | 666      | 20.2     | 332.09   | 12.13    | 27.9     | \n",
       "| 150 |  2.73397 |  0       | 19.58    | 0        | 0.871    | 5.597    |  94.9    |  1.5257  |  5       | 403      | 14.7     | 351.85   | 21.45    | 15.4     | \n",
       "| 394 |  8.64476 |  0       | 18.10    | 0        | 0.693    | 6.193    |  92.6    |  1.7912  | 24       | 666      | 20.2     | 396.90   | 15.17    | 13.8     | \n",
       "| 92 |  0.03932 |  0       |  3.41    | 0        | 0.489    | 6.405    |  73.9    |  3.0921  |  2       | 270      | 17.8     | 393.55   |  8.20    | 22.0     | \n",
       "\n",
       "\n"
      ],
      "text/plain": [
       "    CRIM     ZN INDUS CHAS NOX   RM    AGE   DIS     RAD TAX PTRATIO B     \n",
       "353  0.07244 60  1.69 0    0.411 5.884  18.5 10.7103  4  411 18.3    392.33\n",
       "408 11.95110  0 18.10 0    0.659 5.608 100.0  1.2852 24  666 20.2    332.09\n",
       "150  2.73397  0 19.58 0    0.871 5.597  94.9  1.5257  5  403 14.7    351.85\n",
       "394  8.64476  0 18.10 0    0.693 6.193  92.6  1.7912 24  666 20.2    396.90\n",
       "92   0.03932  0  3.41 0    0.489 6.405  73.9  3.0921  2  270 17.8    393.55\n",
       "    LSTAT MEDV\n",
       "353  7.79 18.6\n",
       "408 12.13 27.9\n",
       "150 21.45 15.4\n",
       "394 15.17 13.8\n",
       "92   8.20 22.0"
      ]
     },
     "metadata": {},
     "output_type": "display_data"
    }
   ],
   "source": [
    "samp <- randomSample(boston,5)\n",
    "samp"
   ]
  },
  {
   "cell_type": "markdown",
   "metadata": {},
   "source": [
    "#### Z-scores of sample data set\n",
    "\n",
    "Z-score = $(x_i - \\mu)/\\sigma $\n"
   ]
  },
  {
   "cell_type": "code",
   "execution_count": 9,
   "metadata": {},
   "outputs": [],
   "source": [
    "z_score <- function (feat, mean, sd){\n",
    "    z <- (feat - mean)/sd\n",
    "    return(z)\n",
    "}"
   ]
  },
  {
   "cell_type": "code",
   "execution_count": 11,
   "metadata": {},
   "outputs": [],
   "source": [
    "crim <- z_score(samp$CRIM, stats['CRIM','mean'], stats['CRIM', 'sd'])\n",
    "zn <- z_score(samp$ZN, stats['ZN', 'mean'], stats['ZN', 'sd'])\n",
    "indus <- z_score(samp$INDUS, stats['INDUS','mean'], stats['INDUS','sd'])\n",
    "chas <- z_score(samp$CHAS, stats['CHAS', 'mean'], stats['CHAS','sd'])\n",
    "nox <- z_score(samp$NOX, stats['NOX', 'mean'], stats['NOX', 'sd'])\n",
    "rm <- z_score(samp$RM, stats['RM','mean'], stats['RM','sd'])\n",
    "age <- z_score(samp$AGE, stats['AGE','mean'], stats['AGE','sd'])\n",
    "dis <-z_score(samp$DIS, stats['DIS','mean'], stats['DIS','sd'])\n",
    "rad <- z_score(samp$RAD, stats['RAD','mean'], stats['RAD','sd'])\n",
    "tax <- z_score(samp$TAX, stats['TAX','mean'], stats['TAX','sd'])\n",
    "ptratio <-z_score(samp$PTRATIO, stats['PTRATIO','mean'], stats['PTRATIO','sd'])\n",
    "b <-z_score(samp$B, stats['B','mean'], stats['B','sd'])\n",
    "lstat <- z_score(samp$LSTAT, stats['LSTAT','mean'], stats['LSTAT','sd'])\n",
    "medv <- z_score(samp$MEDV, stats['MEDV','mean'], stats['MEDV','sd'])\n"
   ]
  },
  {
   "cell_type": "code",
   "execution_count": 25,
   "metadata": {},
   "outputs": [
    {
     "data": {
      "text/html": [
       "<table>\n",
       "<thead><tr><th></th><th scope=col>crim</th><th scope=col>zn</th><th scope=col>indus</th><th scope=col>chas</th><th scope=col>nox</th><th scope=col>rm</th><th scope=col>age</th><th scope=col>dis</th><th scope=col>rad</th><th scope=col>tax</th><th scope=col>ptratio</th><th scope=col>b</th><th scope=col>lstat</th><th scope=col>medv</th></tr></thead>\n",
       "<tbody>\n",
       "\t<tr><th scope=row>353</th><td>-0.4116799 </td><td> 2.0853880 </td><td>-1.377011  </td><td>-0.2723291 </td><td>-1.2400582 </td><td>-0.5702030 </td><td>-1.7789317 </td><td> 3.2840500 </td><td>-0.6373311 </td><td> 0.01639310</td><td>-0.07184181</td><td> 0.39055831</td><td>-0.68100005</td><td>-0.42761355</td></tr>\n",
       "\t<tr><th scope=row>408</th><td> 0.9693115 </td><td>-0.4872402 </td><td> 1.014995  </td><td>-0.2723291 </td><td> 0.9001297 </td><td>-0.9630200 </td><td> 1.1163897 </td><td>-1.1919222 </td><td> 1.6596029 </td><td> 1.52941294</td><td> 0.80577843</td><td>-0.26928165</td><td>-0.07324727</td><td> 0.58357431</td></tr>\n",
       "\t<tr><th scope=row>150</th><td>-0.1022553 </td><td>-0.4872402 </td><td> 1.230727  </td><td>-0.2723291 </td><td> 2.7296452 </td><td>-0.9786758 </td><td> 0.9352101 </td><td>-1.0777090 </td><td>-0.5224844 </td><td>-0.03107419</td><td>-1.73470120</td><td>-0.05284012</td><td> 1.23188083</td><td>-0.77554916</td></tr>\n",
       "\t<tr><th scope=row>394</th><td> 0.5849224 </td><td>-0.4872402 </td><td> 1.014995  </td><td>-0.2723291 </td><td> 1.1935426 </td><td>-0.1304187 </td><td> 0.8535016 </td><td>-0.9516232 </td><td> 1.6596029 </td><td> 1.52941294</td><td> 0.80577843</td><td> 0.44061589</td><td> 0.35245975</td><td>-0.94951696</td></tr>\n",
       "\t<tr><th scope=row>92</th><td>-0.4155304 </td><td>-0.4872402 </td><td>-1.126295  </td><td>-0.2723291 </td><td>-0.5669346 </td><td> 0.1713104 </td><td> 0.1891763 </td><td>-0.3338269 </td><td>-0.8670245 </td><td>-0.82021787</td><td>-0.30279450</td><td> 0.40392161</td><td>-0.62358562</td><td>-0.05793197</td></tr>\n",
       "</tbody>\n",
       "</table>\n"
      ],
      "text/latex": [
       "\\begin{tabular}{r|llllllllllllll}\n",
       "  & crim & zn & indus & chas & nox & rm & age & dis & rad & tax & ptratio & b & lstat & medv\\\\\n",
       "\\hline\n",
       "\t353 & -0.4116799  &  2.0853880  & -1.377011   & -0.2723291  & -1.2400582  & -0.5702030  & -1.7789317  &  3.2840500  & -0.6373311  &  0.01639310 & -0.07184181 &  0.39055831 & -0.68100005 & -0.42761355\\\\\n",
       "\t408 &  0.9693115  & -0.4872402  &  1.014995   & -0.2723291  &  0.9001297  & -0.9630200  &  1.1163897  & -1.1919222  &  1.6596029  &  1.52941294 &  0.80577843 & -0.26928165 & -0.07324727 &  0.58357431\\\\\n",
       "\t150 & -0.1022553  & -0.4872402  &  1.230727   & -0.2723291  &  2.7296452  & -0.9786758  &  0.9352101  & -1.0777090  & -0.5224844  & -0.03107419 & -1.73470120 & -0.05284012 &  1.23188083 & -0.77554916\\\\\n",
       "\t394 &  0.5849224  & -0.4872402  &  1.014995   & -0.2723291  &  1.1935426  & -0.1304187  &  0.8535016  & -0.9516232  &  1.6596029  &  1.52941294 &  0.80577843 &  0.44061589 &  0.35245975 & -0.94951696\\\\\n",
       "\t92 & -0.4155304  & -0.4872402  & -1.126295   & -0.2723291  & -0.5669346  &  0.1713104  &  0.1891763  & -0.3338269  & -0.8670245  & -0.82021787 & -0.30279450 &  0.40392161 & -0.62358562 & -0.05793197\\\\\n",
       "\\end{tabular}\n"
      ],
      "text/markdown": [
       "\n",
       "| <!--/--> | crim | zn | indus | chas | nox | rm | age | dis | rad | tax | ptratio | b | lstat | medv | \n",
       "|---|---|---|---|---|\n",
       "| 353 | -0.4116799  |  2.0853880  | -1.377011   | -0.2723291  | -1.2400582  | -0.5702030  | -1.7789317  |  3.2840500  | -0.6373311  |  0.01639310 | -0.07184181 |  0.39055831 | -0.68100005 | -0.42761355 | \n",
       "| 408 |  0.9693115  | -0.4872402  |  1.014995   | -0.2723291  |  0.9001297  | -0.9630200  |  1.1163897  | -1.1919222  |  1.6596029  |  1.52941294 |  0.80577843 | -0.26928165 | -0.07324727 |  0.58357431 | \n",
       "| 150 | -0.1022553  | -0.4872402  |  1.230727   | -0.2723291  |  2.7296452  | -0.9786758  |  0.9352101  | -1.0777090  | -0.5224844  | -0.03107419 | -1.73470120 | -0.05284012 |  1.23188083 | -0.77554916 | \n",
       "| 394 |  0.5849224  | -0.4872402  |  1.014995   | -0.2723291  |  1.1935426  | -0.1304187  |  0.8535016  | -0.9516232  |  1.6596029  |  1.52941294 |  0.80577843 |  0.44061589 |  0.35245975 | -0.94951696 | \n",
       "| 92 | -0.4155304  | -0.4872402  | -1.126295   | -0.2723291  | -0.5669346  |  0.1713104  |  0.1891763  | -0.3338269  | -0.8670245  | -0.82021787 | -0.30279450 |  0.40392161 | -0.62358562 | -0.05793197 | \n",
       "\n",
       "\n"
      ],
      "text/plain": [
       "    crim       zn         indus     chas       nox        rm         age       \n",
       "353 -0.4116799  2.0853880 -1.377011 -0.2723291 -1.2400582 -0.5702030 -1.7789317\n",
       "408  0.9693115 -0.4872402  1.014995 -0.2723291  0.9001297 -0.9630200  1.1163897\n",
       "150 -0.1022553 -0.4872402  1.230727 -0.2723291  2.7296452 -0.9786758  0.9352101\n",
       "394  0.5849224 -0.4872402  1.014995 -0.2723291  1.1935426 -0.1304187  0.8535016\n",
       "92  -0.4155304 -0.4872402 -1.126295 -0.2723291 -0.5669346  0.1713104  0.1891763\n",
       "    dis        rad        tax         ptratio     b           lstat      \n",
       "353  3.2840500 -0.6373311  0.01639310 -0.07184181  0.39055831 -0.68100005\n",
       "408 -1.1919222  1.6596029  1.52941294  0.80577843 -0.26928165 -0.07324727\n",
       "150 -1.0777090 -0.5224844 -0.03107419 -1.73470120 -0.05284012  1.23188083\n",
       "394 -0.9516232  1.6596029  1.52941294  0.80577843  0.44061589  0.35245975\n",
       "92  -0.3338269 -0.8670245 -0.82021787 -0.30279450  0.40392161 -0.62358562\n",
       "    medv       \n",
       "353 -0.42761355\n",
       "408  0.58357431\n",
       "150 -0.77554916\n",
       "394 -0.94951696\n",
       "92  -0.05793197"
      ]
     },
     "metadata": {},
     "output_type": "display_data"
    }
   ],
   "source": [
    "z_samp = data.frame(crim, zn, indus, chas, nox, rm, age, dis, rad, tax, ptratio, b, lstat, medv)\n",
    "rownames(z_samp) = rownames(samp)\n",
    "z_samp"
   ]
  },
  {
   "cell_type": "markdown",
   "metadata": {},
   "source": [
    "#### Heat Map & Bar Plot\n",
    "\n",
    "Comparing samp and z_samp"
   ]
  },
  {
   "cell_type": "code",
   "execution_count": 27,
   "metadata": {},
   "outputs": [
    {
     "name": "stderr",
     "output_type": "stream",
     "text": [
      "`stat_bin()` using `bins = 30`. Pick better value with `binwidth`.\n"
     ]
    },
    {
     "data": {},
     "metadata": {},
     "output_type": "display_data"
    },
    {
     "data": {
      "text/plain": [
       "<ggproto object: Class FacetGrid, Facet>\n",
       "    compute_layout: function\n",
       "    draw_back: function\n",
       "    draw_front: function\n",
       "    draw_labels: function\n",
       "    draw_panels: function\n",
       "    finish_data: function\n",
       "    init_scales: function\n",
       "    map: function\n",
       "    map_data: function\n",
       "    params: list\n",
       "    render_back: function\n",
       "    render_front: function\n",
       "    render_panels: function\n",
       "    setup_data: function\n",
       "    setup_params: function\n",
       "    shrink: TRUE\n",
       "    train: function\n",
       "    train_positions: function\n",
       "    train_scales: function\n",
       "    super:  <ggproto object: Class FacetGrid, Facet>"
      ]
     },
     "metadata": {},
     "output_type": "display_data"
    },
    {
     "data": {
      "image/png": "[encoded data removed]",
      "text/plain": [
       "plot without title"
      ]
     },
     "metadata": {},
     "output_type": "display_data"
    }
   ],
   "source": [
    "ggplot(z_samp, aes()) +\n",
    "    geom_histogram(aes())\n",
    "    facet_grid(.~row.names(z_samp))"
   ]
  },
  {
   "cell_type": "code",
   "execution_count": 21,
   "metadata": {},
   "outputs": [],
   "source": [
    "cormat <- round(cor(samp_z),2)"
   ]
  },
  {
   "cell_type": "code",
   "execution_count": 22,
   "metadata": {},
   "outputs": [],
   "source": [
    "melt_cormat <- melt(cormat)"
   ]
  },
  {
   "cell_type": "code",
   "execution_count": 23,
   "metadata": {},
   "outputs": [
    {
     "data": {},
     "metadata": {},
     "output_type": "display_data"
    },
    {
     "data": {
      "image/png": "[encoded data removed]",
      "text/plain": [
       "plot without title"
      ]
     },
     "metadata": {},
     "output_type": "display_data"
    }
   ],
   "source": [
    "ggplot(data = melt_cormat, aes(x=row.names(), var1, fill=value))+\n",
    "    geom_tile(color = \"white\")+\n",
    "\n",
    "    scale_fill_gradient2(low = \"lightblue\", high = \"steelblue\")"
   ]
  },
  {
   "cell_type": "code",
   "execution_count": null,
   "metadata": {},
   "outputs": [],
   "source": []
  },
  {
   "cell_type": "code",
   "execution_count": 17,
   "metadata": {},
   "outputs": [
    {
     "name": "stderr",
     "output_type": "stream",
     "text": [
      "No id variables; using all as measure variables\n"
     ]
    },
    {
     "data": {},
     "metadata": {},
     "output_type": "display_data"
    },
    {
     "data": {
      "image/png": "[encoded data removed]",
      "text/plain": [
       "plot without title"
      ]
     },
     "metadata": {},
     "output_type": "display_data"
    }
   ],
   "source": [
    "data <- melt(z_df)\n",
    "ggplot(z_df, aes(x=crim)) +\n",
    "    geom_histogram(binwidth = .1)"
   ]
  },
  {
   "cell_type": "code",
   "execution_count": 14,
   "metadata": {},
   "outputs": [
    {
     "name": "stderr",
     "output_type": "stream",
     "text": [
      "No id variables; using all as measure variables\n"
     ]
    },
    {
     "data": {},
     "metadata": {},
     "output_type": "display_data"
    },
    {
     "data": {
      "image/png": "[encoded data removed]",
      "text/plain": [
       "plot without title"
      ]
     },
     "metadata": {},
     "output_type": "display_data"
    }
   ],
   "source": [
    "data <- melt(z_df)\n",
    "ggplot(data, aes()) +\n",
    "    geom_tile(aes(fill = rescale), color = \"white\") +\n",
    "    scale_fill_gradient(low = \"white\", high = \"steelblue\")"
   ]
  },
  {
   "cell_type": "code",
   "execution_count": null,
   "metadata": {},
   "outputs": [],
   "source": []
  }
 ],
 "metadata": {
  "kernelspec": {
   "display_name": "R",
   "language": "R",
   "name": "ir"
  },
  "language_info": {
   "codemirror_mode": "r",
   "file_extension": ".r",
   "mimetype": "text/x-r-source",
   "name": "R",
   "pygments_lexer": "r",
   "version": "3.3.2"
  }
 },
 "nbformat": 4,
 "nbformat_minor": 2
}
