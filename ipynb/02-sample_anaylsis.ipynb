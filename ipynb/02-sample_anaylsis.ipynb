{
 "cells": [
  {
   "cell_type": "markdown",
   "metadata": {},
   "source": [
    "## Sample Analysis"
   ]
  },
  {
   "cell_type": "code",
   "execution_count": null,
   "metadata": {},
   "outputs": [
    {
     "name": "stderr",
     "output_type": "stream",
     "text": [
      "Warning message in install.packages(\"dplyr\"):\n",
      "“installation of package ‘dplyr’ had non-zero exit status”Updating HTML index of packages in '.Library'\n",
      "Making 'packages.html' ... done\n"
     ]
    }
   ],
   "source": [
    "install.packages(\"dplyr\")\n",
    "library(dplyr, warn.conflicts = FALSE)"
   ]
  },
  {
   "cell_type": "code",
   "execution_count": 4,
   "metadata": {},
   "outputs": [
    {
     "name": "stderr",
     "output_type": "stream",
     "text": [
      "Warning message in install.packages(\"psych\"):\n",
      "“installation of package ‘psych’ had non-zero exit status”Updating HTML index of packages in '.Library'\n",
      "Making 'packages.html' ... done\n"
     ]
    }
   ],
   "source": [
    "install.packages(\"psych\")\n",
    "library(psych)"
   ]
  },
  {
   "cell_type": "code",
   "execution_count": 5,
   "metadata": {},
   "outputs": [
    {
     "name": "stderr",
     "output_type": "stream",
     "text": [
      "\n",
      "Attaching package: ‘ggplot2’\n",
      "\n",
      "The following objects are masked from ‘package:psych’:\n",
      "\n",
      "    %+%, alpha\n",
      "\n"
     ]
    }
   ],
   "source": [
    "library(ggplot2)\n",
    "library(reshape2)"
   ]
  },
  {
   "cell_type": "code",
   "execution_count": 6,
   "metadata": {},
   "outputs": [],
   "source": [
    "boston <- read.table('https://archive.ics.uci.edu/ml/machine-learning-databases/housing/housing.data')"
   ]
  },
  {
   "cell_type": "code",
   "execution_count": 7,
   "metadata": {},
   "outputs": [
    {
     "data": {
      "text/html": [
       "<table>\n",
       "<thead><tr><th></th><th scope=col>features</th><th scope=col>n</th><th scope=col>mean</th><th scope=col>sd</th><th scope=col>median</th><th scope=col>min</th><th scope=col>max</th><th scope=col>range</th><th scope=col>skew</th><th scope=col>kurtosis</th><th scope=col>se</th></tr></thead>\n",
       "<tbody>\n",
       "\t<tr><th scope=row>V1</th><td>CRIM        </td><td>506         </td><td>  3.61352356</td><td>  8.6015451 </td><td>  0.25651   </td><td>  0.00632   </td><td> 88.9762    </td><td> 88.96988   </td><td> 5.1922223  </td><td>36.59581589 </td><td>0.382385321 </td></tr>\n",
       "\t<tr><th scope=row>V2</th><td>ZN          </td><td>506         </td><td> 11.36363636</td><td> 23.3224530 </td><td>  0.00000   </td><td>  0.00000   </td><td>100.0000    </td><td>100.00000   </td><td> 2.2124881  </td><td> 3.95238731 </td><td>1.036809500 </td></tr>\n",
       "\t<tr><th scope=row>V3</th><td>INDUS       </td><td>506         </td><td> 11.13677866</td><td>  6.8603529 </td><td>  9.69000   </td><td>  0.46000   </td><td> 27.7400    </td><td> 27.28000   </td><td> 0.2932747  </td><td>-1.24019490 </td><td>0.304979888 </td></tr>\n",
       "\t<tr><th scope=row>V4</th><td>CHAS        </td><td>506         </td><td>  0.06916996</td><td>  0.2539940 </td><td>  0.00000   </td><td>  0.00000   </td><td>  1.0000    </td><td>  1.00000   </td><td> 3.3857377  </td><td> 9.48197035 </td><td>0.011291412 </td></tr>\n",
       "\t<tr><th scope=row>V5</th><td>NOX         </td><td>506         </td><td>  0.55469506</td><td>  0.1158777 </td><td>  0.53800   </td><td>  0.38500   </td><td>  0.8710    </td><td>  0.48600   </td><td> 0.7249897  </td><td>-0.08741064 </td><td>0.005151391 </td></tr>\n",
       "\t<tr><th scope=row>V6</th><td>RM          </td><td>506         </td><td>  6.28463439</td><td>  0.7026171 </td><td>  6.20850   </td><td>  3.56100   </td><td>  8.7800    </td><td>  5.21900   </td><td> 0.4012223  </td><td> 1.84183241 </td><td>0.031235142 </td></tr>\n",
       "\t<tr><th scope=row>V7</th><td>AGE         </td><td>506         </td><td> 68.57490119</td><td> 28.1488614 </td><td> 77.50000   </td><td>  2.90000   </td><td>100.0000    </td><td> 97.10000   </td><td>-0.5954162  </td><td>-0.97802966 </td><td>1.251369525 </td></tr>\n",
       "\t<tr><th scope=row>V8</th><td>DIS         </td><td>506         </td><td>  3.79504269</td><td>  2.1057101 </td><td>  3.20745   </td><td>  1.12960   </td><td> 12.1265    </td><td> 10.99690   </td><td> 1.0057898  </td><td> 0.45759158 </td><td>0.093610233 </td></tr>\n",
       "\t<tr><th scope=row>V9</th><td>RAD         </td><td>506         </td><td>  9.54940711</td><td>  8.7072594 </td><td>  5.00000   </td><td>  1.00000   </td><td> 24.0000    </td><td> 23.00000   </td><td> 0.9988651  </td><td>-0.87892910 </td><td>0.387084894 </td></tr>\n",
       "\t<tr><th scope=row>V10</th><td>TAX         </td><td>506         </td><td>408.23715415</td><td>168.5371161 </td><td>330.00000   </td><td>187.00000   </td><td>711.0000    </td><td>524.00000   </td><td> 0.6659891  </td><td>-1.15031761 </td><td>7.492388692 </td></tr>\n",
       "\t<tr><th scope=row>V11</th><td>PTRATIO     </td><td>506         </td><td> 18.45553360</td><td>  2.1649455 </td><td> 19.05000   </td><td> 12.60000   </td><td> 22.0000    </td><td>  9.40000   </td><td>-0.7975743  </td><td>-0.30480100 </td><td>0.096243568 </td></tr>\n",
       "\t<tr><th scope=row>V12</th><td>B           </td><td>506         </td><td>356.67403162</td><td> 91.2948644 </td><td>391.44000   </td><td>  0.32000   </td><td>396.9000    </td><td>396.58000   </td><td>-2.8732597  </td><td> 7.10371496 </td><td>4.058551763 </td></tr>\n",
       "\t<tr><th scope=row>V13</th><td>LSTAT       </td><td>506         </td><td> 12.65306324</td><td>  7.1410615 </td><td> 11.36000   </td><td>  1.73000   </td><td> 37.9700    </td><td> 36.24000   </td><td> 0.9010929  </td><td> 0.46281705 </td><td>0.317458906 </td></tr>\n",
       "\t<tr><th scope=row>V14</th><td>MEDV        </td><td>506         </td><td> 22.53280632</td><td>  9.1971041 </td><td> 21.20000   </td><td>  5.00000   </td><td> 50.0000    </td><td> 45.00000   </td><td> 1.1015373  </td><td> 1.45098366 </td><td>0.408861147 </td></tr>\n",
       "</tbody>\n",
       "</table>\n"
      ],
      "text/latex": [
       "\\begin{tabular}{r|lllllllllll}\n",
       "  & features & n & mean & sd & median & min & max & range & skew & kurtosis & se\\\\\n",
       "\\hline\n",
       "\tV1 & CRIM         & 506          &   3.61352356 &   8.6015451  &   0.25651    &   0.00632    &  88.9762     &  88.96988    &  5.1922223   & 36.59581589  & 0.382385321 \\\\\n",
       "\tV2 & ZN           & 506          &  11.36363636 &  23.3224530  &   0.00000    &   0.00000    & 100.0000     & 100.00000    &  2.2124881   &  3.95238731  & 1.036809500 \\\\\n",
       "\tV3 & INDUS        & 506          &  11.13677866 &   6.8603529  &   9.69000    &   0.46000    &  27.7400     &  27.28000    &  0.2932747   & -1.24019490  & 0.304979888 \\\\\n",
       "\tV4 & CHAS         & 506          &   0.06916996 &   0.2539940  &   0.00000    &   0.00000    &   1.0000     &   1.00000    &  3.3857377   &  9.48197035  & 0.011291412 \\\\\n",
       "\tV5 & NOX          & 506          &   0.55469506 &   0.1158777  &   0.53800    &   0.38500    &   0.8710     &   0.48600    &  0.7249897   & -0.08741064  & 0.005151391 \\\\\n",
       "\tV6 & RM           & 506          &   6.28463439 &   0.7026171  &   6.20850    &   3.56100    &   8.7800     &   5.21900    &  0.4012223   &  1.84183241  & 0.031235142 \\\\\n",
       "\tV7 & AGE          & 506          &  68.57490119 &  28.1488614  &  77.50000    &   2.90000    & 100.0000     &  97.10000    & -0.5954162   & -0.97802966  & 1.251369525 \\\\\n",
       "\tV8 & DIS          & 506          &   3.79504269 &   2.1057101  &   3.20745    &   1.12960    &  12.1265     &  10.99690    &  1.0057898   &  0.45759158  & 0.093610233 \\\\\n",
       "\tV9 & RAD          & 506          &   9.54940711 &   8.7072594  &   5.00000    &   1.00000    &  24.0000     &  23.00000    &  0.9988651   & -0.87892910  & 0.387084894 \\\\\n",
       "\tV10 & TAX          & 506          & 408.23715415 & 168.5371161  & 330.00000    & 187.00000    & 711.0000     & 524.00000    &  0.6659891   & -1.15031761  & 7.492388692 \\\\\n",
       "\tV11 & PTRATIO      & 506          &  18.45553360 &   2.1649455  &  19.05000    &  12.60000    &  22.0000     &   9.40000    & -0.7975743   & -0.30480100  & 0.096243568 \\\\\n",
       "\tV12 & B            & 506          & 356.67403162 &  91.2948644  & 391.44000    &   0.32000    & 396.9000     & 396.58000    & -2.8732597   &  7.10371496  & 4.058551763 \\\\\n",
       "\tV13 & LSTAT        & 506          &  12.65306324 &   7.1410615  &  11.36000    &   1.73000    &  37.9700     &  36.24000    &  0.9010929   &  0.46281705  & 0.317458906 \\\\\n",
       "\tV14 & MEDV         & 506          &  22.53280632 &   9.1971041  &  21.20000    &   5.00000    &  50.0000     &  45.00000    &  1.1015373   &  1.45098366  & 0.408861147 \\\\\n",
       "\\end{tabular}\n"
      ],
      "text/markdown": [
       "\n",
       "| <!--/--> | features | n | mean | sd | median | min | max | range | skew | kurtosis | se | \n",
       "|---|---|---|---|---|---|---|---|---|---|---|---|---|---|\n",
       "| V1 | CRIM         | 506          |   3.61352356 |   8.6015451  |   0.25651    |   0.00632    |  88.9762     |  88.96988    |  5.1922223   | 36.59581589  | 0.382385321  | \n",
       "| V2 | ZN           | 506          |  11.36363636 |  23.3224530  |   0.00000    |   0.00000    | 100.0000     | 100.00000    |  2.2124881   |  3.95238731  | 1.036809500  | \n",
       "| V3 | INDUS        | 506          |  11.13677866 |   6.8603529  |   9.69000    |   0.46000    |  27.7400     |  27.28000    |  0.2932747   | -1.24019490  | 0.304979888  | \n",
       "| V4 | CHAS         | 506          |   0.06916996 |   0.2539940  |   0.00000    |   0.00000    |   1.0000     |   1.00000    |  3.3857377   |  9.48197035  | 0.011291412  | \n",
       "| V5 | NOX          | 506          |   0.55469506 |   0.1158777  |   0.53800    |   0.38500    |   0.8710     |   0.48600    |  0.7249897   | -0.08741064  | 0.005151391  | \n",
       "| V6 | RM           | 506          |   6.28463439 |   0.7026171  |   6.20850    |   3.56100    |   8.7800     |   5.21900    |  0.4012223   |  1.84183241  | 0.031235142  | \n",
       "| V7 | AGE          | 506          |  68.57490119 |  28.1488614  |  77.50000    |   2.90000    | 100.0000     |  97.10000    | -0.5954162   | -0.97802966  | 1.251369525  | \n",
       "| V8 | DIS          | 506          |   3.79504269 |   2.1057101  |   3.20745    |   1.12960    |  12.1265     |  10.99690    |  1.0057898   |  0.45759158  | 0.093610233  | \n",
       "| V9 | RAD          | 506          |   9.54940711 |   8.7072594  |   5.00000    |   1.00000    |  24.0000     |  23.00000    |  0.9988651   | -0.87892910  | 0.387084894  | \n",
       "| V10 | TAX          | 506          | 408.23715415 | 168.5371161  | 330.00000    | 187.00000    | 711.0000     | 524.00000    |  0.6659891   | -1.15031761  | 7.492388692  | \n",
       "| V11 | PTRATIO      | 506          |  18.45553360 |   2.1649455  |  19.05000    |  12.60000    |  22.0000     |   9.40000    | -0.7975743   | -0.30480100  | 0.096243568  | \n",
       "| V12 | B            | 506          | 356.67403162 |  91.2948644  | 391.44000    |   0.32000    | 396.9000     | 396.58000    | -2.8732597   |  7.10371496  | 4.058551763  | \n",
       "| V13 | LSTAT        | 506          |  12.65306324 |   7.1410615  |  11.36000    |   1.73000    |  37.9700     |  36.24000    |  0.9010929   |  0.46281705  | 0.317458906  | \n",
       "| V14 | MEDV         | 506          |  22.53280632 |   9.1971041  |  21.20000    |   5.00000    |  50.0000     |  45.00000    |  1.1015373   |  1.45098366  | 0.408861147  | \n",
       "\n",
       "\n"
      ],
      "text/plain": [
       "    features n   mean         sd          median    min       max     \n",
       "V1  CRIM     506   3.61352356   8.6015451   0.25651   0.00632  88.9762\n",
       "V2  ZN       506  11.36363636  23.3224530   0.00000   0.00000 100.0000\n",
       "V3  INDUS    506  11.13677866   6.8603529   9.69000   0.46000  27.7400\n",
       "V4  CHAS     506   0.06916996   0.2539940   0.00000   0.00000   1.0000\n",
       "V5  NOX      506   0.55469506   0.1158777   0.53800   0.38500   0.8710\n",
       "V6  RM       506   6.28463439   0.7026171   6.20850   3.56100   8.7800\n",
       "V7  AGE      506  68.57490119  28.1488614  77.50000   2.90000 100.0000\n",
       "V8  DIS      506   3.79504269   2.1057101   3.20745   1.12960  12.1265\n",
       "V9  RAD      506   9.54940711   8.7072594   5.00000   1.00000  24.0000\n",
       "V10 TAX      506 408.23715415 168.5371161 330.00000 187.00000 711.0000\n",
       "V11 PTRATIO  506  18.45553360   2.1649455  19.05000  12.60000  22.0000\n",
       "V12 B        506 356.67403162  91.2948644 391.44000   0.32000 396.9000\n",
       "V13 LSTAT    506  12.65306324   7.1410615  11.36000   1.73000  37.9700\n",
       "V14 MEDV     506  22.53280632   9.1971041  21.20000   5.00000  50.0000\n",
       "    range     skew       kurtosis    se         \n",
       "V1   88.96988  5.1922223 36.59581589 0.382385321\n",
       "V2  100.00000  2.2124881  3.95238731 1.036809500\n",
       "V3   27.28000  0.2932747 -1.24019490 0.304979888\n",
       "V4    1.00000  3.3857377  9.48197035 0.011291412\n",
       "V5    0.48600  0.7249897 -0.08741064 0.005151391\n",
       "V6    5.21900  0.4012223  1.84183241 0.031235142\n",
       "V7   97.10000 -0.5954162 -0.97802966 1.251369525\n",
       "V8   10.99690  1.0057898  0.45759158 0.093610233\n",
       "V9   23.00000  0.9988651 -0.87892910 0.387084894\n",
       "V10 524.00000  0.6659891 -1.15031761 7.492388692\n",
       "V11   9.40000 -0.7975743 -0.30480100 0.096243568\n",
       "V12 396.58000 -2.8732597  7.10371496 4.058551763\n",
       "V13  36.24000  0.9010929  0.46281705 0.317458906\n",
       "V14  45.00000  1.1015373  1.45098366 0.408861147"
      ]
     },
     "metadata": {},
     "output_type": "display_data"
    }
   ],
   "source": [
    "features <- c('CRIM', 'ZN', 'INDUS', 'CHAS', 'NOX', 'RM', 'AGE', 'DIS', 'RAD', 'TAX', 'PTRATIO', 'B', 'LSTAT', 'MEDV')\n",
    "boston_stats <- data.frame(features)\n",
    "stats <- describe(boston)\n",
    "stats$vars <- NULL; stats$trimmed <- NULL; stats$mad <- NULL;\n",
    "boston_stats <- cbind(boston_stats, stats)\n",
    "boston_stats"
   ]
  },
  {
   "cell_type": "markdown",
   "metadata": {},
   "source": [
    "#### Data subset (n = 5)"
   ]
  },
  {
   "cell_type": "code",
   "execution_count": 8,
   "metadata": {},
   "outputs": [],
   "source": [
    "randomSample = function(df, n){\n",
    "    return (df[sample(nrow(df), n),])\n",
    "}"
   ]
  },
  {
   "cell_type": "code",
   "execution_count": 9,
   "metadata": {},
   "outputs": [
    {
     "data": {
      "text/html": [
       "<table>\n",
       "<thead><tr><th></th><th scope=col>CRIM</th><th scope=col>ZN</th><th scope=col>INDUS</th><th scope=col>CHAS</th><th scope=col>NOX</th><th scope=col>RM</th><th scope=col>AGE</th><th scope=col>DIS</th><th scope=col>RAD</th><th scope=col>TAX</th><th scope=col>PTRATIO</th><th scope=col>B</th><th scope=col>LSTAT</th><th scope=col>MEDV</th></tr></thead>\n",
       "<tbody>\n",
       "\t<tr><th scope=row>47</th><td> 0.18836</td><td> 0      </td><td> 6.91   </td><td>0       </td><td>0.448   </td><td>5.786   </td><td>33.3    </td><td>5.1004  </td><td> 3      </td><td>233     </td><td>17.9    </td><td>396.90  </td><td>14.15   </td><td>20.0    </td></tr>\n",
       "\t<tr><th scope=row>251</th><td> 0.14030</td><td>22      </td><td> 5.86   </td><td>0       </td><td>0.431   </td><td>6.487   </td><td>13.0    </td><td>7.3967  </td><td> 7      </td><td>330     </td><td>19.1    </td><td>396.28  </td><td> 5.90   </td><td>24.4    </td></tr>\n",
       "\t<tr><th scope=row>494</th><td> 0.17331</td><td> 0      </td><td> 9.69   </td><td>0       </td><td>0.585   </td><td>5.707   </td><td>54.0    </td><td>2.3817  </td><td> 6      </td><td>391     </td><td>19.2    </td><td>396.90  </td><td>12.01   </td><td>21.8    </td></tr>\n",
       "\t<tr><th scope=row>114</th><td> 0.22212</td><td> 0      </td><td>10.01   </td><td>0       </td><td>0.547   </td><td>6.092   </td><td>95.4    </td><td>2.5480  </td><td> 6      </td><td>432     </td><td>17.8    </td><td>396.90  </td><td>17.09   </td><td>18.7    </td></tr>\n",
       "\t<tr><th scope=row>427</th><td>12.24720</td><td> 0      </td><td>18.10   </td><td>0       </td><td>0.584   </td><td>5.837   </td><td>59.7    </td><td>1.9976  </td><td>24      </td><td>666     </td><td>20.2    </td><td> 24.65  </td><td>15.69   </td><td>10.2    </td></tr>\n",
       "</tbody>\n",
       "</table>\n"
      ],
      "text/latex": [
       "\\begin{tabular}{r|llllllllllllll}\n",
       "  & CRIM & ZN & INDUS & CHAS & NOX & RM & AGE & DIS & RAD & TAX & PTRATIO & B & LSTAT & MEDV\\\\\n",
       "\\hline\n",
       "\t47 &  0.18836 &  0       &  6.91    & 0        & 0.448    & 5.786    & 33.3     & 5.1004   &  3       & 233      & 17.9     & 396.90   & 14.15    & 20.0    \\\\\n",
       "\t251 &  0.14030 & 22       &  5.86    & 0        & 0.431    & 6.487    & 13.0     & 7.3967   &  7       & 330      & 19.1     & 396.28   &  5.90    & 24.4    \\\\\n",
       "\t494 &  0.17331 &  0       &  9.69    & 0        & 0.585    & 5.707    & 54.0     & 2.3817   &  6       & 391      & 19.2     & 396.90   & 12.01    & 21.8    \\\\\n",
       "\t114 &  0.22212 &  0       & 10.01    & 0        & 0.547    & 6.092    & 95.4     & 2.5480   &  6       & 432      & 17.8     & 396.90   & 17.09    & 18.7    \\\\\n",
       "\t427 & 12.24720 &  0       & 18.10    & 0        & 0.584    & 5.837    & 59.7     & 1.9976   & 24       & 666      & 20.2     &  24.65   & 15.69    & 10.2    \\\\\n",
       "\\end{tabular}\n"
      ],
      "text/markdown": [
       "\n",
       "| <!--/--> | CRIM | ZN | INDUS | CHAS | NOX | RM | AGE | DIS | RAD | TAX | PTRATIO | B | LSTAT | MEDV | \n",
       "|---|---|---|---|---|\n",
       "| 47 |  0.18836 |  0       |  6.91    | 0        | 0.448    | 5.786    | 33.3     | 5.1004   |  3       | 233      | 17.9     | 396.90   | 14.15    | 20.0     | \n",
       "| 251 |  0.14030 | 22       |  5.86    | 0        | 0.431    | 6.487    | 13.0     | 7.3967   |  7       | 330      | 19.1     | 396.28   |  5.90    | 24.4     | \n",
       "| 494 |  0.17331 |  0       |  9.69    | 0        | 0.585    | 5.707    | 54.0     | 2.3817   |  6       | 391      | 19.2     | 396.90   | 12.01    | 21.8     | \n",
       "| 114 |  0.22212 |  0       | 10.01    | 0        | 0.547    | 6.092    | 95.4     | 2.5480   |  6       | 432      | 17.8     | 396.90   | 17.09    | 18.7     | \n",
       "| 427 | 12.24720 |  0       | 18.10    | 0        | 0.584    | 5.837    | 59.7     | 1.9976   | 24       | 666      | 20.2     |  24.65   | 15.69    | 10.2     | \n",
       "\n",
       "\n"
      ],
      "text/plain": [
       "    CRIM     ZN INDUS CHAS NOX   RM    AGE  DIS    RAD TAX PTRATIO B      LSTAT\n",
       "47   0.18836  0  6.91 0    0.448 5.786 33.3 5.1004  3  233 17.9    396.90 14.15\n",
       "251  0.14030 22  5.86 0    0.431 6.487 13.0 7.3967  7  330 19.1    396.28  5.90\n",
       "494  0.17331  0  9.69 0    0.585 5.707 54.0 2.3817  6  391 19.2    396.90 12.01\n",
       "114  0.22212  0 10.01 0    0.547 6.092 95.4 2.5480  6  432 17.8    396.90 17.09\n",
       "427 12.24720  0 18.10 0    0.584 5.837 59.7 1.9976 24  666 20.2     24.65 15.69\n",
       "    MEDV\n",
       "47  20.0\n",
       "251 24.4\n",
       "494 21.8\n",
       "114 18.7\n",
       "427 10.2"
      ]
     },
     "metadata": {},
     "output_type": "display_data"
    }
   ],
   "source": [
    "samp <- randomSample(boston,5)\n",
    "colnames(samp) <- features\n",
    "samp"
   ]
  },
  {
   "cell_type": "markdown",
   "metadata": {},
   "source": [
    "### Data Description \n",
    "\n",
    "The 2nd sample might be representative of a new, up-and-coming,  wealthy, but sparsely populated neighborhood. It has low crime rates `CRIM` = 0.04 , as well as a low pupil-to-teacher ratio `PTRATIO` = 16.9. It has the smallest proportion of owner-occupied units built prior the  1940s `AGE`. \n",
    "\n",
    "The 3rd sample `221` might be representative of a *downtown* region in Boston.  It has a small `DIS` value, which is the distance to five Boston employment centers. It also has the highest `MEDV` value of all 5 sampled, meaning housing in that region is the most expensive. \n",
    "\n",
    "The 5th sample, `479` is perhaps the most distinctive of the 5 sampled. It might be representative of an *urban area*.\n",
    "It has a high proportion of non-retail businesses (perhaps highly residential, heavily populated). It has significantly higher nitrous oxide `NOX` levels and full-value property-tax rate `TAX`. The pupil to teacher ratio is also on the higher end. It also has the highest `RAD` value meaning that it is easily accessible to radial highways. As typical for the an urban city region, it has a high `LSTAT` value, meaning that there is a larger percent of lower-status individuals in the population.\n",
    "\n",
    "** Minor note, I definitely forgot to set a seed when I randomized these samples. So, these data descriptions might not reflect the displayed sample after running the code again."
   ]
  },
  {
   "cell_type": "code",
   "execution_count": 10,
   "metadata": {},
   "outputs": [
    {
     "data": {
      "text/html": [
       "<table>\n",
       "<thead><tr><th></th><th scope=col>features</th><th scope=col>n</th><th scope=col>mean</th><th scope=col>sd</th><th scope=col>median</th><th scope=col>min</th><th scope=col>max</th><th scope=col>range</th><th scope=col>skew</th><th scope=col>kurtosis</th><th scope=col>se</th></tr></thead>\n",
       "<tbody>\n",
       "\t<tr><th scope=row>CRIM</th><td>CRIM        </td><td>5           </td><td>  2.594258  </td><td>  5.39623879</td><td>  0.18836   </td><td>  0.1403    </td><td> 12.2472    </td><td> 12.1069    </td><td> 1.0732329  </td><td>-0.9200951  </td><td> 2.41327135 </td></tr>\n",
       "\t<tr><th scope=row>ZN</th><td>ZN          </td><td>5           </td><td>  4.400000  </td><td>  9.83869910</td><td>  0.00000   </td><td>  0.0000    </td><td> 22.0000    </td><td> 22.0000    </td><td> 1.0733126  </td><td>-0.9200000  </td><td> 4.40000000 </td></tr>\n",
       "\t<tr><th scope=row>INDUS</th><td>INDUS       </td><td>5           </td><td> 10.114000  </td><td>  4.80439694</td><td>  9.69000   </td><td>  5.8600    </td><td> 18.1000    </td><td> 12.2400    </td><td> 0.7202515  </td><td>-1.3106635  </td><td> 2.14859163 </td></tr>\n",
       "\t<tr><th scope=row>CHAS</th><td>CHAS        </td><td>5           </td><td>  0.000000  </td><td>  0.00000000</td><td>  0.00000   </td><td>  0.0000    </td><td>  0.0000    </td><td>  0.0000    </td><td>       NaN  </td><td>       NaN  </td><td> 0.00000000 </td></tr>\n",
       "\t<tr><th scope=row>NOX</th><td>NOX         </td><td>5           </td><td>  0.519000  </td><td>  0.07441438</td><td>  0.54700   </td><td>  0.4310    </td><td>  0.5850    </td><td>  0.1540    </td><td>-0.2209869  </td><td>-2.1989198  </td><td> 0.03327912 </td></tr>\n",
       "\t<tr><th scope=row>RM</th><td>RM          </td><td>5           </td><td>  5.981800  </td><td>  0.31709257</td><td>  5.83700   </td><td>  5.7070    </td><td>  6.4870    </td><td>  0.7800    </td><td> 0.6209273  </td><td>-1.5578361  </td><td> 0.14180811 </td></tr>\n",
       "\t<tr><th scope=row>AGE</th><td>AGE         </td><td>5           </td><td> 51.080000  </td><td> 30.87599391</td><td> 54.00000   </td><td> 13.0000    </td><td> 95.4000    </td><td> 82.4000    </td><td> 0.1826501  </td><td>-1.6649665  </td><td>13.80816425 </td></tr>\n",
       "\t<tr><th scope=row>DIS</th><td>DIS         </td><td>5           </td><td>  3.884880  </td><td>  2.31403288</td><td>  2.54800   </td><td>  1.9976    </td><td>  7.3967    </td><td>  5.3991    </td><td> 0.5261657  </td><td>-1.7774749  </td><td> 1.03486696 </td></tr>\n",
       "\t<tr><th scope=row>RAD</th><td>RAD         </td><td>5           </td><td>  9.200000  </td><td>  8.40832920</td><td>  6.00000   </td><td>  3.0000    </td><td> 24.0000    </td><td> 21.0000    </td><td> 0.9848388  </td><td>-1.0118277  </td><td> 3.76031914 </td></tr>\n",
       "\t<tr><th scope=row>TAX</th><td>TAX         </td><td>5           </td><td>410.400000  </td><td>161.32978646</td><td>391.00000   </td><td>233.0000    </td><td>666.0000    </td><td>433.0000    </td><td> 0.5048294  </td><td>-1.4350219  </td><td>72.14887387 </td></tr>\n",
       "\t<tr><th scope=row>PTRATIO</th><td>PTRATIO     </td><td>5           </td><td> 18.840000  </td><td>  1.00149888</td><td> 19.10000   </td><td> 17.8000    </td><td> 20.2000    </td><td>  2.4000    </td><td> 0.1242883  </td><td>-1.9278439  </td><td> 0.44788391 </td></tr>\n",
       "\t<tr><th scope=row>B</th><td>B           </td><td>5           </td><td>322.326000  </td><td>166.40615938</td><td>396.90000   </td><td> 24.6500    </td><td>396.9000    </td><td>372.2500    </td><td>-1.0733056  </td><td>-0.9200083  </td><td>74.41909685 </td></tr>\n",
       "\t<tr><th scope=row>LSTAT</th><td>LSTAT       </td><td>5           </td><td> 12.968000  </td><td>  4.37811832</td><td> 14.15000   </td><td>  5.9000    </td><td> 17.0900    </td><td> 11.1900    </td><td>-0.6246867  </td><td>-1.4529258  </td><td> 1.95795403 </td></tr>\n",
       "\t<tr><th scope=row>MEDV</th><td>MEDV        </td><td>5           </td><td> 19.020000  </td><td>  5.37419761</td><td> 20.00000   </td><td> 10.2000    </td><td> 24.4000    </td><td> 14.2000    </td><td>-0.6545840  </td><td>-1.3336496  </td><td> 2.40341424 </td></tr>\n",
       "</tbody>\n",
       "</table>\n"
      ],
      "text/latex": [
       "\\begin{tabular}{r|lllllllllll}\n",
       "  & features & n & mean & sd & median & min & max & range & skew & kurtosis & se\\\\\n",
       "\\hline\n",
       "\tCRIM & CRIM         & 5            &   2.594258   &   5.39623879 &   0.18836    &   0.1403     &  12.2472     &  12.1069     &  1.0732329   & -0.9200951   &  2.41327135 \\\\\n",
       "\tZN & ZN           & 5            &   4.400000   &   9.83869910 &   0.00000    &   0.0000     &  22.0000     &  22.0000     &  1.0733126   & -0.9200000   &  4.40000000 \\\\\n",
       "\tINDUS & INDUS        & 5            &  10.114000   &   4.80439694 &   9.69000    &   5.8600     &  18.1000     &  12.2400     &  0.7202515   & -1.3106635   &  2.14859163 \\\\\n",
       "\tCHAS & CHAS         & 5            &   0.000000   &   0.00000000 &   0.00000    &   0.0000     &   0.0000     &   0.0000     &        NaN   &        NaN   &  0.00000000 \\\\\n",
       "\tNOX & NOX          & 5            &   0.519000   &   0.07441438 &   0.54700    &   0.4310     &   0.5850     &   0.1540     & -0.2209869   & -2.1989198   &  0.03327912 \\\\\n",
       "\tRM & RM           & 5            &   5.981800   &   0.31709257 &   5.83700    &   5.7070     &   6.4870     &   0.7800     &  0.6209273   & -1.5578361   &  0.14180811 \\\\\n",
       "\tAGE & AGE          & 5            &  51.080000   &  30.87599391 &  54.00000    &  13.0000     &  95.4000     &  82.4000     &  0.1826501   & -1.6649665   & 13.80816425 \\\\\n",
       "\tDIS & DIS          & 5            &   3.884880   &   2.31403288 &   2.54800    &   1.9976     &   7.3967     &   5.3991     &  0.5261657   & -1.7774749   &  1.03486696 \\\\\n",
       "\tRAD & RAD          & 5            &   9.200000   &   8.40832920 &   6.00000    &   3.0000     &  24.0000     &  21.0000     &  0.9848388   & -1.0118277   &  3.76031914 \\\\\n",
       "\tTAX & TAX          & 5            & 410.400000   & 161.32978646 & 391.00000    & 233.0000     & 666.0000     & 433.0000     &  0.5048294   & -1.4350219   & 72.14887387 \\\\\n",
       "\tPTRATIO & PTRATIO      & 5            &  18.840000   &   1.00149888 &  19.10000    &  17.8000     &  20.2000     &   2.4000     &  0.1242883   & -1.9278439   &  0.44788391 \\\\\n",
       "\tB & B            & 5            & 322.326000   & 166.40615938 & 396.90000    &  24.6500     & 396.9000     & 372.2500     & -1.0733056   & -0.9200083   & 74.41909685 \\\\\n",
       "\tLSTAT & LSTAT        & 5            &  12.968000   &   4.37811832 &  14.15000    &   5.9000     &  17.0900     &  11.1900     & -0.6246867   & -1.4529258   &  1.95795403 \\\\\n",
       "\tMEDV & MEDV         & 5            &  19.020000   &   5.37419761 &  20.00000    &  10.2000     &  24.4000     &  14.2000     & -0.6545840   & -1.3336496   &  2.40341424 \\\\\n",
       "\\end{tabular}\n"
      ],
      "text/markdown": [
       "\n",
       "| <!--/--> | features | n | mean | sd | median | min | max | range | skew | kurtosis | se | \n",
       "|---|---|---|---|---|---|---|---|---|---|---|---|---|---|\n",
       "| CRIM | CRIM         | 5            |   2.594258   |   5.39623879 |   0.18836    |   0.1403     |  12.2472     |  12.1069     |  1.0732329   | -0.9200951   |  2.41327135  | \n",
       "| ZN | ZN           | 5            |   4.400000   |   9.83869910 |   0.00000    |   0.0000     |  22.0000     |  22.0000     |  1.0733126   | -0.9200000   |  4.40000000  | \n",
       "| INDUS | INDUS        | 5            |  10.114000   |   4.80439694 |   9.69000    |   5.8600     |  18.1000     |  12.2400     |  0.7202515   | -1.3106635   |  2.14859163  | \n",
       "| CHAS | CHAS         | 5            |   0.000000   |   0.00000000 |   0.00000    |   0.0000     |   0.0000     |   0.0000     |        NaN   |        NaN   |  0.00000000  | \n",
       "| NOX | NOX          | 5            |   0.519000   |   0.07441438 |   0.54700    |   0.4310     |   0.5850     |   0.1540     | -0.2209869   | -2.1989198   |  0.03327912  | \n",
       "| RM | RM           | 5            |   5.981800   |   0.31709257 |   5.83700    |   5.7070     |   6.4870     |   0.7800     |  0.6209273   | -1.5578361   |  0.14180811  | \n",
       "| AGE | AGE          | 5            |  51.080000   |  30.87599391 |  54.00000    |  13.0000     |  95.4000     |  82.4000     |  0.1826501   | -1.6649665   | 13.80816425  | \n",
       "| DIS | DIS          | 5            |   3.884880   |   2.31403288 |   2.54800    |   1.9976     |   7.3967     |   5.3991     |  0.5261657   | -1.7774749   |  1.03486696  | \n",
       "| RAD | RAD          | 5            |   9.200000   |   8.40832920 |   6.00000    |   3.0000     |  24.0000     |  21.0000     |  0.9848388   | -1.0118277   |  3.76031914  | \n",
       "| TAX | TAX          | 5            | 410.400000   | 161.32978646 | 391.00000    | 233.0000     | 666.0000     | 433.0000     |  0.5048294   | -1.4350219   | 72.14887387  | \n",
       "| PTRATIO | PTRATIO      | 5            |  18.840000   |   1.00149888 |  19.10000    |  17.8000     |  20.2000     |   2.4000     |  0.1242883   | -1.9278439   |  0.44788391  | \n",
       "| B | B            | 5            | 322.326000   | 166.40615938 | 396.90000    |  24.6500     | 396.9000     | 372.2500     | -1.0733056   | -0.9200083   | 74.41909685  | \n",
       "| LSTAT | LSTAT        | 5            |  12.968000   |   4.37811832 |  14.15000    |   5.9000     |  17.0900     |  11.1900     | -0.6246867   | -1.4529258   |  1.95795403  | \n",
       "| MEDV | MEDV         | 5            |  19.020000   |   5.37419761 |  20.00000    |  10.2000     |  24.4000     |  14.2000     | -0.6545840   | -1.3336496   |  2.40341424  | \n",
       "\n",
       "\n"
      ],
      "text/plain": [
       "        features n mean       sd           median    min      max      range   \n",
       "CRIM    CRIM     5   2.594258   5.39623879   0.18836   0.1403  12.2472  12.1069\n",
       "ZN      ZN       5   4.400000   9.83869910   0.00000   0.0000  22.0000  22.0000\n",
       "INDUS   INDUS    5  10.114000   4.80439694   9.69000   5.8600  18.1000  12.2400\n",
       "CHAS    CHAS     5   0.000000   0.00000000   0.00000   0.0000   0.0000   0.0000\n",
       "NOX     NOX      5   0.519000   0.07441438   0.54700   0.4310   0.5850   0.1540\n",
       "RM      RM       5   5.981800   0.31709257   5.83700   5.7070   6.4870   0.7800\n",
       "AGE     AGE      5  51.080000  30.87599391  54.00000  13.0000  95.4000  82.4000\n",
       "DIS     DIS      5   3.884880   2.31403288   2.54800   1.9976   7.3967   5.3991\n",
       "RAD     RAD      5   9.200000   8.40832920   6.00000   3.0000  24.0000  21.0000\n",
       "TAX     TAX      5 410.400000 161.32978646 391.00000 233.0000 666.0000 433.0000\n",
       "PTRATIO PTRATIO  5  18.840000   1.00149888  19.10000  17.8000  20.2000   2.4000\n",
       "B       B        5 322.326000 166.40615938 396.90000  24.6500 396.9000 372.2500\n",
       "LSTAT   LSTAT    5  12.968000   4.37811832  14.15000   5.9000  17.0900  11.1900\n",
       "MEDV    MEDV     5  19.020000   5.37419761  20.00000  10.2000  24.4000  14.2000\n",
       "        skew       kurtosis   se         \n",
       "CRIM     1.0732329 -0.9200951  2.41327135\n",
       "ZN       1.0733126 -0.9200000  4.40000000\n",
       "INDUS    0.7202515 -1.3106635  2.14859163\n",
       "CHAS           NaN        NaN  0.00000000\n",
       "NOX     -0.2209869 -2.1989198  0.03327912\n",
       "RM       0.6209273 -1.5578361  0.14180811\n",
       "AGE      0.1826501 -1.6649665 13.80816425\n",
       "DIS      0.5261657 -1.7774749  1.03486696\n",
       "RAD      0.9848388 -1.0118277  3.76031914\n",
       "TAX      0.5048294 -1.4350219 72.14887387\n",
       "PTRATIO  0.1242883 -1.9278439  0.44788391\n",
       "B       -1.0733056 -0.9200083 74.41909685\n",
       "LSTAT   -0.6246867 -1.4529258  1.95795403\n",
       "MEDV    -0.6545840 -1.3336496  2.40341424"
      ]
     },
     "metadata": {},
     "output_type": "display_data"
    }
   ],
   "source": [
    "samp_stats <- describe(samp)\n",
    "samp_stats <- cbind(features, samp_stats)\n",
    "samp_stats$vars <- NULL ; samp_stats$trimmed <- NULL ; samp_stats$mad <- NULL\n",
    "samp_stats"
   ]
  },
  {
   "cell_type": "markdown",
   "metadata": {},
   "source": [
    "#### Z-scores of sample data set\n",
    "\n",
    "Z-score = $(X - \\mu)/\\sigma $\n",
    "\n",
    "where $X$ = sample mean, and $\\mu$ = population mean, and $\\sigma$ = population standard dev"
   ]
  },
  {
   "cell_type": "code",
   "execution_count": 11,
   "metadata": {},
   "outputs": [],
   "source": [
    "z_score <- function (X, mu, sd){\n",
    "    z <- (X - mu)/sd\n",
    "    return(z)\n",
    "}"
   ]
  },
  {
   "cell_type": "markdown",
   "metadata": {},
   "source": [
    "#### Bar Plot\n",
    "\n",
    "Z-scores for the sample means.\n",
    "Z-scores close to 0 indicate that the sample mean is close to the population mean. "
   ]
  },
  {
   "cell_type": "code",
   "execution_count": 12,
   "metadata": {},
   "outputs": [
    {
     "data": {
      "text/html": [
       "<table>\n",
       "<thead><tr><th scope=col>features</th><th scope=col>samp_z_score</th></tr></thead>\n",
       "<tbody>\n",
       "\t<tr><td>CRIM       </td><td>-0.11849796</td></tr>\n",
       "\t<tr><td>ZN         </td><td>-0.29858079</td></tr>\n",
       "\t<tr><td>INDUS      </td><td>-0.14908543</td></tr>\n",
       "\t<tr><td>CHAS       </td><td>-0.27232907</td></tr>\n",
       "\t<tr><td>NOX        </td><td>-0.30804086</td></tr>\n",
       "\t<tr><td>RM         </td><td>-0.43100911</td></tr>\n",
       "\t<tr><td>AGE        </td><td>-0.62151364</td></tr>\n",
       "\t<tr><td>DIS        </td><td> 0.04266367</td></tr>\n",
       "\t<tr><td>RAD        </td><td>-0.04012825</td></tr>\n",
       "\t<tr><td>TAX        </td><td> 0.01283305</td></tr>\n",
       "\t<tr><td>PTRATIO    </td><td> 0.17758710</td></tr>\n",
       "\t<tr><td>B          </td><td>-0.37623181</td></tr>\n",
       "\t<tr><td>LSTAT      </td><td> 0.04410223</td></tr>\n",
       "\t<tr><td>MEDV       </td><td>-0.38194700</td></tr>\n",
       "</tbody>\n",
       "</table>\n"
      ],
      "text/latex": [
       "\\begin{tabular}{r|ll}\n",
       " features & samp\\_z\\_score\\\\\n",
       "\\hline\n",
       "\t CRIM        & -0.11849796\\\\\n",
       "\t ZN          & -0.29858079\\\\\n",
       "\t INDUS       & -0.14908543\\\\\n",
       "\t CHAS        & -0.27232907\\\\\n",
       "\t NOX         & -0.30804086\\\\\n",
       "\t RM          & -0.43100911\\\\\n",
       "\t AGE         & -0.62151364\\\\\n",
       "\t DIS         &  0.04266367\\\\\n",
       "\t RAD         & -0.04012825\\\\\n",
       "\t TAX         &  0.01283305\\\\\n",
       "\t PTRATIO     &  0.17758710\\\\\n",
       "\t B           & -0.37623181\\\\\n",
       "\t LSTAT       &  0.04410223\\\\\n",
       "\t MEDV        & -0.38194700\\\\\n",
       "\\end{tabular}\n"
      ],
      "text/markdown": [
       "\n",
       "features | samp_z_score | \n",
       "|---|---|---|---|---|---|---|---|---|---|---|---|---|---|\n",
       "| CRIM        | -0.11849796 | \n",
       "| ZN          | -0.29858079 | \n",
       "| INDUS       | -0.14908543 | \n",
       "| CHAS        | -0.27232907 | \n",
       "| NOX         | -0.30804086 | \n",
       "| RM          | -0.43100911 | \n",
       "| AGE         | -0.62151364 | \n",
       "| DIS         |  0.04266367 | \n",
       "| RAD         | -0.04012825 | \n",
       "| TAX         |  0.01283305 | \n",
       "| PTRATIO     |  0.17758710 | \n",
       "| B           | -0.37623181 | \n",
       "| LSTAT       |  0.04410223 | \n",
       "| MEDV        | -0.38194700 | \n",
       "\n",
       "\n"
      ],
      "text/plain": [
       "   features samp_z_score\n",
       "1  CRIM     -0.11849796 \n",
       "2  ZN       -0.29858079 \n",
       "3  INDUS    -0.14908543 \n",
       "4  CHAS     -0.27232907 \n",
       "5  NOX      -0.30804086 \n",
       "6  RM       -0.43100911 \n",
       "7  AGE      -0.62151364 \n",
       "8  DIS       0.04266367 \n",
       "9  RAD      -0.04012825 \n",
       "10 TAX       0.01283305 \n",
       "11 PTRATIO   0.17758710 \n",
       "12 B        -0.37623181 \n",
       "13 LSTAT     0.04410223 \n",
       "14 MEDV     -0.38194700 "
      ]
     },
     "metadata": {},
     "output_type": "display_data"
    }
   ],
   "source": [
    "samp_z_score <- z_score(samp_stats$mean, boston_stats$mean, boston_stats$sd)\n",
    "samp_z_df <- data.frame(features, samp_z_score)\n",
    "samp_z_df"
   ]
  },
  {
   "cell_type": "code",
   "execution_count": 13,
   "metadata": {},
   "outputs": [],
   "source": [
    "samp_z_df1 <- subset(samp_z_df, samp_z_score >= 0)\n",
    "samp_z_df2 <- subset(samp_z_df, samp_z_score <0)\n"
   ]
  },
  {
   "cell_type": "code",
   "execution_count": 14,
   "metadata": {},
   "outputs": [
    {
     "data": {},
     "metadata": {},
     "output_type": "display_data"
    },
    {
     "data": {
      "image/png": "[encoded data removed]",
      "text/plain": [
       "plot without title"
      ]
     },
     "metadata": {},
     "output_type": "display_data"
    }
   ],
   "source": [
    "ggplot() +\n",
    "    geom_bar(data=samp_z_df1, aes(x=features, y=samp_z_score), stat = \"identity\") +\n",
    "    geom_bar(data=samp_z_df2, aes(x=features, y=samp_z_score), stat = \"identity\") +\n",
    "    theme_classic()"
   ]
  },
  {
   "cell_type": "markdown",
   "metadata": {},
   "source": [
    "#### Heat Map\n",
    "\n",
    "For a heat map: X-axis feature, Y-axis instances, Z = color"
   ]
  },
  {
   "cell_type": "code",
   "execution_count": 15,
   "metadata": {},
   "outputs": [
    {
     "data": {
      "text/html": [
       "<table>\n",
       "<thead><tr><th></th><th scope=col>47</th><th scope=col>251</th><th scope=col>494</th><th scope=col>114</th><th scope=col>427</th></tr></thead>\n",
       "<tbody>\n",
       "\t<tr><th scope=row>CRIM</th><td>  0.18836</td><td>  0.1403 </td><td>  0.17331</td><td>  0.22212</td><td> 12.2472 </td></tr>\n",
       "\t<tr><th scope=row>ZN</th><td>  0.00000</td><td> 22.0000 </td><td>  0.00000</td><td>  0.00000</td><td>  0.0000 </td></tr>\n",
       "\t<tr><th scope=row>INDUS</th><td>  6.91000</td><td>  5.8600 </td><td>  9.69000</td><td> 10.01000</td><td> 18.1000 </td></tr>\n",
       "\t<tr><th scope=row>CHAS</th><td>  0.00000</td><td>  0.0000 </td><td>  0.00000</td><td>  0.00000</td><td>  0.0000 </td></tr>\n",
       "\t<tr><th scope=row>NOX</th><td>  0.44800</td><td>  0.4310 </td><td>  0.58500</td><td>  0.54700</td><td>  0.5840 </td></tr>\n",
       "\t<tr><th scope=row>RM</th><td>  5.78600</td><td>  6.4870 </td><td>  5.70700</td><td>  6.09200</td><td>  5.8370 </td></tr>\n",
       "\t<tr><th scope=row>AGE</th><td> 33.30000</td><td> 13.0000 </td><td> 54.00000</td><td> 95.40000</td><td> 59.7000 </td></tr>\n",
       "\t<tr><th scope=row>DIS</th><td>  5.10040</td><td>  7.3967 </td><td>  2.38170</td><td>  2.54800</td><td>  1.9976 </td></tr>\n",
       "\t<tr><th scope=row>RAD</th><td>  3.00000</td><td>  7.0000 </td><td>  6.00000</td><td>  6.00000</td><td> 24.0000 </td></tr>\n",
       "\t<tr><th scope=row>TAX</th><td>233.00000</td><td>330.0000 </td><td>391.00000</td><td>432.00000</td><td>666.0000 </td></tr>\n",
       "\t<tr><th scope=row>PTRATIO</th><td> 17.90000</td><td> 19.1000 </td><td> 19.20000</td><td> 17.80000</td><td> 20.2000 </td></tr>\n",
       "\t<tr><th scope=row>B</th><td>396.90000</td><td>396.2800 </td><td>396.90000</td><td>396.90000</td><td> 24.6500 </td></tr>\n",
       "\t<tr><th scope=row>LSTAT</th><td> 14.15000</td><td>  5.9000 </td><td> 12.01000</td><td> 17.09000</td><td> 15.6900 </td></tr>\n",
       "\t<tr><th scope=row>MEDV</th><td> 20.00000</td><td> 24.4000 </td><td> 21.80000</td><td> 18.70000</td><td> 10.2000 </td></tr>\n",
       "</tbody>\n",
       "</table>\n"
      ],
      "text/latex": [
       "\\begin{tabular}{r|lllll}\n",
       "  & 47 & 251 & 494 & 114 & 427\\\\\n",
       "\\hline\n",
       "\tCRIM &   0.18836 &   0.1403  &   0.17331 &   0.22212 &  12.2472 \\\\\n",
       "\tZN &   0.00000 &  22.0000  &   0.00000 &   0.00000 &   0.0000 \\\\\n",
       "\tINDUS &   6.91000 &   5.8600  &   9.69000 &  10.01000 &  18.1000 \\\\\n",
       "\tCHAS &   0.00000 &   0.0000  &   0.00000 &   0.00000 &   0.0000 \\\\\n",
       "\tNOX &   0.44800 &   0.4310  &   0.58500 &   0.54700 &   0.5840 \\\\\n",
       "\tRM &   5.78600 &   6.4870  &   5.70700 &   6.09200 &   5.8370 \\\\\n",
       "\tAGE &  33.30000 &  13.0000  &  54.00000 &  95.40000 &  59.7000 \\\\\n",
       "\tDIS &   5.10040 &   7.3967  &   2.38170 &   2.54800 &   1.9976 \\\\\n",
       "\tRAD &   3.00000 &   7.0000  &   6.00000 &   6.00000 &  24.0000 \\\\\n",
       "\tTAX & 233.00000 & 330.0000  & 391.00000 & 432.00000 & 666.0000 \\\\\n",
       "\tPTRATIO &  17.90000 &  19.1000  &  19.20000 &  17.80000 &  20.2000 \\\\\n",
       "\tB & 396.90000 & 396.2800  & 396.90000 & 396.90000 &  24.6500 \\\\\n",
       "\tLSTAT &  14.15000 &   5.9000  &  12.01000 &  17.09000 &  15.6900 \\\\\n",
       "\tMEDV &  20.00000 &  24.4000  &  21.80000 &  18.70000 &  10.2000 \\\\\n",
       "\\end{tabular}\n"
      ],
      "text/markdown": [
       "\n",
       "| <!--/--> | 47 | 251 | 494 | 114 | 427 | \n",
       "|---|---|---|---|---|---|---|---|---|---|---|---|---|---|\n",
       "| CRIM |   0.18836 |   0.1403  |   0.17331 |   0.22212 |  12.2472  | \n",
       "| ZN |   0.00000 |  22.0000  |   0.00000 |   0.00000 |   0.0000  | \n",
       "| INDUS |   6.91000 |   5.8600  |   9.69000 |  10.01000 |  18.1000  | \n",
       "| CHAS |   0.00000 |   0.0000  |   0.00000 |   0.00000 |   0.0000  | \n",
       "| NOX |   0.44800 |   0.4310  |   0.58500 |   0.54700 |   0.5840  | \n",
       "| RM |   5.78600 |   6.4870  |   5.70700 |   6.09200 |   5.8370  | \n",
       "| AGE |  33.30000 |  13.0000  |  54.00000 |  95.40000 |  59.7000  | \n",
       "| DIS |   5.10040 |   7.3967  |   2.38170 |   2.54800 |   1.9976  | \n",
       "| RAD |   3.00000 |   7.0000  |   6.00000 |   6.00000 |  24.0000  | \n",
       "| TAX | 233.00000 | 330.0000  | 391.00000 | 432.00000 | 666.0000  | \n",
       "| PTRATIO |  17.90000 |  19.1000  |  19.20000 |  17.80000 |  20.2000  | \n",
       "| B | 396.90000 | 396.2800  | 396.90000 | 396.90000 |  24.6500  | \n",
       "| LSTAT |  14.15000 |   5.9000  |  12.01000 |  17.09000 |  15.6900  | \n",
       "| MEDV |  20.00000 |  24.4000  |  21.80000 |  18.70000 |  10.2000  | \n",
       "\n",
       "\n"
      ],
      "text/plain": [
       "        47        251      494       114       427     \n",
       "CRIM      0.18836   0.1403   0.17331   0.22212  12.2472\n",
       "ZN        0.00000  22.0000   0.00000   0.00000   0.0000\n",
       "INDUS     6.91000   5.8600   9.69000  10.01000  18.1000\n",
       "CHAS      0.00000   0.0000   0.00000   0.00000   0.0000\n",
       "NOX       0.44800   0.4310   0.58500   0.54700   0.5840\n",
       "RM        5.78600   6.4870   5.70700   6.09200   5.8370\n",
       "AGE      33.30000  13.0000  54.00000  95.40000  59.7000\n",
       "DIS       5.10040   7.3967   2.38170   2.54800   1.9976\n",
       "RAD       3.00000   7.0000   6.00000   6.00000  24.0000\n",
       "TAX     233.00000 330.0000 391.00000 432.00000 666.0000\n",
       "PTRATIO  17.90000  19.1000  19.20000  17.80000  20.2000\n",
       "B       396.90000 396.2800 396.90000 396.90000  24.6500\n",
       "LSTAT    14.15000   5.9000  12.01000  17.09000  15.6900\n",
       "MEDV     20.00000  24.4000  21.80000  18.70000  10.2000"
      ]
     },
     "metadata": {},
     "output_type": "display_data"
    },
    {
     "data": {
      "text/html": [
       "<table>\n",
       "<thead><tr><th></th><th scope=col>features</th><th scope=col>n</th><th scope=col>mean</th><th scope=col>sd</th><th scope=col>median</th><th scope=col>min</th><th scope=col>max</th><th scope=col>range</th><th scope=col>skew</th><th scope=col>kurtosis</th><th scope=col>se</th></tr></thead>\n",
       "<tbody>\n",
       "\t<tr><th scope=row>CRIM</th><td>CRIM        </td><td>5           </td><td>  2.594258  </td><td>  5.39623879</td><td>  0.18836   </td><td>  0.1403    </td><td> 12.2472    </td><td> 12.1069    </td><td> 1.0732329  </td><td>-0.9200951  </td><td> 2.41327135 </td></tr>\n",
       "\t<tr><th scope=row>ZN</th><td>ZN          </td><td>5           </td><td>  4.400000  </td><td>  9.83869910</td><td>  0.00000   </td><td>  0.0000    </td><td> 22.0000    </td><td> 22.0000    </td><td> 1.0733126  </td><td>-0.9200000  </td><td> 4.40000000 </td></tr>\n",
       "\t<tr><th scope=row>INDUS</th><td>INDUS       </td><td>5           </td><td> 10.114000  </td><td>  4.80439694</td><td>  9.69000   </td><td>  5.8600    </td><td> 18.1000    </td><td> 12.2400    </td><td> 0.7202515  </td><td>-1.3106635  </td><td> 2.14859163 </td></tr>\n",
       "\t<tr><th scope=row>CHAS</th><td>CHAS        </td><td>5           </td><td>  0.000000  </td><td>  0.00000000</td><td>  0.00000   </td><td>  0.0000    </td><td>  0.0000    </td><td>  0.0000    </td><td>       NaN  </td><td>       NaN  </td><td> 0.00000000 </td></tr>\n",
       "\t<tr><th scope=row>NOX</th><td>NOX         </td><td>5           </td><td>  0.519000  </td><td>  0.07441438</td><td>  0.54700   </td><td>  0.4310    </td><td>  0.5850    </td><td>  0.1540    </td><td>-0.2209869  </td><td>-2.1989198  </td><td> 0.03327912 </td></tr>\n",
       "\t<tr><th scope=row>RM</th><td>RM          </td><td>5           </td><td>  5.981800  </td><td>  0.31709257</td><td>  5.83700   </td><td>  5.7070    </td><td>  6.4870    </td><td>  0.7800    </td><td> 0.6209273  </td><td>-1.5578361  </td><td> 0.14180811 </td></tr>\n",
       "\t<tr><th scope=row>AGE</th><td>AGE         </td><td>5           </td><td> 51.080000  </td><td> 30.87599391</td><td> 54.00000   </td><td> 13.0000    </td><td> 95.4000    </td><td> 82.4000    </td><td> 0.1826501  </td><td>-1.6649665  </td><td>13.80816425 </td></tr>\n",
       "\t<tr><th scope=row>DIS</th><td>DIS         </td><td>5           </td><td>  3.884880  </td><td>  2.31403288</td><td>  2.54800   </td><td>  1.9976    </td><td>  7.3967    </td><td>  5.3991    </td><td> 0.5261657  </td><td>-1.7774749  </td><td> 1.03486696 </td></tr>\n",
       "\t<tr><th scope=row>RAD</th><td>RAD         </td><td>5           </td><td>  9.200000  </td><td>  8.40832920</td><td>  6.00000   </td><td>  3.0000    </td><td> 24.0000    </td><td> 21.0000    </td><td> 0.9848388  </td><td>-1.0118277  </td><td> 3.76031914 </td></tr>\n",
       "\t<tr><th scope=row>TAX</th><td>TAX         </td><td>5           </td><td>410.400000  </td><td>161.32978646</td><td>391.00000   </td><td>233.0000    </td><td>666.0000    </td><td>433.0000    </td><td> 0.5048294  </td><td>-1.4350219  </td><td>72.14887387 </td></tr>\n",
       "\t<tr><th scope=row>PTRATIO</th><td>PTRATIO     </td><td>5           </td><td> 18.840000  </td><td>  1.00149888</td><td> 19.10000   </td><td> 17.8000    </td><td> 20.2000    </td><td>  2.4000    </td><td> 0.1242883  </td><td>-1.9278439  </td><td> 0.44788391 </td></tr>\n",
       "\t<tr><th scope=row>B</th><td>B           </td><td>5           </td><td>322.326000  </td><td>166.40615938</td><td>396.90000   </td><td> 24.6500    </td><td>396.9000    </td><td>372.2500    </td><td>-1.0733056  </td><td>-0.9200083  </td><td>74.41909685 </td></tr>\n",
       "\t<tr><th scope=row>LSTAT</th><td>LSTAT       </td><td>5           </td><td> 12.968000  </td><td>  4.37811832</td><td> 14.15000   </td><td>  5.9000    </td><td> 17.0900    </td><td> 11.1900    </td><td>-0.6246867  </td><td>-1.4529258  </td><td> 1.95795403 </td></tr>\n",
       "\t<tr><th scope=row>MEDV</th><td>MEDV        </td><td>5           </td><td> 19.020000  </td><td>  5.37419761</td><td> 20.00000   </td><td> 10.2000    </td><td> 24.4000    </td><td> 14.2000    </td><td>-0.6545840  </td><td>-1.3336496  </td><td> 2.40341424 </td></tr>\n",
       "</tbody>\n",
       "</table>\n"
      ],
      "text/latex": [
       "\\begin{tabular}{r|lllllllllll}\n",
       "  & features & n & mean & sd & median & min & max & range & skew & kurtosis & se\\\\\n",
       "\\hline\n",
       "\tCRIM & CRIM         & 5            &   2.594258   &   5.39623879 &   0.18836    &   0.1403     &  12.2472     &  12.1069     &  1.0732329   & -0.9200951   &  2.41327135 \\\\\n",
       "\tZN & ZN           & 5            &   4.400000   &   9.83869910 &   0.00000    &   0.0000     &  22.0000     &  22.0000     &  1.0733126   & -0.9200000   &  4.40000000 \\\\\n",
       "\tINDUS & INDUS        & 5            &  10.114000   &   4.80439694 &   9.69000    &   5.8600     &  18.1000     &  12.2400     &  0.7202515   & -1.3106635   &  2.14859163 \\\\\n",
       "\tCHAS & CHAS         & 5            &   0.000000   &   0.00000000 &   0.00000    &   0.0000     &   0.0000     &   0.0000     &        NaN   &        NaN   &  0.00000000 \\\\\n",
       "\tNOX & NOX          & 5            &   0.519000   &   0.07441438 &   0.54700    &   0.4310     &   0.5850     &   0.1540     & -0.2209869   & -2.1989198   &  0.03327912 \\\\\n",
       "\tRM & RM           & 5            &   5.981800   &   0.31709257 &   5.83700    &   5.7070     &   6.4870     &   0.7800     &  0.6209273   & -1.5578361   &  0.14180811 \\\\\n",
       "\tAGE & AGE          & 5            &  51.080000   &  30.87599391 &  54.00000    &  13.0000     &  95.4000     &  82.4000     &  0.1826501   & -1.6649665   & 13.80816425 \\\\\n",
       "\tDIS & DIS          & 5            &   3.884880   &   2.31403288 &   2.54800    &   1.9976     &   7.3967     &   5.3991     &  0.5261657   & -1.7774749   &  1.03486696 \\\\\n",
       "\tRAD & RAD          & 5            &   9.200000   &   8.40832920 &   6.00000    &   3.0000     &  24.0000     &  21.0000     &  0.9848388   & -1.0118277   &  3.76031914 \\\\\n",
       "\tTAX & TAX          & 5            & 410.400000   & 161.32978646 & 391.00000    & 233.0000     & 666.0000     & 433.0000     &  0.5048294   & -1.4350219   & 72.14887387 \\\\\n",
       "\tPTRATIO & PTRATIO      & 5            &  18.840000   &   1.00149888 &  19.10000    &  17.8000     &  20.2000     &   2.4000     &  0.1242883   & -1.9278439   &  0.44788391 \\\\\n",
       "\tB & B            & 5            & 322.326000   & 166.40615938 & 396.90000    &  24.6500     & 396.9000     & 372.2500     & -1.0733056   & -0.9200083   & 74.41909685 \\\\\n",
       "\tLSTAT & LSTAT        & 5            &  12.968000   &   4.37811832 &  14.15000    &   5.9000     &  17.0900     &  11.1900     & -0.6246867   & -1.4529258   &  1.95795403 \\\\\n",
       "\tMEDV & MEDV         & 5            &  19.020000   &   5.37419761 &  20.00000    &  10.2000     &  24.4000     &  14.2000     & -0.6545840   & -1.3336496   &  2.40341424 \\\\\n",
       "\\end{tabular}\n"
      ],
      "text/markdown": [
       "\n",
       "| <!--/--> | features | n | mean | sd | median | min | max | range | skew | kurtosis | se | \n",
       "|---|---|---|---|---|---|---|---|---|---|---|---|---|---|\n",
       "| CRIM | CRIM         | 5            |   2.594258   |   5.39623879 |   0.18836    |   0.1403     |  12.2472     |  12.1069     |  1.0732329   | -0.9200951   |  2.41327135  | \n",
       "| ZN | ZN           | 5            |   4.400000   |   9.83869910 |   0.00000    |   0.0000     |  22.0000     |  22.0000     |  1.0733126   | -0.9200000   |  4.40000000  | \n",
       "| INDUS | INDUS        | 5            |  10.114000   |   4.80439694 |   9.69000    |   5.8600     |  18.1000     |  12.2400     |  0.7202515   | -1.3106635   |  2.14859163  | \n",
       "| CHAS | CHAS         | 5            |   0.000000   |   0.00000000 |   0.00000    |   0.0000     |   0.0000     |   0.0000     |        NaN   |        NaN   |  0.00000000  | \n",
       "| NOX | NOX          | 5            |   0.519000   |   0.07441438 |   0.54700    |   0.4310     |   0.5850     |   0.1540     | -0.2209869   | -2.1989198   |  0.03327912  | \n",
       "| RM | RM           | 5            |   5.981800   |   0.31709257 |   5.83700    |   5.7070     |   6.4870     |   0.7800     |  0.6209273   | -1.5578361   |  0.14180811  | \n",
       "| AGE | AGE          | 5            |  51.080000   |  30.87599391 |  54.00000    |  13.0000     |  95.4000     |  82.4000     |  0.1826501   | -1.6649665   | 13.80816425  | \n",
       "| DIS | DIS          | 5            |   3.884880   |   2.31403288 |   2.54800    |   1.9976     |   7.3967     |   5.3991     |  0.5261657   | -1.7774749   |  1.03486696  | \n",
       "| RAD | RAD          | 5            |   9.200000   |   8.40832920 |   6.00000    |   3.0000     |  24.0000     |  21.0000     |  0.9848388   | -1.0118277   |  3.76031914  | \n",
       "| TAX | TAX          | 5            | 410.400000   | 161.32978646 | 391.00000    | 233.0000     | 666.0000     | 433.0000     |  0.5048294   | -1.4350219   | 72.14887387  | \n",
       "| PTRATIO | PTRATIO      | 5            |  18.840000   |   1.00149888 |  19.10000    |  17.8000     |  20.2000     |   2.4000     |  0.1242883   | -1.9278439   |  0.44788391  | \n",
       "| B | B            | 5            | 322.326000   | 166.40615938 | 396.90000    |  24.6500     | 396.9000     | 372.2500     | -1.0733056   | -0.9200083   | 74.41909685  | \n",
       "| LSTAT | LSTAT        | 5            |  12.968000   |   4.37811832 |  14.15000    |   5.9000     |  17.0900     |  11.1900     | -0.6246867   | -1.4529258   |  1.95795403  | \n",
       "| MEDV | MEDV         | 5            |  19.020000   |   5.37419761 |  20.00000    |  10.2000     |  24.4000     |  14.2000     | -0.6545840   | -1.3336496   |  2.40341424  | \n",
       "\n",
       "\n"
      ],
      "text/plain": [
       "        features n mean       sd           median    min      max      range   \n",
       "CRIM    CRIM     5   2.594258   5.39623879   0.18836   0.1403  12.2472  12.1069\n",
       "ZN      ZN       5   4.400000   9.83869910   0.00000   0.0000  22.0000  22.0000\n",
       "INDUS   INDUS    5  10.114000   4.80439694   9.69000   5.8600  18.1000  12.2400\n",
       "CHAS    CHAS     5   0.000000   0.00000000   0.00000   0.0000   0.0000   0.0000\n",
       "NOX     NOX      5   0.519000   0.07441438   0.54700   0.4310   0.5850   0.1540\n",
       "RM      RM       5   5.981800   0.31709257   5.83700   5.7070   6.4870   0.7800\n",
       "AGE     AGE      5  51.080000  30.87599391  54.00000  13.0000  95.4000  82.4000\n",
       "DIS     DIS      5   3.884880   2.31403288   2.54800   1.9976   7.3967   5.3991\n",
       "RAD     RAD      5   9.200000   8.40832920   6.00000   3.0000  24.0000  21.0000\n",
       "TAX     TAX      5 410.400000 161.32978646 391.00000 233.0000 666.0000 433.0000\n",
       "PTRATIO PTRATIO  5  18.840000   1.00149888  19.10000  17.8000  20.2000   2.4000\n",
       "B       B        5 322.326000 166.40615938 396.90000  24.6500 396.9000 372.2500\n",
       "LSTAT   LSTAT    5  12.968000   4.37811832  14.15000   5.9000  17.0900  11.1900\n",
       "MEDV    MEDV     5  19.020000   5.37419761  20.00000  10.2000  24.4000  14.2000\n",
       "        skew       kurtosis   se         \n",
       "CRIM     1.0732329 -0.9200951  2.41327135\n",
       "ZN       1.0733126 -0.9200000  4.40000000\n",
       "INDUS    0.7202515 -1.3106635  2.14859163\n",
       "CHAS           NaN        NaN  0.00000000\n",
       "NOX     -0.2209869 -2.1989198  0.03327912\n",
       "RM       0.6209273 -1.5578361  0.14180811\n",
       "AGE      0.1826501 -1.6649665 13.80816425\n",
       "DIS      0.5261657 -1.7774749  1.03486696\n",
       "RAD      0.9848388 -1.0118277  3.76031914\n",
       "TAX      0.5048294 -1.4350219 72.14887387\n",
       "PTRATIO  0.1242883 -1.9278439  0.44788391\n",
       "B       -1.0733056 -0.9200083 74.41909685\n",
       "LSTAT   -0.6246867 -1.4529258  1.95795403\n",
       "MEDV    -0.6545840 -1.3336496  2.40341424"
      ]
     },
     "metadata": {},
     "output_type": "display_data"
    }
   ],
   "source": [
    "t(samp)\n",
    "samp_stats"
   ]
  },
  {
   "cell_type": "code",
   "execution_count": 16,
   "metadata": {},
   "outputs": [
    {
     "data": {
      "text/html": [
       "<table>\n",
       "<thead><tr><th scope=col>features</th><th scope=col>47</th><th scope=col>251</th><th scope=col>494</th><th scope=col>114</th><th scope=col>427</th></tr></thead>\n",
       "<tbody>\n",
       "\t<tr><td>CRIM       </td><td> -0.4458472</td><td> -0.4807530</td><td>  0.7997685</td><td> -0.4807530</td><td> -0.3977322</td></tr>\n",
       "\t<tr><td>ZN         </td><td> -0.4280688</td><td> -0.4472136</td><td>  0.2551150</td><td> -0.4472136</td><td> -0.4016791</td></tr>\n",
       "\t<tr><td>INDUS      </td><td> -2.0659492</td><td> -2.1051549</td><td> -0.6668891</td><td> -2.1051549</td><td> -2.0119070</td></tr>\n",
       "\t<tr><td>CHAS       </td><td>        Inf</td><td>        NaN</td><td>        Inf</td><td>        NaN</td><td>        Inf</td></tr>\n",
       "\t<tr><td>NOX        </td><td> -4.4432272</td><td> -6.9744584</td><td> 85.8839376</td><td> -6.9744584</td><td> -0.9541167</td></tr>\n",
       "\t<tr><td>RM         </td><td>-18.2705004</td><td>-18.8645226</td><td>  2.9272209</td><td>-18.8645226</td><td>-17.4516859</td></tr>\n",
       "\t<tr><td>AGE        </td><td> -1.6482592</td><td> -1.6543597</td><td> -1.4305612</td><td> -1.6543597</td><td> -1.6398500</td></tr>\n",
       "\t<tr><td>DIS        </td><td> -1.5974362</td><td> -1.6788353</td><td>  1.3072934</td><td> -1.6788353</td><td> -1.4852339</td></tr>\n",
       "\t<tr><td>RAD        </td><td> -1.0717516</td><td> -1.0941532</td><td> -0.2723490</td><td> -1.0941532</td><td> -1.0408727</td></tr>\n",
       "\t<tr><td>TAX        </td><td> -2.5426900</td><td> -2.5438576</td><td> -2.5010261</td><td> -2.5438576</td><td> -2.5410807</td></tr>\n",
       "\t<tr><td>PTRATIO    </td><td>-18.6237253</td><td>-18.8118034</td><td>-11.9121452</td><td>-18.8118034</td><td>-18.3644739</td></tr>\n",
       "\t<tr><td>B          </td><td> -1.9358517</td><td> -1.9369836</td><td> -1.8954587</td><td> -1.9369836</td><td> -1.9342914</td></tr>\n",
       "\t<tr><td>LSTAT      </td><td> -2.9189800</td><td> -2.9620031</td><td> -1.3836995</td><td> -2.9620031</td><td> -2.8596760</td></tr>\n",
       "\t<tr><td>MEDV       </td><td> -3.5040840</td><td> -3.5391330</td><td> -2.2533596</td><td> -3.5391330</td><td> -3.4557717</td></tr>\n",
       "</tbody>\n",
       "</table>\n"
      ],
      "text/latex": [
       "\\begin{tabular}{r|llllll}\n",
       " features & 47 & 251 & 494 & 114 & 427\\\\\n",
       "\\hline\n",
       "\t CRIM        &  -0.4458472 &  -0.4807530 &   0.7997685 &  -0.4807530 &  -0.3977322\\\\\n",
       "\t ZN          &  -0.4280688 &  -0.4472136 &   0.2551150 &  -0.4472136 &  -0.4016791\\\\\n",
       "\t INDUS       &  -2.0659492 &  -2.1051549 &  -0.6668891 &  -2.1051549 &  -2.0119070\\\\\n",
       "\t CHAS        &         Inf &         NaN &         Inf &         NaN &         Inf\\\\\n",
       "\t NOX         &  -4.4432272 &  -6.9744584 &  85.8839376 &  -6.9744584 &  -0.9541167\\\\\n",
       "\t RM          & -18.2705004 & -18.8645226 &   2.9272209 & -18.8645226 & -17.4516859\\\\\n",
       "\t AGE         &  -1.6482592 &  -1.6543597 &  -1.4305612 &  -1.6543597 &  -1.6398500\\\\\n",
       "\t DIS         &  -1.5974362 &  -1.6788353 &   1.3072934 &  -1.6788353 &  -1.4852339\\\\\n",
       "\t RAD         &  -1.0717516 &  -1.0941532 &  -0.2723490 &  -1.0941532 &  -1.0408727\\\\\n",
       "\t TAX         &  -2.5426900 &  -2.5438576 &  -2.5010261 &  -2.5438576 &  -2.5410807\\\\\n",
       "\t PTRATIO     & -18.6237253 & -18.8118034 & -11.9121452 & -18.8118034 & -18.3644739\\\\\n",
       "\t B           &  -1.9358517 &  -1.9369836 &  -1.8954587 &  -1.9369836 &  -1.9342914\\\\\n",
       "\t LSTAT       &  -2.9189800 &  -2.9620031 &  -1.3836995 &  -2.9620031 &  -2.8596760\\\\\n",
       "\t MEDV        &  -3.5040840 &  -3.5391330 &  -2.2533596 &  -3.5391330 &  -3.4557717\\\\\n",
       "\\end{tabular}\n"
      ],
      "text/markdown": [
       "\n",
       "features | 47 | 251 | 494 | 114 | 427 | \n",
       "|---|---|---|---|---|---|---|---|---|---|---|---|---|---|\n",
       "| CRIM        |  -0.4458472 |  -0.4807530 |   0.7997685 |  -0.4807530 |  -0.3977322 | \n",
       "| ZN          |  -0.4280688 |  -0.4472136 |   0.2551150 |  -0.4472136 |  -0.4016791 | \n",
       "| INDUS       |  -2.0659492 |  -2.1051549 |  -0.6668891 |  -2.1051549 |  -2.0119070 | \n",
       "| CHAS        |         Inf |         NaN |         Inf |         NaN |         Inf | \n",
       "| NOX         |  -4.4432272 |  -6.9744584 |  85.8839376 |  -6.9744584 |  -0.9541167 | \n",
       "| RM          | -18.2705004 | -18.8645226 |   2.9272209 | -18.8645226 | -17.4516859 | \n",
       "| AGE         |  -1.6482592 |  -1.6543597 |  -1.4305612 |  -1.6543597 |  -1.6398500 | \n",
       "| DIS         |  -1.5974362 |  -1.6788353 |   1.3072934 |  -1.6788353 |  -1.4852339 | \n",
       "| RAD         |  -1.0717516 |  -1.0941532 |  -0.2723490 |  -1.0941532 |  -1.0408727 | \n",
       "| TAX         |  -2.5426900 |  -2.5438576 |  -2.5010261 |  -2.5438576 |  -2.5410807 | \n",
       "| PTRATIO     | -18.6237253 | -18.8118034 | -11.9121452 | -18.8118034 | -18.3644739 | \n",
       "| B           |  -1.9358517 |  -1.9369836 |  -1.8954587 |  -1.9369836 |  -1.9342914 | \n",
       "| LSTAT       |  -2.9189800 |  -2.9620031 |  -1.3836995 |  -2.9620031 |  -2.8596760 | \n",
       "| MEDV        |  -3.5040840 |  -3.5391330 |  -2.2533596 |  -3.5391330 |  -3.4557717 | \n",
       "\n",
       "\n"
      ],
      "text/plain": [
       "   features 47          251         494         114         427        \n",
       "1  CRIM      -0.4458472  -0.4807530   0.7997685  -0.4807530  -0.3977322\n",
       "2  ZN        -0.4280688  -0.4472136   0.2551150  -0.4472136  -0.4016791\n",
       "3  INDUS     -2.0659492  -2.1051549  -0.6668891  -2.1051549  -2.0119070\n",
       "4  CHAS             Inf         NaN         Inf         NaN         Inf\n",
       "5  NOX       -4.4432272  -6.9744584  85.8839376  -6.9744584  -0.9541167\n",
       "6  RM       -18.2705004 -18.8645226   2.9272209 -18.8645226 -17.4516859\n",
       "7  AGE       -1.6482592  -1.6543597  -1.4305612  -1.6543597  -1.6398500\n",
       "8  DIS       -1.5974362  -1.6788353   1.3072934  -1.6788353  -1.4852339\n",
       "9  RAD       -1.0717516  -1.0941532  -0.2723490  -1.0941532  -1.0408727\n",
       "10 TAX       -2.5426900  -2.5438576  -2.5010261  -2.5438576  -2.5410807\n",
       "11 PTRATIO  -18.6237253 -18.8118034 -11.9121452 -18.8118034 -18.3644739\n",
       "12 B         -1.9358517  -1.9369836  -1.8954587  -1.9369836  -1.9342914\n",
       "13 LSTAT     -2.9189800  -2.9620031  -1.3836995  -2.9620031  -2.8596760\n",
       "14 MEDV      -3.5040840  -3.5391330  -2.2533596  -3.5391330  -3.4557717"
      ]
     },
     "metadata": {},
     "output_type": "display_data"
    }
   ],
   "source": [
    "# create point-z scores\n",
    "point_z_scores <- function(samp_df, stats_df){\n",
    "    features <- (rownames(stats_df))\n",
    "    point_z_df <- data.frame(features)\n",
    "    col <- colnames(samp_df)\n",
    "    z_scores_r1 <- (samp_df[[1]]-stats_df$mean) / stats_df$sd\n",
    "    z_scores_r2 <- (samp_df[[2]]-stats_df$mean) / stats_df$sd\n",
    "    z_scores_r3 <- (samp_df[[3]]-stats_df$mean) / stats_df$sd\n",
    "    z_scores_r4 <- (samp_df[[4]]-stats_df$mean) / stats_df$sd\n",
    "    z_scores_r5 <- (samp_df[[5]]-stats_df$mean) / stats_df$sd\n",
    "    z_scores <- cbind(z_scores_r1, z_scores_r2, z_scores_r3, z_scores_r4, z_scores_r5)\n",
    "    colnames(z_scores) <- col\n",
    "    point_z_df <- cbind(point_z_df, z_scores)\n",
    "    return(point_z_df)\n",
    "}\n",
    "a <- point_z_scores(t(samp), samp_stats)\n",
    "a"
   ]
  },
  {
   "cell_type": "code",
   "execution_count": 17,
   "metadata": {},
   "outputs": [
    {
     "data": {
      "text/html": [
       "<table>\n",
       "<thead><tr><th></th><th scope=col>features</th><th scope=col>47</th><th scope=col>251</th><th scope=col>494</th><th scope=col>114</th><th scope=col>427</th></tr></thead>\n",
       "<tbody>\n",
       "\t<tr><th scope=row>1</th><td>CRIM       </td><td> -0.4458472</td><td> -0.4807530</td><td>  0.7997685</td><td> -0.4807530</td><td> -0.3977322</td></tr>\n",
       "\t<tr><th scope=row>2</th><td>ZN         </td><td> -0.4280688</td><td> -0.4472136</td><td>  0.2551150</td><td> -0.4472136</td><td> -0.4016791</td></tr>\n",
       "\t<tr><th scope=row>3</th><td>INDUS      </td><td> -2.0659492</td><td> -2.1051549</td><td> -0.6668891</td><td> -2.1051549</td><td> -2.0119070</td></tr>\n",
       "\t<tr><th scope=row>5</th><td>NOX        </td><td> -4.4432272</td><td> -6.9744584</td><td> 85.8839376</td><td> -6.9744584</td><td> -0.9541167</td></tr>\n",
       "\t<tr><th scope=row>6</th><td>RM         </td><td>-18.2705004</td><td>-18.8645226</td><td>  2.9272209</td><td>-18.8645226</td><td>-17.4516859</td></tr>\n",
       "\t<tr><th scope=row>7</th><td>AGE        </td><td> -1.6482592</td><td> -1.6543597</td><td> -1.4305612</td><td> -1.6543597</td><td> -1.6398500</td></tr>\n",
       "\t<tr><th scope=row>8</th><td>DIS        </td><td> -1.5974362</td><td> -1.6788353</td><td>  1.3072934</td><td> -1.6788353</td><td> -1.4852339</td></tr>\n",
       "\t<tr><th scope=row>9</th><td>RAD        </td><td> -1.0717516</td><td> -1.0941532</td><td> -0.2723490</td><td> -1.0941532</td><td> -1.0408727</td></tr>\n",
       "\t<tr><th scope=row>10</th><td>TAX        </td><td> -2.5426900</td><td> -2.5438576</td><td> -2.5010261</td><td> -2.5438576</td><td> -2.5410807</td></tr>\n",
       "\t<tr><th scope=row>11</th><td>PTRATIO    </td><td>-18.6237253</td><td>-18.8118034</td><td>-11.9121452</td><td>-18.8118034</td><td>-18.3644739</td></tr>\n",
       "\t<tr><th scope=row>12</th><td>B          </td><td> -1.9358517</td><td> -1.9369836</td><td> -1.8954587</td><td> -1.9369836</td><td> -1.9342914</td></tr>\n",
       "\t<tr><th scope=row>13</th><td>LSTAT      </td><td> -2.9189800</td><td> -2.9620031</td><td> -1.3836995</td><td> -2.9620031</td><td> -2.8596760</td></tr>\n",
       "\t<tr><th scope=row>14</th><td>MEDV       </td><td> -3.5040840</td><td> -3.5391330</td><td> -2.2533596</td><td> -3.5391330</td><td> -3.4557717</td></tr>\n",
       "</tbody>\n",
       "</table>\n"
      ],
      "text/latex": [
       "\\begin{tabular}{r|llllll}\n",
       "  & features & 47 & 251 & 494 & 114 & 427\\\\\n",
       "\\hline\n",
       "\t1 & CRIM        &  -0.4458472 &  -0.4807530 &   0.7997685 &  -0.4807530 &  -0.3977322\\\\\n",
       "\t2 & ZN          &  -0.4280688 &  -0.4472136 &   0.2551150 &  -0.4472136 &  -0.4016791\\\\\n",
       "\t3 & INDUS       &  -2.0659492 &  -2.1051549 &  -0.6668891 &  -2.1051549 &  -2.0119070\\\\\n",
       "\t5 & NOX         &  -4.4432272 &  -6.9744584 &  85.8839376 &  -6.9744584 &  -0.9541167\\\\\n",
       "\t6 & RM          & -18.2705004 & -18.8645226 &   2.9272209 & -18.8645226 & -17.4516859\\\\\n",
       "\t7 & AGE         &  -1.6482592 &  -1.6543597 &  -1.4305612 &  -1.6543597 &  -1.6398500\\\\\n",
       "\t8 & DIS         &  -1.5974362 &  -1.6788353 &   1.3072934 &  -1.6788353 &  -1.4852339\\\\\n",
       "\t9 & RAD         &  -1.0717516 &  -1.0941532 &  -0.2723490 &  -1.0941532 &  -1.0408727\\\\\n",
       "\t10 & TAX         &  -2.5426900 &  -2.5438576 &  -2.5010261 &  -2.5438576 &  -2.5410807\\\\\n",
       "\t11 & PTRATIO     & -18.6237253 & -18.8118034 & -11.9121452 & -18.8118034 & -18.3644739\\\\\n",
       "\t12 & B           &  -1.9358517 &  -1.9369836 &  -1.8954587 &  -1.9369836 &  -1.9342914\\\\\n",
       "\t13 & LSTAT       &  -2.9189800 &  -2.9620031 &  -1.3836995 &  -2.9620031 &  -2.8596760\\\\\n",
       "\t14 & MEDV        &  -3.5040840 &  -3.5391330 &  -2.2533596 &  -3.5391330 &  -3.4557717\\\\\n",
       "\\end{tabular}\n"
      ],
      "text/markdown": [
       "\n",
       "| <!--/--> | features | 47 | 251 | 494 | 114 | 427 | \n",
       "|---|---|---|---|---|---|---|---|---|---|---|---|---|\n",
       "| 1 | CRIM        |  -0.4458472 |  -0.4807530 |   0.7997685 |  -0.4807530 |  -0.3977322 | \n",
       "| 2 | ZN          |  -0.4280688 |  -0.4472136 |   0.2551150 |  -0.4472136 |  -0.4016791 | \n",
       "| 3 | INDUS       |  -2.0659492 |  -2.1051549 |  -0.6668891 |  -2.1051549 |  -2.0119070 | \n",
       "| 5 | NOX         |  -4.4432272 |  -6.9744584 |  85.8839376 |  -6.9744584 |  -0.9541167 | \n",
       "| 6 | RM          | -18.2705004 | -18.8645226 |   2.9272209 | -18.8645226 | -17.4516859 | \n",
       "| 7 | AGE         |  -1.6482592 |  -1.6543597 |  -1.4305612 |  -1.6543597 |  -1.6398500 | \n",
       "| 8 | DIS         |  -1.5974362 |  -1.6788353 |   1.3072934 |  -1.6788353 |  -1.4852339 | \n",
       "| 9 | RAD         |  -1.0717516 |  -1.0941532 |  -0.2723490 |  -1.0941532 |  -1.0408727 | \n",
       "| 10 | TAX         |  -2.5426900 |  -2.5438576 |  -2.5010261 |  -2.5438576 |  -2.5410807 | \n",
       "| 11 | PTRATIO     | -18.6237253 | -18.8118034 | -11.9121452 | -18.8118034 | -18.3644739 | \n",
       "| 12 | B           |  -1.9358517 |  -1.9369836 |  -1.8954587 |  -1.9369836 |  -1.9342914 | \n",
       "| 13 | LSTAT       |  -2.9189800 |  -2.9620031 |  -1.3836995 |  -2.9620031 |  -2.8596760 | \n",
       "| 14 | MEDV        |  -3.5040840 |  -3.5391330 |  -2.2533596 |  -3.5391330 |  -3.4557717 | \n",
       "\n",
       "\n"
      ],
      "text/plain": [
       "   features 47          251         494         114         427        \n",
       "1  CRIM      -0.4458472  -0.4807530   0.7997685  -0.4807530  -0.3977322\n",
       "2  ZN        -0.4280688  -0.4472136   0.2551150  -0.4472136  -0.4016791\n",
       "3  INDUS     -2.0659492  -2.1051549  -0.6668891  -2.1051549  -2.0119070\n",
       "5  NOX       -4.4432272  -6.9744584  85.8839376  -6.9744584  -0.9541167\n",
       "6  RM       -18.2705004 -18.8645226   2.9272209 -18.8645226 -17.4516859\n",
       "7  AGE       -1.6482592  -1.6543597  -1.4305612  -1.6543597  -1.6398500\n",
       "8  DIS       -1.5974362  -1.6788353   1.3072934  -1.6788353  -1.4852339\n",
       "9  RAD       -1.0717516  -1.0941532  -0.2723490  -1.0941532  -1.0408727\n",
       "10 TAX       -2.5426900  -2.5438576  -2.5010261  -2.5438576  -2.5410807\n",
       "11 PTRATIO  -18.6237253 -18.8118034 -11.9121452 -18.8118034 -18.3644739\n",
       "12 B         -1.9358517  -1.9369836  -1.8954587  -1.9369836  -1.9342914\n",
       "13 LSTAT     -2.9189800  -2.9620031  -1.3836995  -2.9620031  -2.8596760\n",
       "14 MEDV      -3.5040840  -3.5391330  -2.2533596  -3.5391330  -3.4557717"
      ]
     },
     "metadata": {},
     "output_type": "display_data"
    }
   ],
   "source": [
    "# remove `CHAS`\n",
    "a <- a[-4,]\n",
    "a"
   ]
  },
  {
   "cell_type": "code",
   "execution_count": 18,
   "metadata": {},
   "outputs": [
    {
     "name": "stderr",
     "output_type": "stream",
     "text": [
      "Using features as id variables\n"
     ]
    },
    {
     "data": {},
     "metadata": {},
     "output_type": "display_data"
    },
    {
     "data": {
      "image/png": "[encoded data removed]",
      "text/plain": [
       "plot without title"
      ]
     },
     "metadata": {},
     "output_type": "display_data"
    }
   ],
   "source": [
    "a <- melt(a)\n",
    "ggplot(a, aes(x=features, y=variable)) + \n",
    "    geom_tile(aes(fill=value)) +\n",
    "    scale_fill_gradient(low=\"yellow\", high=\"skyblue\")"
   ]
  },
  {
   "cell_type": "markdown",
   "metadata": {},
   "source": [
    "The heatmap for the Z-scores is not particularly descriptive since there are outliers with very large Z-scores."
   ]
  },
  {
   "cell_type": "markdown",
   "metadata": {},
   "source": [
    "### Comparing Values\n",
    "\n",
    "Before scaling our data to Z-scores, we can not compare values across categories (different means and standard deviations). Ex: we cannot compare ages with proportions, since they are not in the same scale.\n",
    "\n",
    "However, by taking the Z-score of the sample, we can compare each feature of the sample since they now have means around 0, and standard deviations of 1. This places each feature on the same scale. "
   ]
  },
  {
   "cell_type": "code",
   "execution_count": null,
   "metadata": {},
   "outputs": [],
   "source": []
  },
  {
   "cell_type": "code",
   "execution_count": null,
   "metadata": {},
   "outputs": [],
   "source": []
  }
 ],
 "metadata": {
  "kernelspec": {
   "display_name": "R",
   "language": "R",
   "name": "ir"
  },
  "language_info": {
   "codemirror_mode": "r",
   "file_extension": ".r",
   "mimetype": "text/x-r-source",
   "name": "R",
   "pygments_lexer": "r",
   "version": "3.3.2"
  }
 },
 "nbformat": 4,
 "nbformat_minor": 2
}
